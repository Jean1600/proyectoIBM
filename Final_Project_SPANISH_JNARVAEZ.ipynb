{
 "cells": [
  {
   "cell_type": "markdown",
   "id": "18e1c76e",
   "metadata": {
    "id": "18e1c76e"
   },
   "source": [
    "<center><h1>Proyecto final</h1></center>\n",
    "<center><h3>IBM SkillsBuild Europa - Análisis de datos</h3></center>"
   ]
  },
  {
   "cell_type": "markdown",
   "id": "a1da0855-2619-41fc-842e-3870f1daf9e8",
   "metadata": {},
   "source": [
    "### NOMBRE: Jeanneth Narváez\n",
    "### EMAIL: jeannarvaez@hotmail.com"
   ]
  },
  {
   "cell_type": "markdown",
   "id": "ccdda504",
   "metadata": {
    "id": "ccdda504"
   },
   "source": [
    "# Requisitos\n",
    "\n",
    "\n",
    "\n",
    "* Conocimientos de Python, Power BI o Tableau.\n",
    "* Comprensión de la limpieza de datos.\n",
    "* Comprensión de la visualización de datos.\n",
    "\n",
    "\n",
    "\n",
    "#### Nivel de ejercicio: Intermedio\n",
    "\n",
    "\n",
    "\n",
    "#### Duración: aproximadamente 3 horas\n"
   ]
  },
  {
   "cell_type": "markdown",
   "id": "1dd097a8",
   "metadata": {
    "id": "1dd097a8"
   },
   "source": [
    "### Análisis de datos de Airbnb:\n",
    "\n",
    "\n",
    "\n",
    "#### Objetivo:\n",
    "\n",
    "\n",
    "\n",
    "En este ejercicio, practicarás el análisis de datos sobre un conjunto de datos abiertos procedentes de Airbnb. Algunas de las tareas incluyen:\n",
    "\n",
    "- limpieza de datos,\n",
    "- transformación de datos y\n",
    "- visualización de datos.\n",
    "\n",
    "\n",
    "\n",
    "#### Resumen sobre los datos de Airbnb:\n",
    "\n",
    "\n",
    "\n",
    "Los criterios principales de la gente cuando visita lugares nuevos son contar con alojamiento y comida a precios razonables. Airbnb (Air-Bed-Breakfast) es un mercado en línea creado para satisfacer esta necesidad, pues permite a la gente alquilar sus casas durante plazos cortos. Estos servicios se ofrecen a un precio relativamente inferior al de los hoteles y en diversas ubicaciones geográficas. Además, personas de todo el mundo prefieren el servicio hogareño y económico.\n",
    "\n",
    "\n",
    "\n",
    "#### Fuente de los datos\n",
    "\n",
    "\n",
    "\n",
    "Puedes obtener el <i>dataset</i> para realizar este proyecto en el siguiente enlace: https://www.kaggle.com/datasets/arianazmoudeh/airbnbopendata\n",
    "\n",
    "\n",
    "\n",
    "Este <i>dataset</i> contiene información sobre los alojamientos, tal como el barrio, el tipo de habitación, el precio, la disponibilidad, las opiniones, los gastos de servicio, la política de cancelación y las normas de uso de la casa.\n",
    "\n",
    "\n",
    "\n",
    "¡Te deseamos lo mejor en tu análisis de los datos de Airbnb!"
   ]
  },
  {
   "cell_type": "markdown",
   "id": "87iYmshDK853",
   "metadata": {
    "id": "87iYmshDK853"
   },
   "source": [
    "## Tarea 1: Carga de datos (Python)\n",
    "\n",
    "\n",
    "\n",
    "1. Lee el fichero csv y cárgarlo en un <i>dataframe</i> de pandas.\n",
    "2. Visualiza las cinco primeras filas de tu <i>dataframe</i>.\n",
    "3. Visualize los tipos de datos de las columnas."
   ]
  },
  {
   "cell_type": "code",
   "execution_count": 1,
   "id": "-ikKZ3bYK856",
   "metadata": {
    "colab": {
     "base_uri": "https://localhost:8080/"
    },
    "id": "-ikKZ3bYK856",
    "outputId": "0fd1e6f4-5cc2-48c4-ca98-00f86050a6e8"
   },
   "outputs": [],
   "source": [
    "## Lee el fichero csv.\n",
    "\n",
    "import pandas as pd\n",
    "df = pd.read_csv('C:\\\\Users\\\\jeann\\\\OneDrive\\\\Escritorio\\\\Airbnb.csv', low_memory=False)\n"
   ]
  },
  {
   "cell_type": "code",
   "execution_count": 2,
   "id": "6d397f9d-220f-431f-86c8-fbdef21996a6",
   "metadata": {},
   "outputs": [
    {
     "data": {
      "text/html": [
       "<div>\n",
       "<style scoped>\n",
       "    .dataframe tbody tr th:only-of-type {\n",
       "        vertical-align: middle;\n",
       "    }\n",
       "\n",
       "    .dataframe tbody tr th {\n",
       "        vertical-align: top;\n",
       "    }\n",
       "\n",
       "    .dataframe thead th {\n",
       "        text-align: right;\n",
       "    }\n",
       "</style>\n",
       "<table border=\"1\" class=\"dataframe\">\n",
       "  <thead>\n",
       "    <tr style=\"text-align: right;\">\n",
       "      <th></th>\n",
       "      <th>id</th>\n",
       "      <th>NAME</th>\n",
       "      <th>host id</th>\n",
       "      <th>host_identity_verified</th>\n",
       "      <th>host name</th>\n",
       "      <th>neighbourhood group</th>\n",
       "      <th>neighbourhood</th>\n",
       "      <th>lat</th>\n",
       "      <th>long</th>\n",
       "      <th>country</th>\n",
       "      <th>...</th>\n",
       "      <th>service fee</th>\n",
       "      <th>minimum nights</th>\n",
       "      <th>number of reviews</th>\n",
       "      <th>last review</th>\n",
       "      <th>reviews per month</th>\n",
       "      <th>review rate number</th>\n",
       "      <th>calculated host listings count</th>\n",
       "      <th>availability 365</th>\n",
       "      <th>house_rules</th>\n",
       "      <th>license</th>\n",
       "    </tr>\n",
       "  </thead>\n",
       "  <tbody>\n",
       "    <tr>\n",
       "      <th>0</th>\n",
       "      <td>1001254</td>\n",
       "      <td>Clean &amp; quiet apt home by the park</td>\n",
       "      <td>80014485718</td>\n",
       "      <td>unconfirmed</td>\n",
       "      <td>Madaline</td>\n",
       "      <td>Brooklyn</td>\n",
       "      <td>Kensington</td>\n",
       "      <td>40.64749</td>\n",
       "      <td>-73.97237</td>\n",
       "      <td>United States</td>\n",
       "      <td>...</td>\n",
       "      <td>$193</td>\n",
       "      <td>10.0</td>\n",
       "      <td>9.0</td>\n",
       "      <td>10/19/2021</td>\n",
       "      <td>0.21</td>\n",
       "      <td>4.0</td>\n",
       "      <td>6.0</td>\n",
       "      <td>286.0</td>\n",
       "      <td>Clean up and treat the home the way you'd like...</td>\n",
       "      <td>NaN</td>\n",
       "    </tr>\n",
       "    <tr>\n",
       "      <th>1</th>\n",
       "      <td>1002102</td>\n",
       "      <td>Skylit Midtown Castle</td>\n",
       "      <td>52335172823</td>\n",
       "      <td>verified</td>\n",
       "      <td>Jenna</td>\n",
       "      <td>Manhattan</td>\n",
       "      <td>Midtown</td>\n",
       "      <td>40.75362</td>\n",
       "      <td>-73.98377</td>\n",
       "      <td>United States</td>\n",
       "      <td>...</td>\n",
       "      <td>$28</td>\n",
       "      <td>30.0</td>\n",
       "      <td>45.0</td>\n",
       "      <td>5/21/2022</td>\n",
       "      <td>0.38</td>\n",
       "      <td>4.0</td>\n",
       "      <td>2.0</td>\n",
       "      <td>228.0</td>\n",
       "      <td>Pet friendly but please confirm with me if the...</td>\n",
       "      <td>NaN</td>\n",
       "    </tr>\n",
       "    <tr>\n",
       "      <th>2</th>\n",
       "      <td>1002403</td>\n",
       "      <td>THE VILLAGE OF HARLEM....NEW YORK !</td>\n",
       "      <td>78829239556</td>\n",
       "      <td>NaN</td>\n",
       "      <td>Elise</td>\n",
       "      <td>Manhattan</td>\n",
       "      <td>Harlem</td>\n",
       "      <td>40.80902</td>\n",
       "      <td>-73.94190</td>\n",
       "      <td>United States</td>\n",
       "      <td>...</td>\n",
       "      <td>$124</td>\n",
       "      <td>3.0</td>\n",
       "      <td>0.0</td>\n",
       "      <td>NaN</td>\n",
       "      <td>NaN</td>\n",
       "      <td>5.0</td>\n",
       "      <td>1.0</td>\n",
       "      <td>352.0</td>\n",
       "      <td>I encourage you to use my kitchen, cooking and...</td>\n",
       "      <td>NaN</td>\n",
       "    </tr>\n",
       "    <tr>\n",
       "      <th>3</th>\n",
       "      <td>1002755</td>\n",
       "      <td>NaN</td>\n",
       "      <td>85098326012</td>\n",
       "      <td>unconfirmed</td>\n",
       "      <td>Garry</td>\n",
       "      <td>Brooklyn</td>\n",
       "      <td>Clinton Hill</td>\n",
       "      <td>40.68514</td>\n",
       "      <td>-73.95976</td>\n",
       "      <td>United States</td>\n",
       "      <td>...</td>\n",
       "      <td>$74</td>\n",
       "      <td>30.0</td>\n",
       "      <td>270.0</td>\n",
       "      <td>7/5/2019</td>\n",
       "      <td>4.64</td>\n",
       "      <td>4.0</td>\n",
       "      <td>1.0</td>\n",
       "      <td>322.0</td>\n",
       "      <td>NaN</td>\n",
       "      <td>NaN</td>\n",
       "    </tr>\n",
       "    <tr>\n",
       "      <th>4</th>\n",
       "      <td>1003689</td>\n",
       "      <td>Entire Apt: Spacious Studio/Loft by central park</td>\n",
       "      <td>92037596077</td>\n",
       "      <td>verified</td>\n",
       "      <td>Lyndon</td>\n",
       "      <td>Manhattan</td>\n",
       "      <td>East Harlem</td>\n",
       "      <td>40.79851</td>\n",
       "      <td>-73.94399</td>\n",
       "      <td>United States</td>\n",
       "      <td>...</td>\n",
       "      <td>$41</td>\n",
       "      <td>10.0</td>\n",
       "      <td>9.0</td>\n",
       "      <td>11/19/2018</td>\n",
       "      <td>0.10</td>\n",
       "      <td>3.0</td>\n",
       "      <td>1.0</td>\n",
       "      <td>289.0</td>\n",
       "      <td>Please no smoking in the house, porch or on th...</td>\n",
       "      <td>NaN</td>\n",
       "    </tr>\n",
       "    <tr>\n",
       "      <th>...</th>\n",
       "      <td>...</td>\n",
       "      <td>...</td>\n",
       "      <td>...</td>\n",
       "      <td>...</td>\n",
       "      <td>...</td>\n",
       "      <td>...</td>\n",
       "      <td>...</td>\n",
       "      <td>...</td>\n",
       "      <td>...</td>\n",
       "      <td>...</td>\n",
       "      <td>...</td>\n",
       "      <td>...</td>\n",
       "      <td>...</td>\n",
       "      <td>...</td>\n",
       "      <td>...</td>\n",
       "      <td>...</td>\n",
       "      <td>...</td>\n",
       "      <td>...</td>\n",
       "      <td>...</td>\n",
       "      <td>...</td>\n",
       "      <td>...</td>\n",
       "    </tr>\n",
       "    <tr>\n",
       "      <th>102594</th>\n",
       "      <td>6092437</td>\n",
       "      <td>Spare room in Williamsburg</td>\n",
       "      <td>12312296767</td>\n",
       "      <td>verified</td>\n",
       "      <td>Krik</td>\n",
       "      <td>Brooklyn</td>\n",
       "      <td>Williamsburg</td>\n",
       "      <td>40.70862</td>\n",
       "      <td>-73.94651</td>\n",
       "      <td>United States</td>\n",
       "      <td>...</td>\n",
       "      <td>$169</td>\n",
       "      <td>1.0</td>\n",
       "      <td>0.0</td>\n",
       "      <td>NaN</td>\n",
       "      <td>NaN</td>\n",
       "      <td>3.0</td>\n",
       "      <td>1.0</td>\n",
       "      <td>227.0</td>\n",
       "      <td>No Smoking No Parties or Events of any kind Pl...</td>\n",
       "      <td>NaN</td>\n",
       "    </tr>\n",
       "    <tr>\n",
       "      <th>102595</th>\n",
       "      <td>6092990</td>\n",
       "      <td>Best Location near Columbia U</td>\n",
       "      <td>77864383453</td>\n",
       "      <td>unconfirmed</td>\n",
       "      <td>Mifan</td>\n",
       "      <td>Manhattan</td>\n",
       "      <td>Morningside Heights</td>\n",
       "      <td>40.80460</td>\n",
       "      <td>-73.96545</td>\n",
       "      <td>United States</td>\n",
       "      <td>...</td>\n",
       "      <td>$167</td>\n",
       "      <td>1.0</td>\n",
       "      <td>1.0</td>\n",
       "      <td>7/6/2015</td>\n",
       "      <td>0.02</td>\n",
       "      <td>2.0</td>\n",
       "      <td>2.0</td>\n",
       "      <td>395.0</td>\n",
       "      <td>House rules: Guests agree to the following ter...</td>\n",
       "      <td>NaN</td>\n",
       "    </tr>\n",
       "    <tr>\n",
       "      <th>102596</th>\n",
       "      <td>6093542</td>\n",
       "      <td>Comfy, bright room in Brooklyn</td>\n",
       "      <td>69050334417</td>\n",
       "      <td>unconfirmed</td>\n",
       "      <td>Megan</td>\n",
       "      <td>Brooklyn</td>\n",
       "      <td>Park Slope</td>\n",
       "      <td>40.67505</td>\n",
       "      <td>-73.98045</td>\n",
       "      <td>United States</td>\n",
       "      <td>...</td>\n",
       "      <td>$198</td>\n",
       "      <td>3.0</td>\n",
       "      <td>0.0</td>\n",
       "      <td>NaN</td>\n",
       "      <td>NaN</td>\n",
       "      <td>5.0</td>\n",
       "      <td>1.0</td>\n",
       "      <td>342.0</td>\n",
       "      <td>NaN</td>\n",
       "      <td>NaN</td>\n",
       "    </tr>\n",
       "    <tr>\n",
       "      <th>102597</th>\n",
       "      <td>6094094</td>\n",
       "      <td>Big Studio-One Stop from Midtown</td>\n",
       "      <td>11160591270</td>\n",
       "      <td>unconfirmed</td>\n",
       "      <td>Christopher</td>\n",
       "      <td>Queens</td>\n",
       "      <td>Long Island City</td>\n",
       "      <td>40.74989</td>\n",
       "      <td>-73.93777</td>\n",
       "      <td>United States</td>\n",
       "      <td>...</td>\n",
       "      <td>$109</td>\n",
       "      <td>2.0</td>\n",
       "      <td>5.0</td>\n",
       "      <td>10/11/2015</td>\n",
       "      <td>0.10</td>\n",
       "      <td>3.0</td>\n",
       "      <td>1.0</td>\n",
       "      <td>386.0</td>\n",
       "      <td>NaN</td>\n",
       "      <td>NaN</td>\n",
       "    </tr>\n",
       "    <tr>\n",
       "      <th>102598</th>\n",
       "      <td>6094647</td>\n",
       "      <td>585 sf Luxury Studio</td>\n",
       "      <td>68170633372</td>\n",
       "      <td>unconfirmed</td>\n",
       "      <td>Rebecca</td>\n",
       "      <td>Manhattan</td>\n",
       "      <td>Upper West Side</td>\n",
       "      <td>40.76807</td>\n",
       "      <td>-73.98342</td>\n",
       "      <td>United States</td>\n",
       "      <td>...</td>\n",
       "      <td>$206</td>\n",
       "      <td>1.0</td>\n",
       "      <td>0.0</td>\n",
       "      <td>NaN</td>\n",
       "      <td>NaN</td>\n",
       "      <td>3.0</td>\n",
       "      <td>1.0</td>\n",
       "      <td>69.0</td>\n",
       "      <td>NaN</td>\n",
       "      <td>NaN</td>\n",
       "    </tr>\n",
       "  </tbody>\n",
       "</table>\n",
       "<p>102599 rows × 26 columns</p>\n",
       "</div>"
      ],
      "text/plain": [
       "             id                                              NAME  \\\n",
       "0       1001254                Clean & quiet apt home by the park   \n",
       "1       1002102                             Skylit Midtown Castle   \n",
       "2       1002403               THE VILLAGE OF HARLEM....NEW YORK !   \n",
       "3       1002755                                               NaN   \n",
       "4       1003689  Entire Apt: Spacious Studio/Loft by central park   \n",
       "...         ...                                               ...   \n",
       "102594  6092437                        Spare room in Williamsburg   \n",
       "102595  6092990                     Best Location near Columbia U   \n",
       "102596  6093542                    Comfy, bright room in Brooklyn   \n",
       "102597  6094094                  Big Studio-One Stop from Midtown   \n",
       "102598  6094647                              585 sf Luxury Studio   \n",
       "\n",
       "            host id host_identity_verified    host name neighbourhood group  \\\n",
       "0       80014485718            unconfirmed     Madaline            Brooklyn   \n",
       "1       52335172823               verified        Jenna           Manhattan   \n",
       "2       78829239556                    NaN        Elise           Manhattan   \n",
       "3       85098326012            unconfirmed        Garry            Brooklyn   \n",
       "4       92037596077               verified       Lyndon           Manhattan   \n",
       "...             ...                    ...          ...                 ...   \n",
       "102594  12312296767               verified         Krik            Brooklyn   \n",
       "102595  77864383453            unconfirmed        Mifan           Manhattan   \n",
       "102596  69050334417            unconfirmed        Megan            Brooklyn   \n",
       "102597  11160591270            unconfirmed  Christopher              Queens   \n",
       "102598  68170633372            unconfirmed      Rebecca           Manhattan   \n",
       "\n",
       "              neighbourhood       lat      long        country  ...  \\\n",
       "0                Kensington  40.64749 -73.97237  United States  ...   \n",
       "1                   Midtown  40.75362 -73.98377  United States  ...   \n",
       "2                    Harlem  40.80902 -73.94190  United States  ...   \n",
       "3              Clinton Hill  40.68514 -73.95976  United States  ...   \n",
       "4               East Harlem  40.79851 -73.94399  United States  ...   \n",
       "...                     ...       ...       ...            ...  ...   \n",
       "102594         Williamsburg  40.70862 -73.94651  United States  ...   \n",
       "102595  Morningside Heights  40.80460 -73.96545  United States  ...   \n",
       "102596           Park Slope  40.67505 -73.98045  United States  ...   \n",
       "102597     Long Island City  40.74989 -73.93777  United States  ...   \n",
       "102598      Upper West Side  40.76807 -73.98342  United States  ...   \n",
       "\n",
       "       service fee minimum nights number of reviews last review  \\\n",
       "0            $193            10.0               9.0  10/19/2021   \n",
       "1             $28            30.0              45.0   5/21/2022   \n",
       "2            $124             3.0               0.0         NaN   \n",
       "3             $74            30.0             270.0    7/5/2019   \n",
       "4             $41            10.0               9.0  11/19/2018   \n",
       "...            ...            ...               ...         ...   \n",
       "102594       $169             1.0               0.0         NaN   \n",
       "102595       $167             1.0               1.0    7/6/2015   \n",
       "102596       $198             3.0               0.0         NaN   \n",
       "102597       $109             2.0               5.0  10/11/2015   \n",
       "102598       $206             1.0               0.0         NaN   \n",
       "\n",
       "        reviews per month review rate number calculated host listings count  \\\n",
       "0                    0.21                4.0                            6.0   \n",
       "1                    0.38                4.0                            2.0   \n",
       "2                     NaN                5.0                            1.0   \n",
       "3                    4.64                4.0                            1.0   \n",
       "4                    0.10                3.0                            1.0   \n",
       "...                   ...                ...                            ...   \n",
       "102594                NaN                3.0                            1.0   \n",
       "102595               0.02                2.0                            2.0   \n",
       "102596                NaN                5.0                            1.0   \n",
       "102597               0.10                3.0                            1.0   \n",
       "102598                NaN                3.0                            1.0   \n",
       "\n",
       "        availability 365                                        house_rules  \\\n",
       "0                  286.0  Clean up and treat the home the way you'd like...   \n",
       "1                  228.0  Pet friendly but please confirm with me if the...   \n",
       "2                  352.0  I encourage you to use my kitchen, cooking and...   \n",
       "3                  322.0                                                NaN   \n",
       "4                  289.0  Please no smoking in the house, porch or on th...   \n",
       "...                  ...                                                ...   \n",
       "102594             227.0  No Smoking No Parties or Events of any kind Pl...   \n",
       "102595             395.0  House rules: Guests agree to the following ter...   \n",
       "102596             342.0                                                NaN   \n",
       "102597             386.0                                                NaN   \n",
       "102598              69.0                                                NaN   \n",
       "\n",
       "       license  \n",
       "0          NaN  \n",
       "1          NaN  \n",
       "2          NaN  \n",
       "3          NaN  \n",
       "4          NaN  \n",
       "...        ...  \n",
       "102594     NaN  \n",
       "102595     NaN  \n",
       "102596     NaN  \n",
       "102597     NaN  \n",
       "102598     NaN  \n",
       "\n",
       "[102599 rows x 26 columns]"
      ]
     },
     "execution_count": 2,
     "metadata": {},
     "output_type": "execute_result"
    }
   ],
   "source": [
    "df"
   ]
  },
  {
   "cell_type": "code",
   "execution_count": 3,
   "id": "3113cf84-3da2-4a72-822b-c0ce718a6c73",
   "metadata": {},
   "outputs": [
    {
     "data": {
      "text/html": [
       "<div>\n",
       "<style scoped>\n",
       "    .dataframe tbody tr th:only-of-type {\n",
       "        vertical-align: middle;\n",
       "    }\n",
       "\n",
       "    .dataframe tbody tr th {\n",
       "        vertical-align: top;\n",
       "    }\n",
       "\n",
       "    .dataframe thead th {\n",
       "        text-align: right;\n",
       "    }\n",
       "</style>\n",
       "<table border=\"1\" class=\"dataframe\">\n",
       "  <thead>\n",
       "    <tr style=\"text-align: right;\">\n",
       "      <th></th>\n",
       "      <th>id</th>\n",
       "      <th>NAME</th>\n",
       "      <th>host id</th>\n",
       "      <th>host_identity_verified</th>\n",
       "      <th>host name</th>\n",
       "      <th>neighbourhood group</th>\n",
       "      <th>neighbourhood</th>\n",
       "      <th>lat</th>\n",
       "      <th>long</th>\n",
       "      <th>country</th>\n",
       "      <th>...</th>\n",
       "      <th>service fee</th>\n",
       "      <th>minimum nights</th>\n",
       "      <th>number of reviews</th>\n",
       "      <th>last review</th>\n",
       "      <th>reviews per month</th>\n",
       "      <th>review rate number</th>\n",
       "      <th>calculated host listings count</th>\n",
       "      <th>availability 365</th>\n",
       "      <th>house_rules</th>\n",
       "      <th>license</th>\n",
       "    </tr>\n",
       "  </thead>\n",
       "  <tbody>\n",
       "    <tr>\n",
       "      <th>0</th>\n",
       "      <td>1001254</td>\n",
       "      <td>Clean &amp; quiet apt home by the park</td>\n",
       "      <td>80014485718</td>\n",
       "      <td>unconfirmed</td>\n",
       "      <td>Madaline</td>\n",
       "      <td>Brooklyn</td>\n",
       "      <td>Kensington</td>\n",
       "      <td>40.64749</td>\n",
       "      <td>-73.97237</td>\n",
       "      <td>United States</td>\n",
       "      <td>...</td>\n",
       "      <td>$193</td>\n",
       "      <td>10.0</td>\n",
       "      <td>9.0</td>\n",
       "      <td>10/19/2021</td>\n",
       "      <td>0.21</td>\n",
       "      <td>4.0</td>\n",
       "      <td>6.0</td>\n",
       "      <td>286.0</td>\n",
       "      <td>Clean up and treat the home the way you'd like...</td>\n",
       "      <td>NaN</td>\n",
       "    </tr>\n",
       "    <tr>\n",
       "      <th>1</th>\n",
       "      <td>1002102</td>\n",
       "      <td>Skylit Midtown Castle</td>\n",
       "      <td>52335172823</td>\n",
       "      <td>verified</td>\n",
       "      <td>Jenna</td>\n",
       "      <td>Manhattan</td>\n",
       "      <td>Midtown</td>\n",
       "      <td>40.75362</td>\n",
       "      <td>-73.98377</td>\n",
       "      <td>United States</td>\n",
       "      <td>...</td>\n",
       "      <td>$28</td>\n",
       "      <td>30.0</td>\n",
       "      <td>45.0</td>\n",
       "      <td>5/21/2022</td>\n",
       "      <td>0.38</td>\n",
       "      <td>4.0</td>\n",
       "      <td>2.0</td>\n",
       "      <td>228.0</td>\n",
       "      <td>Pet friendly but please confirm with me if the...</td>\n",
       "      <td>NaN</td>\n",
       "    </tr>\n",
       "    <tr>\n",
       "      <th>2</th>\n",
       "      <td>1002403</td>\n",
       "      <td>THE VILLAGE OF HARLEM....NEW YORK !</td>\n",
       "      <td>78829239556</td>\n",
       "      <td>NaN</td>\n",
       "      <td>Elise</td>\n",
       "      <td>Manhattan</td>\n",
       "      <td>Harlem</td>\n",
       "      <td>40.80902</td>\n",
       "      <td>-73.94190</td>\n",
       "      <td>United States</td>\n",
       "      <td>...</td>\n",
       "      <td>$124</td>\n",
       "      <td>3.0</td>\n",
       "      <td>0.0</td>\n",
       "      <td>NaN</td>\n",
       "      <td>NaN</td>\n",
       "      <td>5.0</td>\n",
       "      <td>1.0</td>\n",
       "      <td>352.0</td>\n",
       "      <td>I encourage you to use my kitchen, cooking and...</td>\n",
       "      <td>NaN</td>\n",
       "    </tr>\n",
       "    <tr>\n",
       "      <th>3</th>\n",
       "      <td>1002755</td>\n",
       "      <td>NaN</td>\n",
       "      <td>85098326012</td>\n",
       "      <td>unconfirmed</td>\n",
       "      <td>Garry</td>\n",
       "      <td>Brooklyn</td>\n",
       "      <td>Clinton Hill</td>\n",
       "      <td>40.68514</td>\n",
       "      <td>-73.95976</td>\n",
       "      <td>United States</td>\n",
       "      <td>...</td>\n",
       "      <td>$74</td>\n",
       "      <td>30.0</td>\n",
       "      <td>270.0</td>\n",
       "      <td>7/5/2019</td>\n",
       "      <td>4.64</td>\n",
       "      <td>4.0</td>\n",
       "      <td>1.0</td>\n",
       "      <td>322.0</td>\n",
       "      <td>NaN</td>\n",
       "      <td>NaN</td>\n",
       "    </tr>\n",
       "    <tr>\n",
       "      <th>4</th>\n",
       "      <td>1003689</td>\n",
       "      <td>Entire Apt: Spacious Studio/Loft by central park</td>\n",
       "      <td>92037596077</td>\n",
       "      <td>verified</td>\n",
       "      <td>Lyndon</td>\n",
       "      <td>Manhattan</td>\n",
       "      <td>East Harlem</td>\n",
       "      <td>40.79851</td>\n",
       "      <td>-73.94399</td>\n",
       "      <td>United States</td>\n",
       "      <td>...</td>\n",
       "      <td>$41</td>\n",
       "      <td>10.0</td>\n",
       "      <td>9.0</td>\n",
       "      <td>11/19/2018</td>\n",
       "      <td>0.10</td>\n",
       "      <td>3.0</td>\n",
       "      <td>1.0</td>\n",
       "      <td>289.0</td>\n",
       "      <td>Please no smoking in the house, porch or on th...</td>\n",
       "      <td>NaN</td>\n",
       "    </tr>\n",
       "  </tbody>\n",
       "</table>\n",
       "<p>5 rows × 26 columns</p>\n",
       "</div>"
      ],
      "text/plain": [
       "        id                                              NAME      host id  \\\n",
       "0  1001254                Clean & quiet apt home by the park  80014485718   \n",
       "1  1002102                             Skylit Midtown Castle  52335172823   \n",
       "2  1002403               THE VILLAGE OF HARLEM....NEW YORK !  78829239556   \n",
       "3  1002755                                               NaN  85098326012   \n",
       "4  1003689  Entire Apt: Spacious Studio/Loft by central park  92037596077   \n",
       "\n",
       "  host_identity_verified host name neighbourhood group neighbourhood  \\\n",
       "0            unconfirmed  Madaline            Brooklyn    Kensington   \n",
       "1               verified     Jenna           Manhattan       Midtown   \n",
       "2                    NaN     Elise           Manhattan        Harlem   \n",
       "3            unconfirmed     Garry            Brooklyn  Clinton Hill   \n",
       "4               verified    Lyndon           Manhattan   East Harlem   \n",
       "\n",
       "        lat      long        country  ... service fee minimum nights  \\\n",
       "0  40.64749 -73.97237  United States  ...       $193            10.0   \n",
       "1  40.75362 -73.98377  United States  ...        $28            30.0   \n",
       "2  40.80902 -73.94190  United States  ...       $124             3.0   \n",
       "3  40.68514 -73.95976  United States  ...        $74            30.0   \n",
       "4  40.79851 -73.94399  United States  ...        $41            10.0   \n",
       "\n",
       "  number of reviews last review  reviews per month review rate number  \\\n",
       "0               9.0  10/19/2021               0.21                4.0   \n",
       "1              45.0   5/21/2022               0.38                4.0   \n",
       "2               0.0         NaN                NaN                5.0   \n",
       "3             270.0    7/5/2019               4.64                4.0   \n",
       "4               9.0  11/19/2018               0.10                3.0   \n",
       "\n",
       "  calculated host listings count  availability 365  \\\n",
       "0                            6.0             286.0   \n",
       "1                            2.0             228.0   \n",
       "2                            1.0             352.0   \n",
       "3                            1.0             322.0   \n",
       "4                            1.0             289.0   \n",
       "\n",
       "                                         house_rules license  \n",
       "0  Clean up and treat the home the way you'd like...     NaN  \n",
       "1  Pet friendly but please confirm with me if the...     NaN  \n",
       "2  I encourage you to use my kitchen, cooking and...     NaN  \n",
       "3                                                NaN     NaN  \n",
       "4  Please no smoking in the house, porch or on th...     NaN  \n",
       "\n",
       "[5 rows x 26 columns]"
      ]
     },
     "execution_count": 3,
     "metadata": {},
     "output_type": "execute_result"
    }
   ],
   "source": [
    "## Muestra las primeras 5 filas.\n",
    "\n",
    "df.head()"
   ]
  },
  {
   "cell_type": "code",
   "execution_count": 4,
   "id": "dfb01403-adc5-4ef4-8c5a-4c754ab12986",
   "metadata": {},
   "outputs": [
    {
     "data": {
      "text/plain": [
       "id                                  int64\n",
       "NAME                               object\n",
       "host id                             int64\n",
       "host_identity_verified             object\n",
       "host name                          object\n",
       "neighbourhood group                object\n",
       "neighbourhood                      object\n",
       "lat                               float64\n",
       "long                              float64\n",
       "country                            object\n",
       "country code                       object\n",
       "instant_bookable                   object\n",
       "cancellation_policy                object\n",
       "room type                          object\n",
       "Construction year                 float64\n",
       "price                              object\n",
       "service fee                        object\n",
       "minimum nights                    float64\n",
       "number of reviews                 float64\n",
       "last review                        object\n",
       "reviews per month                 float64\n",
       "review rate number                float64\n",
       "calculated host listings count    float64\n",
       "availability 365                  float64\n",
       "house_rules                        object\n",
       "license                            object\n",
       "dtype: object"
      ]
     },
     "execution_count": 4,
     "metadata": {},
     "output_type": "execute_result"
    }
   ],
   "source": [
    "## Muestra los tipos de datos.\n",
    "df.dtypes\n"
   ]
  },
  {
   "cell_type": "code",
   "execution_count": 5,
   "id": "18737718-8ebd-4e41-a65d-8d92f45b6331",
   "metadata": {},
   "outputs": [
    {
     "name": "stdout",
     "output_type": "stream",
     "text": [
      "<class 'pandas.core.frame.DataFrame'>\n",
      "RangeIndex: 102599 entries, 0 to 102598\n",
      "Data columns (total 26 columns):\n",
      " #   Column                          Non-Null Count   Dtype  \n",
      "---  ------                          --------------   -----  \n",
      " 0   id                              102599 non-null  int64  \n",
      " 1   NAME                            102349 non-null  object \n",
      " 2   host id                         102599 non-null  int64  \n",
      " 3   host_identity_verified          102310 non-null  object \n",
      " 4   host name                       102193 non-null  object \n",
      " 5   neighbourhood group             102570 non-null  object \n",
      " 6   neighbourhood                   102583 non-null  object \n",
      " 7   lat                             102591 non-null  float64\n",
      " 8   long                            102591 non-null  float64\n",
      " 9   country                         102067 non-null  object \n",
      " 10  country code                    102468 non-null  object \n",
      " 11  instant_bookable                102494 non-null  object \n",
      " 12  cancellation_policy             102523 non-null  object \n",
      " 13  room type                       102599 non-null  object \n",
      " 14  Construction year               102385 non-null  float64\n",
      " 15  price                           102352 non-null  object \n",
      " 16  service fee                     102326 non-null  object \n",
      " 17  minimum nights                  102190 non-null  float64\n",
      " 18  number of reviews               102416 non-null  float64\n",
      " 19  last review                     86706 non-null   object \n",
      " 20  reviews per month               86720 non-null   float64\n",
      " 21  review rate number              102273 non-null  float64\n",
      " 22  calculated host listings count  102280 non-null  float64\n",
      " 23  availability 365                102151 non-null  float64\n",
      " 24  house_rules                     50468 non-null   object \n",
      " 25  license                         2 non-null       object \n",
      "dtypes: float64(9), int64(2), object(15)\n",
      "memory usage: 20.4+ MB\n"
     ]
    }
   ],
   "source": [
    "df.info()"
   ]
  },
  {
   "cell_type": "markdown",
   "id": "cAkB_QvkK859",
   "metadata": {
    "id": "cAkB_QvkK859"
   },
   "source": [
    "## Tarea 2a: Limpieza de datos (cualquier herramienta)\n",
    "\n",
    "\n",
    "1. Elimina las columnas no deseadas del <i>dataframe</i>, entre ellas se incluyen `host id`, `id`, `country` y `country code`.\n",
    "2. Indica la razón por la cual se han eliminado estas columnas para tu análisis de datos.\n",
    "\n",
    "\n",
    "Si utilizas Python para este ejercicio, incluye el código que hayas utilizado en las celdas siguientes. Si utilizas cualquier otra herramienta, incluye capturas de pantalla tomadas antes y después de eliminar las columnas."
   ]
  },
  {
   "cell_type": "code",
   "execution_count": 6,
   "id": "3031c974-2634-4e95-b703-21d24cd856bc",
   "metadata": {},
   "outputs": [
    {
     "data": {
      "text/plain": [
       "Index(['id', 'NAME', 'host id', 'host_identity_verified', 'host name',\n",
       "       'neighbourhood group', 'neighbourhood', 'lat', 'long', 'country',\n",
       "       'country code', 'instant_bookable', 'cancellation_policy', 'room type',\n",
       "       'Construction year', 'price', 'service fee', 'minimum nights',\n",
       "       'number of reviews', 'last review', 'reviews per month',\n",
       "       'review rate number', 'calculated host listings count',\n",
       "       'availability 365', 'house_rules', 'license'],\n",
       "      dtype='object')"
      ]
     },
     "execution_count": 6,
     "metadata": {},
     "output_type": "execute_result"
    }
   ],
   "source": [
    "df.columns"
   ]
  },
  {
   "cell_type": "code",
   "execution_count": 7,
   "id": "13bea585-a237-46b7-9822-845123143410",
   "metadata": {},
   "outputs": [],
   "source": [
    "# Renombra algunas columnas para que tengan el nombre sin separación de espacios.\n",
    "df.rename(columns={'host id': 'host_id', 'country code': 'country_code'}, inplace=True)"
   ]
  },
  {
   "cell_type": "code",
   "execution_count": 8,
   "id": "0f02abe9-c69f-4e5c-8a05-6f92461aaa15",
   "metadata": {},
   "outputs": [
    {
     "data": {
      "text/plain": [
       "Index(['id', 'NAME', 'host_id', 'host_identity_verified', 'host name',\n",
       "       'neighbourhood group', 'neighbourhood', 'lat', 'long', 'country',\n",
       "       'country_code', 'instant_bookable', 'cancellation_policy', 'room type',\n",
       "       'Construction year', 'price', 'service fee', 'minimum nights',\n",
       "       'number of reviews', 'last review', 'reviews per month',\n",
       "       'review rate number', 'calculated host listings count',\n",
       "       'availability 365', 'house_rules', 'license'],\n",
       "      dtype='object')"
      ]
     },
     "execution_count": 8,
     "metadata": {},
     "output_type": "execute_result"
    }
   ],
   "source": [
    "df.columns"
   ]
  },
  {
   "cell_type": "markdown",
   "id": "f7a31e63-1471-45a7-ab26-a550d7db59ce",
   "metadata": {
    "id": "KT7j4a5CMf48"
   },
   "source": [
    "### 1. Elimina las columnas no deseadas del dataframe, entre ellas se incluyen host id, id, country y country code."
   ]
  },
  {
   "cell_type": "code",
   "execution_count": 9,
   "id": "d0b62621-ffba-4551-b57a-8cedd80fb10e",
   "metadata": {},
   "outputs": [
    {
     "data": {
      "text/html": [
       "<div>\n",
       "<style scoped>\n",
       "    .dataframe tbody tr th:only-of-type {\n",
       "        vertical-align: middle;\n",
       "    }\n",
       "\n",
       "    .dataframe tbody tr th {\n",
       "        vertical-align: top;\n",
       "    }\n",
       "\n",
       "    .dataframe thead th {\n",
       "        text-align: right;\n",
       "    }\n",
       "</style>\n",
       "<table border=\"1\" class=\"dataframe\">\n",
       "  <thead>\n",
       "    <tr style=\"text-align: right;\">\n",
       "      <th></th>\n",
       "      <th>NAME</th>\n",
       "      <th>host_identity_verified</th>\n",
       "      <th>host name</th>\n",
       "      <th>neighbourhood group</th>\n",
       "      <th>neighbourhood</th>\n",
       "      <th>lat</th>\n",
       "      <th>long</th>\n",
       "      <th>instant_bookable</th>\n",
       "      <th>cancellation_policy</th>\n",
       "      <th>room type</th>\n",
       "      <th>...</th>\n",
       "      <th>service fee</th>\n",
       "      <th>minimum nights</th>\n",
       "      <th>number of reviews</th>\n",
       "      <th>last review</th>\n",
       "      <th>reviews per month</th>\n",
       "      <th>review rate number</th>\n",
       "      <th>calculated host listings count</th>\n",
       "      <th>availability 365</th>\n",
       "      <th>house_rules</th>\n",
       "      <th>license</th>\n",
       "    </tr>\n",
       "  </thead>\n",
       "  <tbody>\n",
       "    <tr>\n",
       "      <th>0</th>\n",
       "      <td>Clean &amp; quiet apt home by the park</td>\n",
       "      <td>unconfirmed</td>\n",
       "      <td>Madaline</td>\n",
       "      <td>Brooklyn</td>\n",
       "      <td>Kensington</td>\n",
       "      <td>40.64749</td>\n",
       "      <td>-73.97237</td>\n",
       "      <td>False</td>\n",
       "      <td>strict</td>\n",
       "      <td>Private room</td>\n",
       "      <td>...</td>\n",
       "      <td>$193</td>\n",
       "      <td>10.0</td>\n",
       "      <td>9.0</td>\n",
       "      <td>10/19/2021</td>\n",
       "      <td>0.21</td>\n",
       "      <td>4.0</td>\n",
       "      <td>6.0</td>\n",
       "      <td>286.0</td>\n",
       "      <td>Clean up and treat the home the way you'd like...</td>\n",
       "      <td>NaN</td>\n",
       "    </tr>\n",
       "    <tr>\n",
       "      <th>1</th>\n",
       "      <td>Skylit Midtown Castle</td>\n",
       "      <td>verified</td>\n",
       "      <td>Jenna</td>\n",
       "      <td>Manhattan</td>\n",
       "      <td>Midtown</td>\n",
       "      <td>40.75362</td>\n",
       "      <td>-73.98377</td>\n",
       "      <td>False</td>\n",
       "      <td>moderate</td>\n",
       "      <td>Entire home/apt</td>\n",
       "      <td>...</td>\n",
       "      <td>$28</td>\n",
       "      <td>30.0</td>\n",
       "      <td>45.0</td>\n",
       "      <td>5/21/2022</td>\n",
       "      <td>0.38</td>\n",
       "      <td>4.0</td>\n",
       "      <td>2.0</td>\n",
       "      <td>228.0</td>\n",
       "      <td>Pet friendly but please confirm with me if the...</td>\n",
       "      <td>NaN</td>\n",
       "    </tr>\n",
       "    <tr>\n",
       "      <th>2</th>\n",
       "      <td>THE VILLAGE OF HARLEM....NEW YORK !</td>\n",
       "      <td>NaN</td>\n",
       "      <td>Elise</td>\n",
       "      <td>Manhattan</td>\n",
       "      <td>Harlem</td>\n",
       "      <td>40.80902</td>\n",
       "      <td>-73.94190</td>\n",
       "      <td>True</td>\n",
       "      <td>flexible</td>\n",
       "      <td>Private room</td>\n",
       "      <td>...</td>\n",
       "      <td>$124</td>\n",
       "      <td>3.0</td>\n",
       "      <td>0.0</td>\n",
       "      <td>NaN</td>\n",
       "      <td>NaN</td>\n",
       "      <td>5.0</td>\n",
       "      <td>1.0</td>\n",
       "      <td>352.0</td>\n",
       "      <td>I encourage you to use my kitchen, cooking and...</td>\n",
       "      <td>NaN</td>\n",
       "    </tr>\n",
       "    <tr>\n",
       "      <th>3</th>\n",
       "      <td>NaN</td>\n",
       "      <td>unconfirmed</td>\n",
       "      <td>Garry</td>\n",
       "      <td>Brooklyn</td>\n",
       "      <td>Clinton Hill</td>\n",
       "      <td>40.68514</td>\n",
       "      <td>-73.95976</td>\n",
       "      <td>True</td>\n",
       "      <td>moderate</td>\n",
       "      <td>Entire home/apt</td>\n",
       "      <td>...</td>\n",
       "      <td>$74</td>\n",
       "      <td>30.0</td>\n",
       "      <td>270.0</td>\n",
       "      <td>7/5/2019</td>\n",
       "      <td>4.64</td>\n",
       "      <td>4.0</td>\n",
       "      <td>1.0</td>\n",
       "      <td>322.0</td>\n",
       "      <td>NaN</td>\n",
       "      <td>NaN</td>\n",
       "    </tr>\n",
       "    <tr>\n",
       "      <th>4</th>\n",
       "      <td>Entire Apt: Spacious Studio/Loft by central park</td>\n",
       "      <td>verified</td>\n",
       "      <td>Lyndon</td>\n",
       "      <td>Manhattan</td>\n",
       "      <td>East Harlem</td>\n",
       "      <td>40.79851</td>\n",
       "      <td>-73.94399</td>\n",
       "      <td>False</td>\n",
       "      <td>moderate</td>\n",
       "      <td>Entire home/apt</td>\n",
       "      <td>...</td>\n",
       "      <td>$41</td>\n",
       "      <td>10.0</td>\n",
       "      <td>9.0</td>\n",
       "      <td>11/19/2018</td>\n",
       "      <td>0.10</td>\n",
       "      <td>3.0</td>\n",
       "      <td>1.0</td>\n",
       "      <td>289.0</td>\n",
       "      <td>Please no smoking in the house, porch or on th...</td>\n",
       "      <td>NaN</td>\n",
       "    </tr>\n",
       "    <tr>\n",
       "      <th>...</th>\n",
       "      <td>...</td>\n",
       "      <td>...</td>\n",
       "      <td>...</td>\n",
       "      <td>...</td>\n",
       "      <td>...</td>\n",
       "      <td>...</td>\n",
       "      <td>...</td>\n",
       "      <td>...</td>\n",
       "      <td>...</td>\n",
       "      <td>...</td>\n",
       "      <td>...</td>\n",
       "      <td>...</td>\n",
       "      <td>...</td>\n",
       "      <td>...</td>\n",
       "      <td>...</td>\n",
       "      <td>...</td>\n",
       "      <td>...</td>\n",
       "      <td>...</td>\n",
       "      <td>...</td>\n",
       "      <td>...</td>\n",
       "      <td>...</td>\n",
       "    </tr>\n",
       "    <tr>\n",
       "      <th>102594</th>\n",
       "      <td>Spare room in Williamsburg</td>\n",
       "      <td>verified</td>\n",
       "      <td>Krik</td>\n",
       "      <td>Brooklyn</td>\n",
       "      <td>Williamsburg</td>\n",
       "      <td>40.70862</td>\n",
       "      <td>-73.94651</td>\n",
       "      <td>False</td>\n",
       "      <td>flexible</td>\n",
       "      <td>Private room</td>\n",
       "      <td>...</td>\n",
       "      <td>$169</td>\n",
       "      <td>1.0</td>\n",
       "      <td>0.0</td>\n",
       "      <td>NaN</td>\n",
       "      <td>NaN</td>\n",
       "      <td>3.0</td>\n",
       "      <td>1.0</td>\n",
       "      <td>227.0</td>\n",
       "      <td>No Smoking No Parties or Events of any kind Pl...</td>\n",
       "      <td>NaN</td>\n",
       "    </tr>\n",
       "    <tr>\n",
       "      <th>102595</th>\n",
       "      <td>Best Location near Columbia U</td>\n",
       "      <td>unconfirmed</td>\n",
       "      <td>Mifan</td>\n",
       "      <td>Manhattan</td>\n",
       "      <td>Morningside Heights</td>\n",
       "      <td>40.80460</td>\n",
       "      <td>-73.96545</td>\n",
       "      <td>True</td>\n",
       "      <td>moderate</td>\n",
       "      <td>Private room</td>\n",
       "      <td>...</td>\n",
       "      <td>$167</td>\n",
       "      <td>1.0</td>\n",
       "      <td>1.0</td>\n",
       "      <td>7/6/2015</td>\n",
       "      <td>0.02</td>\n",
       "      <td>2.0</td>\n",
       "      <td>2.0</td>\n",
       "      <td>395.0</td>\n",
       "      <td>House rules: Guests agree to the following ter...</td>\n",
       "      <td>NaN</td>\n",
       "    </tr>\n",
       "    <tr>\n",
       "      <th>102596</th>\n",
       "      <td>Comfy, bright room in Brooklyn</td>\n",
       "      <td>unconfirmed</td>\n",
       "      <td>Megan</td>\n",
       "      <td>Brooklyn</td>\n",
       "      <td>Park Slope</td>\n",
       "      <td>40.67505</td>\n",
       "      <td>-73.98045</td>\n",
       "      <td>True</td>\n",
       "      <td>moderate</td>\n",
       "      <td>Private room</td>\n",
       "      <td>...</td>\n",
       "      <td>$198</td>\n",
       "      <td>3.0</td>\n",
       "      <td>0.0</td>\n",
       "      <td>NaN</td>\n",
       "      <td>NaN</td>\n",
       "      <td>5.0</td>\n",
       "      <td>1.0</td>\n",
       "      <td>342.0</td>\n",
       "      <td>NaN</td>\n",
       "      <td>NaN</td>\n",
       "    </tr>\n",
       "    <tr>\n",
       "      <th>102597</th>\n",
       "      <td>Big Studio-One Stop from Midtown</td>\n",
       "      <td>unconfirmed</td>\n",
       "      <td>Christopher</td>\n",
       "      <td>Queens</td>\n",
       "      <td>Long Island City</td>\n",
       "      <td>40.74989</td>\n",
       "      <td>-73.93777</td>\n",
       "      <td>True</td>\n",
       "      <td>strict</td>\n",
       "      <td>Entire home/apt</td>\n",
       "      <td>...</td>\n",
       "      <td>$109</td>\n",
       "      <td>2.0</td>\n",
       "      <td>5.0</td>\n",
       "      <td>10/11/2015</td>\n",
       "      <td>0.10</td>\n",
       "      <td>3.0</td>\n",
       "      <td>1.0</td>\n",
       "      <td>386.0</td>\n",
       "      <td>NaN</td>\n",
       "      <td>NaN</td>\n",
       "    </tr>\n",
       "    <tr>\n",
       "      <th>102598</th>\n",
       "      <td>585 sf Luxury Studio</td>\n",
       "      <td>unconfirmed</td>\n",
       "      <td>Rebecca</td>\n",
       "      <td>Manhattan</td>\n",
       "      <td>Upper West Side</td>\n",
       "      <td>40.76807</td>\n",
       "      <td>-73.98342</td>\n",
       "      <td>False</td>\n",
       "      <td>flexible</td>\n",
       "      <td>Entire home/apt</td>\n",
       "      <td>...</td>\n",
       "      <td>$206</td>\n",
       "      <td>1.0</td>\n",
       "      <td>0.0</td>\n",
       "      <td>NaN</td>\n",
       "      <td>NaN</td>\n",
       "      <td>3.0</td>\n",
       "      <td>1.0</td>\n",
       "      <td>69.0</td>\n",
       "      <td>NaN</td>\n",
       "      <td>NaN</td>\n",
       "    </tr>\n",
       "  </tbody>\n",
       "</table>\n",
       "<p>102599 rows × 22 columns</p>\n",
       "</div>"
      ],
      "text/plain": [
       "                                                    NAME  \\\n",
       "0                     Clean & quiet apt home by the park   \n",
       "1                                  Skylit Midtown Castle   \n",
       "2                    THE VILLAGE OF HARLEM....NEW YORK !   \n",
       "3                                                    NaN   \n",
       "4       Entire Apt: Spacious Studio/Loft by central park   \n",
       "...                                                  ...   \n",
       "102594                        Spare room in Williamsburg   \n",
       "102595                     Best Location near Columbia U   \n",
       "102596                    Comfy, bright room in Brooklyn   \n",
       "102597                  Big Studio-One Stop from Midtown   \n",
       "102598                              585 sf Luxury Studio   \n",
       "\n",
       "       host_identity_verified    host name neighbourhood group  \\\n",
       "0                 unconfirmed     Madaline            Brooklyn   \n",
       "1                    verified        Jenna           Manhattan   \n",
       "2                         NaN        Elise           Manhattan   \n",
       "3                 unconfirmed        Garry            Brooklyn   \n",
       "4                    verified       Lyndon           Manhattan   \n",
       "...                       ...          ...                 ...   \n",
       "102594               verified         Krik            Brooklyn   \n",
       "102595            unconfirmed        Mifan           Manhattan   \n",
       "102596            unconfirmed        Megan            Brooklyn   \n",
       "102597            unconfirmed  Christopher              Queens   \n",
       "102598            unconfirmed      Rebecca           Manhattan   \n",
       "\n",
       "              neighbourhood       lat      long instant_bookable  \\\n",
       "0                Kensington  40.64749 -73.97237            False   \n",
       "1                   Midtown  40.75362 -73.98377            False   \n",
       "2                    Harlem  40.80902 -73.94190             True   \n",
       "3              Clinton Hill  40.68514 -73.95976             True   \n",
       "4               East Harlem  40.79851 -73.94399            False   \n",
       "...                     ...       ...       ...              ...   \n",
       "102594         Williamsburg  40.70862 -73.94651            False   \n",
       "102595  Morningside Heights  40.80460 -73.96545             True   \n",
       "102596           Park Slope  40.67505 -73.98045             True   \n",
       "102597     Long Island City  40.74989 -73.93777             True   \n",
       "102598      Upper West Side  40.76807 -73.98342            False   \n",
       "\n",
       "       cancellation_policy        room type  ...  service fee minimum nights  \\\n",
       "0                   strict     Private room  ...        $193            10.0   \n",
       "1                 moderate  Entire home/apt  ...         $28            30.0   \n",
       "2                 flexible     Private room  ...        $124             3.0   \n",
       "3                 moderate  Entire home/apt  ...         $74            30.0   \n",
       "4                 moderate  Entire home/apt  ...         $41            10.0   \n",
       "...                    ...              ...  ...          ...            ...   \n",
       "102594            flexible     Private room  ...        $169             1.0   \n",
       "102595            moderate     Private room  ...        $167             1.0   \n",
       "102596            moderate     Private room  ...        $198             3.0   \n",
       "102597              strict  Entire home/apt  ...        $109             2.0   \n",
       "102598            flexible  Entire home/apt  ...        $206             1.0   \n",
       "\n",
       "       number of reviews  last review  reviews per month review rate number  \\\n",
       "0                    9.0   10/19/2021               0.21                4.0   \n",
       "1                   45.0    5/21/2022               0.38                4.0   \n",
       "2                    0.0          NaN                NaN                5.0   \n",
       "3                  270.0     7/5/2019               4.64                4.0   \n",
       "4                    9.0   11/19/2018               0.10                3.0   \n",
       "...                  ...          ...                ...                ...   \n",
       "102594               0.0          NaN                NaN                3.0   \n",
       "102595               1.0     7/6/2015               0.02                2.0   \n",
       "102596               0.0          NaN                NaN                5.0   \n",
       "102597               5.0   10/11/2015               0.10                3.0   \n",
       "102598               0.0          NaN                NaN                3.0   \n",
       "\n",
       "        calculated host listings count  availability 365  \\\n",
       "0                                  6.0             286.0   \n",
       "1                                  2.0             228.0   \n",
       "2                                  1.0             352.0   \n",
       "3                                  1.0             322.0   \n",
       "4                                  1.0             289.0   \n",
       "...                                ...               ...   \n",
       "102594                             1.0             227.0   \n",
       "102595                             2.0             395.0   \n",
       "102596                             1.0             342.0   \n",
       "102597                             1.0             386.0   \n",
       "102598                             1.0              69.0   \n",
       "\n",
       "                                              house_rules  license  \n",
       "0       Clean up and treat the home the way you'd like...      NaN  \n",
       "1       Pet friendly but please confirm with me if the...      NaN  \n",
       "2       I encourage you to use my kitchen, cooking and...      NaN  \n",
       "3                                                     NaN      NaN  \n",
       "4       Please no smoking in the house, porch or on th...      NaN  \n",
       "...                                                   ...      ...  \n",
       "102594  No Smoking No Parties or Events of any kind Pl...      NaN  \n",
       "102595  House rules: Guests agree to the following ter...      NaN  \n",
       "102596                                                NaN      NaN  \n",
       "102597                                                NaN      NaN  \n",
       "102598                                                NaN      NaN  \n",
       "\n",
       "[102599 rows x 22 columns]"
      ]
     },
     "execution_count": 9,
     "metadata": {},
     "output_type": "execute_result"
    }
   ],
   "source": [
    "df.drop(columns=[\"id\", \"host_id\", \"country_code\", \"country\"], axis=1)  # axis =1 es en columnas"
   ]
  },
  {
   "cell_type": "code",
   "execution_count": 10,
   "id": "46e91fc5-5de4-40b2-b5a4-58728746ed9f",
   "metadata": {},
   "outputs": [],
   "source": [
    "df1=df.drop(columns=[\"id\", \"host_id\", \"country_code\", \"country\"], axis=1)"
   ]
  },
  {
   "cell_type": "code",
   "execution_count": 11,
   "id": "90573d11-3e61-40d8-96c5-467f4eea8f5c",
   "metadata": {},
   "outputs": [
    {
     "data": {
      "text/plain": [
       "Index(['NAME', 'host_identity_verified', 'host name', 'neighbourhood group',\n",
       "       'neighbourhood', 'lat', 'long', 'instant_bookable',\n",
       "       'cancellation_policy', 'room type', 'Construction year', 'price',\n",
       "       'service fee', 'minimum nights', 'number of reviews', 'last review',\n",
       "       'reviews per month', 'review rate number',\n",
       "       'calculated host listings count', 'availability 365', 'house_rules',\n",
       "       'license'],\n",
       "      dtype='object')"
      ]
     },
     "execution_count": 11,
     "metadata": {},
     "output_type": "execute_result"
    }
   ],
   "source": [
    "df1.columns"
   ]
  },
  {
   "cell_type": "code",
   "execution_count": 12,
   "id": "86619748-0156-49d2-833d-14ad3ce87a15",
   "metadata": {},
   "outputs": [
    {
     "data": {
      "text/html": [
       "<div>\n",
       "<style scoped>\n",
       "    .dataframe tbody tr th:only-of-type {\n",
       "        vertical-align: middle;\n",
       "    }\n",
       "\n",
       "    .dataframe tbody tr th {\n",
       "        vertical-align: top;\n",
       "    }\n",
       "\n",
       "    .dataframe thead th {\n",
       "        text-align: right;\n",
       "    }\n",
       "</style>\n",
       "<table border=\"1\" class=\"dataframe\">\n",
       "  <thead>\n",
       "    <tr style=\"text-align: right;\">\n",
       "      <th></th>\n",
       "      <th>NAME</th>\n",
       "      <th>host_identity_verified</th>\n",
       "      <th>host name</th>\n",
       "      <th>neighbourhood group</th>\n",
       "      <th>neighbourhood</th>\n",
       "      <th>lat</th>\n",
       "      <th>long</th>\n",
       "      <th>instant_bookable</th>\n",
       "      <th>cancellation_policy</th>\n",
       "      <th>room type</th>\n",
       "      <th>...</th>\n",
       "      <th>service fee</th>\n",
       "      <th>minimum nights</th>\n",
       "      <th>number of reviews</th>\n",
       "      <th>last review</th>\n",
       "      <th>reviews per month</th>\n",
       "      <th>review rate number</th>\n",
       "      <th>calculated host listings count</th>\n",
       "      <th>availability 365</th>\n",
       "      <th>house_rules</th>\n",
       "      <th>license</th>\n",
       "    </tr>\n",
       "  </thead>\n",
       "  <tbody>\n",
       "    <tr>\n",
       "      <th>0</th>\n",
       "      <td>Clean &amp; quiet apt home by the park</td>\n",
       "      <td>unconfirmed</td>\n",
       "      <td>Madaline</td>\n",
       "      <td>Brooklyn</td>\n",
       "      <td>Kensington</td>\n",
       "      <td>40.64749</td>\n",
       "      <td>-73.97237</td>\n",
       "      <td>False</td>\n",
       "      <td>strict</td>\n",
       "      <td>Private room</td>\n",
       "      <td>...</td>\n",
       "      <td>$193</td>\n",
       "      <td>10.0</td>\n",
       "      <td>9.0</td>\n",
       "      <td>10/19/2021</td>\n",
       "      <td>0.21</td>\n",
       "      <td>4.0</td>\n",
       "      <td>6.0</td>\n",
       "      <td>286.0</td>\n",
       "      <td>Clean up and treat the home the way you'd like...</td>\n",
       "      <td>NaN</td>\n",
       "    </tr>\n",
       "    <tr>\n",
       "      <th>1</th>\n",
       "      <td>Skylit Midtown Castle</td>\n",
       "      <td>verified</td>\n",
       "      <td>Jenna</td>\n",
       "      <td>Manhattan</td>\n",
       "      <td>Midtown</td>\n",
       "      <td>40.75362</td>\n",
       "      <td>-73.98377</td>\n",
       "      <td>False</td>\n",
       "      <td>moderate</td>\n",
       "      <td>Entire home/apt</td>\n",
       "      <td>...</td>\n",
       "      <td>$28</td>\n",
       "      <td>30.0</td>\n",
       "      <td>45.0</td>\n",
       "      <td>5/21/2022</td>\n",
       "      <td>0.38</td>\n",
       "      <td>4.0</td>\n",
       "      <td>2.0</td>\n",
       "      <td>228.0</td>\n",
       "      <td>Pet friendly but please confirm with me if the...</td>\n",
       "      <td>NaN</td>\n",
       "    </tr>\n",
       "    <tr>\n",
       "      <th>2</th>\n",
       "      <td>THE VILLAGE OF HARLEM....NEW YORK !</td>\n",
       "      <td>NaN</td>\n",
       "      <td>Elise</td>\n",
       "      <td>Manhattan</td>\n",
       "      <td>Harlem</td>\n",
       "      <td>40.80902</td>\n",
       "      <td>-73.94190</td>\n",
       "      <td>True</td>\n",
       "      <td>flexible</td>\n",
       "      <td>Private room</td>\n",
       "      <td>...</td>\n",
       "      <td>$124</td>\n",
       "      <td>3.0</td>\n",
       "      <td>0.0</td>\n",
       "      <td>NaN</td>\n",
       "      <td>NaN</td>\n",
       "      <td>5.0</td>\n",
       "      <td>1.0</td>\n",
       "      <td>352.0</td>\n",
       "      <td>I encourage you to use my kitchen, cooking and...</td>\n",
       "      <td>NaN</td>\n",
       "    </tr>\n",
       "    <tr>\n",
       "      <th>3</th>\n",
       "      <td>NaN</td>\n",
       "      <td>unconfirmed</td>\n",
       "      <td>Garry</td>\n",
       "      <td>Brooklyn</td>\n",
       "      <td>Clinton Hill</td>\n",
       "      <td>40.68514</td>\n",
       "      <td>-73.95976</td>\n",
       "      <td>True</td>\n",
       "      <td>moderate</td>\n",
       "      <td>Entire home/apt</td>\n",
       "      <td>...</td>\n",
       "      <td>$74</td>\n",
       "      <td>30.0</td>\n",
       "      <td>270.0</td>\n",
       "      <td>7/5/2019</td>\n",
       "      <td>4.64</td>\n",
       "      <td>4.0</td>\n",
       "      <td>1.0</td>\n",
       "      <td>322.0</td>\n",
       "      <td>NaN</td>\n",
       "      <td>NaN</td>\n",
       "    </tr>\n",
       "    <tr>\n",
       "      <th>4</th>\n",
       "      <td>Entire Apt: Spacious Studio/Loft by central park</td>\n",
       "      <td>verified</td>\n",
       "      <td>Lyndon</td>\n",
       "      <td>Manhattan</td>\n",
       "      <td>East Harlem</td>\n",
       "      <td>40.79851</td>\n",
       "      <td>-73.94399</td>\n",
       "      <td>False</td>\n",
       "      <td>moderate</td>\n",
       "      <td>Entire home/apt</td>\n",
       "      <td>...</td>\n",
       "      <td>$41</td>\n",
       "      <td>10.0</td>\n",
       "      <td>9.0</td>\n",
       "      <td>11/19/2018</td>\n",
       "      <td>0.10</td>\n",
       "      <td>3.0</td>\n",
       "      <td>1.0</td>\n",
       "      <td>289.0</td>\n",
       "      <td>Please no smoking in the house, porch or on th...</td>\n",
       "      <td>NaN</td>\n",
       "    </tr>\n",
       "  </tbody>\n",
       "</table>\n",
       "<p>5 rows × 22 columns</p>\n",
       "</div>"
      ],
      "text/plain": [
       "                                               NAME host_identity_verified  \\\n",
       "0                Clean & quiet apt home by the park            unconfirmed   \n",
       "1                             Skylit Midtown Castle               verified   \n",
       "2               THE VILLAGE OF HARLEM....NEW YORK !                    NaN   \n",
       "3                                               NaN            unconfirmed   \n",
       "4  Entire Apt: Spacious Studio/Loft by central park               verified   \n",
       "\n",
       "  host name neighbourhood group neighbourhood       lat      long  \\\n",
       "0  Madaline            Brooklyn    Kensington  40.64749 -73.97237   \n",
       "1     Jenna           Manhattan       Midtown  40.75362 -73.98377   \n",
       "2     Elise           Manhattan        Harlem  40.80902 -73.94190   \n",
       "3     Garry            Brooklyn  Clinton Hill  40.68514 -73.95976   \n",
       "4    Lyndon           Manhattan   East Harlem  40.79851 -73.94399   \n",
       "\n",
       "  instant_bookable cancellation_policy        room type  ...  service fee  \\\n",
       "0            False              strict     Private room  ...        $193    \n",
       "1            False            moderate  Entire home/apt  ...         $28    \n",
       "2             True            flexible     Private room  ...        $124    \n",
       "3             True            moderate  Entire home/apt  ...         $74    \n",
       "4            False            moderate  Entire home/apt  ...         $41    \n",
       "\n",
       "  minimum nights number of reviews  last review  reviews per month  \\\n",
       "0           10.0               9.0   10/19/2021               0.21   \n",
       "1           30.0              45.0    5/21/2022               0.38   \n",
       "2            3.0               0.0          NaN                NaN   \n",
       "3           30.0             270.0     7/5/2019               4.64   \n",
       "4           10.0               9.0   11/19/2018               0.10   \n",
       "\n",
       "  review rate number  calculated host listings count  availability 365  \\\n",
       "0                4.0                             6.0             286.0   \n",
       "1                4.0                             2.0             228.0   \n",
       "2                5.0                             1.0             352.0   \n",
       "3                4.0                             1.0             322.0   \n",
       "4                3.0                             1.0             289.0   \n",
       "\n",
       "                                         house_rules  license  \n",
       "0  Clean up and treat the home the way you'd like...      NaN  \n",
       "1  Pet friendly but please confirm with me if the...      NaN  \n",
       "2  I encourage you to use my kitchen, cooking and...      NaN  \n",
       "3                                                NaN      NaN  \n",
       "4  Please no smoking in the house, porch or on th...      NaN  \n",
       "\n",
       "[5 rows x 22 columns]"
      ]
     },
     "execution_count": 12,
     "metadata": {},
     "output_type": "execute_result"
    }
   ],
   "source": [
    "df1.head()"
   ]
  },
  {
   "cell_type": "markdown",
   "id": "0eb9d12b-d825-4661-8e23-caa05592d645",
   "metadata": {
    "id": "wSPnZ8ia12TV"
   },
   "source": [
    "Eliminamos la columna \"license \" porque tal como muestra en al aplicar en df.info() , la columna license  tiene sólo 2 valores no nulos y también crea algunos no deseados."
   ]
  },
  {
   "cell_type": "code",
   "execution_count": 13,
   "id": "32cc8bea-5a93-4a10-8f3a-b73e98ab8089",
   "metadata": {},
   "outputs": [],
   "source": [
    "df2=df1.drop(\"license\", axis=1)"
   ]
  },
  {
   "cell_type": "code",
   "execution_count": 14,
   "id": "f6dc78b7-4252-4b1c-94f8-cfad687a74ae",
   "metadata": {},
   "outputs": [
    {
     "data": {
      "text/plain": [
       "Index(['NAME', 'host_identity_verified', 'host name', 'neighbourhood group',\n",
       "       'neighbourhood', 'lat', 'long', 'instant_bookable',\n",
       "       'cancellation_policy', 'room type', 'Construction year', 'price',\n",
       "       'service fee', 'minimum nights', 'number of reviews', 'last review',\n",
       "       'reviews per month', 'review rate number',\n",
       "       'calculated host listings count', 'availability 365', 'house_rules'],\n",
       "      dtype='object')"
      ]
     },
     "execution_count": 14,
     "metadata": {},
     "output_type": "execute_result"
    }
   ],
   "source": [
    "df2.columns"
   ]
  },
  {
   "cell_type": "code",
   "execution_count": 15,
   "id": "8f0994e8-ddf3-42f5-8d3b-c043a83f8f63",
   "metadata": {},
   "outputs": [
    {
     "data": {
      "text/html": [
       "<div>\n",
       "<style scoped>\n",
       "    .dataframe tbody tr th:only-of-type {\n",
       "        vertical-align: middle;\n",
       "    }\n",
       "\n",
       "    .dataframe tbody tr th {\n",
       "        vertical-align: top;\n",
       "    }\n",
       "\n",
       "    .dataframe thead th {\n",
       "        text-align: right;\n",
       "    }\n",
       "</style>\n",
       "<table border=\"1\" class=\"dataframe\">\n",
       "  <thead>\n",
       "    <tr style=\"text-align: right;\">\n",
       "      <th></th>\n",
       "      <th>NAME</th>\n",
       "      <th>host_identity_verified</th>\n",
       "      <th>host name</th>\n",
       "      <th>neighbourhood group</th>\n",
       "      <th>neighbourhood</th>\n",
       "      <th>lat</th>\n",
       "      <th>long</th>\n",
       "      <th>instant_bookable</th>\n",
       "      <th>cancellation_policy</th>\n",
       "      <th>room type</th>\n",
       "      <th>...</th>\n",
       "      <th>price</th>\n",
       "      <th>service fee</th>\n",
       "      <th>minimum nights</th>\n",
       "      <th>number of reviews</th>\n",
       "      <th>last review</th>\n",
       "      <th>reviews per month</th>\n",
       "      <th>review rate number</th>\n",
       "      <th>calculated host listings count</th>\n",
       "      <th>availability 365</th>\n",
       "      <th>house_rules</th>\n",
       "    </tr>\n",
       "  </thead>\n",
       "  <tbody>\n",
       "    <tr>\n",
       "      <th>0</th>\n",
       "      <td>Clean &amp; quiet apt home by the park</td>\n",
       "      <td>unconfirmed</td>\n",
       "      <td>Madaline</td>\n",
       "      <td>Brooklyn</td>\n",
       "      <td>Kensington</td>\n",
       "      <td>40.64749</td>\n",
       "      <td>-73.97237</td>\n",
       "      <td>False</td>\n",
       "      <td>strict</td>\n",
       "      <td>Private room</td>\n",
       "      <td>...</td>\n",
       "      <td>$966</td>\n",
       "      <td>$193</td>\n",
       "      <td>10.0</td>\n",
       "      <td>9.0</td>\n",
       "      <td>10/19/2021</td>\n",
       "      <td>0.21</td>\n",
       "      <td>4.0</td>\n",
       "      <td>6.0</td>\n",
       "      <td>286.0</td>\n",
       "      <td>Clean up and treat the home the way you'd like...</td>\n",
       "    </tr>\n",
       "    <tr>\n",
       "      <th>1</th>\n",
       "      <td>Skylit Midtown Castle</td>\n",
       "      <td>verified</td>\n",
       "      <td>Jenna</td>\n",
       "      <td>Manhattan</td>\n",
       "      <td>Midtown</td>\n",
       "      <td>40.75362</td>\n",
       "      <td>-73.98377</td>\n",
       "      <td>False</td>\n",
       "      <td>moderate</td>\n",
       "      <td>Entire home/apt</td>\n",
       "      <td>...</td>\n",
       "      <td>$142</td>\n",
       "      <td>$28</td>\n",
       "      <td>30.0</td>\n",
       "      <td>45.0</td>\n",
       "      <td>5/21/2022</td>\n",
       "      <td>0.38</td>\n",
       "      <td>4.0</td>\n",
       "      <td>2.0</td>\n",
       "      <td>228.0</td>\n",
       "      <td>Pet friendly but please confirm with me if the...</td>\n",
       "    </tr>\n",
       "    <tr>\n",
       "      <th>2</th>\n",
       "      <td>THE VILLAGE OF HARLEM....NEW YORK !</td>\n",
       "      <td>NaN</td>\n",
       "      <td>Elise</td>\n",
       "      <td>Manhattan</td>\n",
       "      <td>Harlem</td>\n",
       "      <td>40.80902</td>\n",
       "      <td>-73.94190</td>\n",
       "      <td>True</td>\n",
       "      <td>flexible</td>\n",
       "      <td>Private room</td>\n",
       "      <td>...</td>\n",
       "      <td>$620</td>\n",
       "      <td>$124</td>\n",
       "      <td>3.0</td>\n",
       "      <td>0.0</td>\n",
       "      <td>NaN</td>\n",
       "      <td>NaN</td>\n",
       "      <td>5.0</td>\n",
       "      <td>1.0</td>\n",
       "      <td>352.0</td>\n",
       "      <td>I encourage you to use my kitchen, cooking and...</td>\n",
       "    </tr>\n",
       "    <tr>\n",
       "      <th>3</th>\n",
       "      <td>NaN</td>\n",
       "      <td>unconfirmed</td>\n",
       "      <td>Garry</td>\n",
       "      <td>Brooklyn</td>\n",
       "      <td>Clinton Hill</td>\n",
       "      <td>40.68514</td>\n",
       "      <td>-73.95976</td>\n",
       "      <td>True</td>\n",
       "      <td>moderate</td>\n",
       "      <td>Entire home/apt</td>\n",
       "      <td>...</td>\n",
       "      <td>$368</td>\n",
       "      <td>$74</td>\n",
       "      <td>30.0</td>\n",
       "      <td>270.0</td>\n",
       "      <td>7/5/2019</td>\n",
       "      <td>4.64</td>\n",
       "      <td>4.0</td>\n",
       "      <td>1.0</td>\n",
       "      <td>322.0</td>\n",
       "      <td>NaN</td>\n",
       "    </tr>\n",
       "    <tr>\n",
       "      <th>4</th>\n",
       "      <td>Entire Apt: Spacious Studio/Loft by central park</td>\n",
       "      <td>verified</td>\n",
       "      <td>Lyndon</td>\n",
       "      <td>Manhattan</td>\n",
       "      <td>East Harlem</td>\n",
       "      <td>40.79851</td>\n",
       "      <td>-73.94399</td>\n",
       "      <td>False</td>\n",
       "      <td>moderate</td>\n",
       "      <td>Entire home/apt</td>\n",
       "      <td>...</td>\n",
       "      <td>$204</td>\n",
       "      <td>$41</td>\n",
       "      <td>10.0</td>\n",
       "      <td>9.0</td>\n",
       "      <td>11/19/2018</td>\n",
       "      <td>0.10</td>\n",
       "      <td>3.0</td>\n",
       "      <td>1.0</td>\n",
       "      <td>289.0</td>\n",
       "      <td>Please no smoking in the house, porch or on th...</td>\n",
       "    </tr>\n",
       "  </tbody>\n",
       "</table>\n",
       "<p>5 rows × 21 columns</p>\n",
       "</div>"
      ],
      "text/plain": [
       "                                               NAME host_identity_verified  \\\n",
       "0                Clean & quiet apt home by the park            unconfirmed   \n",
       "1                             Skylit Midtown Castle               verified   \n",
       "2               THE VILLAGE OF HARLEM....NEW YORK !                    NaN   \n",
       "3                                               NaN            unconfirmed   \n",
       "4  Entire Apt: Spacious Studio/Loft by central park               verified   \n",
       "\n",
       "  host name neighbourhood group neighbourhood       lat      long  \\\n",
       "0  Madaline            Brooklyn    Kensington  40.64749 -73.97237   \n",
       "1     Jenna           Manhattan       Midtown  40.75362 -73.98377   \n",
       "2     Elise           Manhattan        Harlem  40.80902 -73.94190   \n",
       "3     Garry            Brooklyn  Clinton Hill  40.68514 -73.95976   \n",
       "4    Lyndon           Manhattan   East Harlem  40.79851 -73.94399   \n",
       "\n",
       "  instant_bookable cancellation_policy        room type  ...  price  \\\n",
       "0            False              strict     Private room  ...  $966    \n",
       "1            False            moderate  Entire home/apt  ...  $142    \n",
       "2             True            flexible     Private room  ...  $620    \n",
       "3             True            moderate  Entire home/apt  ...  $368    \n",
       "4            False            moderate  Entire home/apt  ...  $204    \n",
       "\n",
       "  service fee minimum nights  number of reviews  last review  \\\n",
       "0       $193            10.0                9.0   10/19/2021   \n",
       "1        $28            30.0               45.0    5/21/2022   \n",
       "2       $124             3.0                0.0          NaN   \n",
       "3        $74            30.0              270.0     7/5/2019   \n",
       "4        $41            10.0                9.0   11/19/2018   \n",
       "\n",
       "  reviews per month  review rate number  calculated host listings count  \\\n",
       "0              0.21                 4.0                             6.0   \n",
       "1              0.38                 4.0                             2.0   \n",
       "2               NaN                 5.0                             1.0   \n",
       "3              4.64                 4.0                             1.0   \n",
       "4              0.10                 3.0                             1.0   \n",
       "\n",
       "   availability 365                                        house_rules  \n",
       "0             286.0  Clean up and treat the home the way you'd like...  \n",
       "1             228.0  Pet friendly but please confirm with me if the...  \n",
       "2             352.0  I encourage you to use my kitchen, cooking and...  \n",
       "3             322.0                                                NaN  \n",
       "4             289.0  Please no smoking in the house, porch or on th...  \n",
       "\n",
       "[5 rows x 21 columns]"
      ]
     },
     "execution_count": 15,
     "metadata": {},
     "output_type": "execute_result"
    }
   ],
   "source": [
    "df2.head()"
   ]
  },
  {
   "cell_type": "markdown",
   "id": "3c0be82a-85d1-4c38-8064-2fd5f82b6e15",
   "metadata": {
    "id": "adKwHo3hNDqc"
   },
   "source": [
    "### 2. Indica la razón por la cual se han eliminado estas columnas para tu análisis de datos."
   ]
  },
  {
   "cell_type": "markdown",
   "id": "b2312784-3536-4ac4-9fe8-4d8f0ba4ffa9",
   "metadata": {
    "id": "0DVJu7y6wa26"
   },
   "source": [
    "Se han eliminado las columnas \"id\", \"host_id\", \"country_code\", \"country\" porque no aportan información relevante en el análisis que realizaremos."
   ]
  },
  {
   "cell_type": "code",
   "execution_count": 16,
   "id": "63cd9f9d-9594-4818-97e3-aa2d97794902",
   "metadata": {},
   "outputs": [
    {
     "data": {
      "text/plain": [
       "99.47270441232371"
      ]
     },
     "execution_count": 16,
     "metadata": {},
     "output_type": "execute_result"
    }
   ],
   "source": [
    "# Columna id: El 99,473% de los datos de la columna host_id son únicos, esta columna no será útil, por eso es mejor quitar la columna\n",
    "df[\"id\"].unique().shape[0]/df[\"id\"].shape[0] * 100"
   ]
  },
  {
   "cell_type": "code",
   "execution_count": 17,
   "id": "e1ae132c-1449-4b93-83a0-7aaa36c1cda3",
   "metadata": {},
   "outputs": [
    {
     "data": {
      "text/plain": [
       "99.47172974395461"
      ]
     },
     "execution_count": 17,
     "metadata": {},
     "output_type": "execute_result"
    }
   ],
   "source": [
    "# Columna id  99,472% de los datos de la columna host_id son únicos, esta columna no será útil, por eso es mejor quitar la columna\n",
    "df[\"host_id\"].unique().shape[0]/df[\"host_id\"].shape[0] * 100"
   ]
  },
  {
   "cell_type": "code",
   "execution_count": 18,
   "id": "47c84631-e940-4a36-8bc7-277e59faa620",
   "metadata": {},
   "outputs": [
    {
     "data": {
      "text/plain": [
       "US    102468\n",
       "Name: country_code, dtype: int64"
      ]
     },
     "execution_count": 18,
     "metadata": {},
     "output_type": "execute_result"
    }
   ],
   "source": [
    "# Columna country_code, podemos eliminar esta columna porque no hay variaciones significativas\n",
    "df[\"country_code\"].value_counts()"
   ]
  },
  {
   "cell_type": "code",
   "execution_count": 19,
   "id": "4f4b1c88-780c-41f1-a321-fe361c5017c6",
   "metadata": {},
   "outputs": [
    {
     "data": {
      "text/plain": [
       "United States    102067\n",
       "Name: country, dtype: int64"
      ]
     },
     "execution_count": 19,
     "metadata": {},
     "output_type": "execute_result"
    }
   ],
   "source": [
    "# Columna country,  podemos eliminar esta columna porque no hay variaciones significativas\n",
    "df[\"country\"].value_counts()"
   ]
  },
  {
   "cell_type": "markdown",
   "id": "8v34rhNaK85_",
   "metadata": {
    "id": "8v34rhNaK85_"
   },
   "source": [
    "## Tarea 2b: Limpieza de datos (Python)\n",
    "\n",
    "\n",
    "- Compueba si hay valores nulos y muestra el recuento en orden ascendente. **Si faltan valores, imputa los valores como consideres.**\n",
    "- Comprueba si hay valores duplicados y elimínalos.\n",
    "- Muestra el número total de registros antes y después de eliminar los duplicados."
   ]
  },
  {
   "cell_type": "markdown",
   "id": "30d563e3-b9c5-4c9e-b401-5b17930d3d32",
   "metadata": {
    "id": "wNR92SrINWL0"
   },
   "source": [
    "\n",
    "\n",
    "### Comprueba si hay valores nulos y muestra el recuento en orden ascendente. Si faltan valores, imputa los valores como consideres.\n",
    "\n"
   ]
  },
  {
   "cell_type": "code",
   "execution_count": 20,
   "id": "c8cae6cd-24e8-4e29-87db-c832f5faa8bc",
   "metadata": {},
   "outputs": [
    {
     "data": {
      "text/html": [
       "<div>\n",
       "<style scoped>\n",
       "    .dataframe tbody tr th:only-of-type {\n",
       "        vertical-align: middle;\n",
       "    }\n",
       "\n",
       "    .dataframe tbody tr th {\n",
       "        vertical-align: top;\n",
       "    }\n",
       "\n",
       "    .dataframe thead th {\n",
       "        text-align: right;\n",
       "    }\n",
       "</style>\n",
       "<table border=\"1\" class=\"dataframe\">\n",
       "  <thead>\n",
       "    <tr style=\"text-align: right;\">\n",
       "      <th></th>\n",
       "      <th>NAME</th>\n",
       "      <th>host_identity_verified</th>\n",
       "      <th>host name</th>\n",
       "      <th>neighbourhood group</th>\n",
       "      <th>neighbourhood</th>\n",
       "      <th>lat</th>\n",
       "      <th>long</th>\n",
       "      <th>instant_bookable</th>\n",
       "      <th>cancellation_policy</th>\n",
       "      <th>room type</th>\n",
       "      <th>...</th>\n",
       "      <th>price</th>\n",
       "      <th>service fee</th>\n",
       "      <th>minimum nights</th>\n",
       "      <th>number of reviews</th>\n",
       "      <th>last review</th>\n",
       "      <th>reviews per month</th>\n",
       "      <th>review rate number</th>\n",
       "      <th>calculated host listings count</th>\n",
       "      <th>availability 365</th>\n",
       "      <th>house_rules</th>\n",
       "    </tr>\n",
       "  </thead>\n",
       "  <tbody>\n",
       "    <tr>\n",
       "      <th>0</th>\n",
       "      <td>False</td>\n",
       "      <td>False</td>\n",
       "      <td>False</td>\n",
       "      <td>False</td>\n",
       "      <td>False</td>\n",
       "      <td>False</td>\n",
       "      <td>False</td>\n",
       "      <td>False</td>\n",
       "      <td>False</td>\n",
       "      <td>False</td>\n",
       "      <td>...</td>\n",
       "      <td>False</td>\n",
       "      <td>False</td>\n",
       "      <td>False</td>\n",
       "      <td>False</td>\n",
       "      <td>False</td>\n",
       "      <td>False</td>\n",
       "      <td>False</td>\n",
       "      <td>False</td>\n",
       "      <td>False</td>\n",
       "      <td>False</td>\n",
       "    </tr>\n",
       "    <tr>\n",
       "      <th>1</th>\n",
       "      <td>False</td>\n",
       "      <td>False</td>\n",
       "      <td>False</td>\n",
       "      <td>False</td>\n",
       "      <td>False</td>\n",
       "      <td>False</td>\n",
       "      <td>False</td>\n",
       "      <td>False</td>\n",
       "      <td>False</td>\n",
       "      <td>False</td>\n",
       "      <td>...</td>\n",
       "      <td>False</td>\n",
       "      <td>False</td>\n",
       "      <td>False</td>\n",
       "      <td>False</td>\n",
       "      <td>False</td>\n",
       "      <td>False</td>\n",
       "      <td>False</td>\n",
       "      <td>False</td>\n",
       "      <td>False</td>\n",
       "      <td>False</td>\n",
       "    </tr>\n",
       "    <tr>\n",
       "      <th>2</th>\n",
       "      <td>False</td>\n",
       "      <td>True</td>\n",
       "      <td>False</td>\n",
       "      <td>False</td>\n",
       "      <td>False</td>\n",
       "      <td>False</td>\n",
       "      <td>False</td>\n",
       "      <td>False</td>\n",
       "      <td>False</td>\n",
       "      <td>False</td>\n",
       "      <td>...</td>\n",
       "      <td>False</td>\n",
       "      <td>False</td>\n",
       "      <td>False</td>\n",
       "      <td>False</td>\n",
       "      <td>True</td>\n",
       "      <td>True</td>\n",
       "      <td>False</td>\n",
       "      <td>False</td>\n",
       "      <td>False</td>\n",
       "      <td>False</td>\n",
       "    </tr>\n",
       "    <tr>\n",
       "      <th>3</th>\n",
       "      <td>True</td>\n",
       "      <td>False</td>\n",
       "      <td>False</td>\n",
       "      <td>False</td>\n",
       "      <td>False</td>\n",
       "      <td>False</td>\n",
       "      <td>False</td>\n",
       "      <td>False</td>\n",
       "      <td>False</td>\n",
       "      <td>False</td>\n",
       "      <td>...</td>\n",
       "      <td>False</td>\n",
       "      <td>False</td>\n",
       "      <td>False</td>\n",
       "      <td>False</td>\n",
       "      <td>False</td>\n",
       "      <td>False</td>\n",
       "      <td>False</td>\n",
       "      <td>False</td>\n",
       "      <td>False</td>\n",
       "      <td>True</td>\n",
       "    </tr>\n",
       "    <tr>\n",
       "      <th>4</th>\n",
       "      <td>False</td>\n",
       "      <td>False</td>\n",
       "      <td>False</td>\n",
       "      <td>False</td>\n",
       "      <td>False</td>\n",
       "      <td>False</td>\n",
       "      <td>False</td>\n",
       "      <td>False</td>\n",
       "      <td>False</td>\n",
       "      <td>False</td>\n",
       "      <td>...</td>\n",
       "      <td>False</td>\n",
       "      <td>False</td>\n",
       "      <td>False</td>\n",
       "      <td>False</td>\n",
       "      <td>False</td>\n",
       "      <td>False</td>\n",
       "      <td>False</td>\n",
       "      <td>False</td>\n",
       "      <td>False</td>\n",
       "      <td>False</td>\n",
       "    </tr>\n",
       "  </tbody>\n",
       "</table>\n",
       "<p>5 rows × 21 columns</p>\n",
       "</div>"
      ],
      "text/plain": [
       "    NAME  host_identity_verified  host name  neighbourhood group  \\\n",
       "0  False                   False      False                False   \n",
       "1  False                   False      False                False   \n",
       "2  False                    True      False                False   \n",
       "3   True                   False      False                False   \n",
       "4  False                   False      False                False   \n",
       "\n",
       "   neighbourhood    lat   long  instant_bookable  cancellation_policy  \\\n",
       "0          False  False  False             False                False   \n",
       "1          False  False  False             False                False   \n",
       "2          False  False  False             False                False   \n",
       "3          False  False  False             False                False   \n",
       "4          False  False  False             False                False   \n",
       "\n",
       "   room type  ...  price  service fee  minimum nights  number of reviews  \\\n",
       "0      False  ...  False        False           False              False   \n",
       "1      False  ...  False        False           False              False   \n",
       "2      False  ...  False        False           False              False   \n",
       "3      False  ...  False        False           False              False   \n",
       "4      False  ...  False        False           False              False   \n",
       "\n",
       "   last review  reviews per month  review rate number  \\\n",
       "0        False              False               False   \n",
       "1        False              False               False   \n",
       "2         True               True               False   \n",
       "3        False              False               False   \n",
       "4        False              False               False   \n",
       "\n",
       "   calculated host listings count  availability 365  house_rules  \n",
       "0                           False             False        False  \n",
       "1                           False             False        False  \n",
       "2                           False             False        False  \n",
       "3                           False             False         True  \n",
       "4                           False             False        False  \n",
       "\n",
       "[5 rows x 21 columns]"
      ]
     },
     "execution_count": 20,
     "metadata": {},
     "output_type": "execute_result"
    }
   ],
   "source": [
    "df2.isnull().head()"
   ]
  },
  {
   "cell_type": "code",
   "execution_count": 21,
   "id": "b0b6c853-ee6e-4263-8718-02f0dfb41e00",
   "metadata": {},
   "outputs": [
    {
     "data": {
      "text/plain": [
       "NAME                                250\n",
       "host_identity_verified              289\n",
       "host name                           406\n",
       "neighbourhood group                  29\n",
       "neighbourhood                        16\n",
       "lat                                   8\n",
       "long                                  8\n",
       "instant_bookable                    105\n",
       "cancellation_policy                  76\n",
       "room type                             0\n",
       "Construction year                   214\n",
       "price                               247\n",
       "service fee                         273\n",
       "minimum nights                      409\n",
       "number of reviews                   183\n",
       "last review                       15893\n",
       "reviews per month                 15879\n",
       "review rate number                  326\n",
       "calculated host listings count      319\n",
       "availability 365                    448\n",
       "house_rules                       52131\n",
       "dtype: int64"
      ]
     },
     "execution_count": 21,
     "metadata": {},
     "output_type": "execute_result"
    }
   ],
   "source": [
    "df2.isnull().sum()"
   ]
  },
  {
   "cell_type": "code",
   "execution_count": 22,
   "id": "40771e80-8b48-4205-b3eb-e76329d9af81",
   "metadata": {},
   "outputs": [
    {
     "data": {
      "text/plain": [
       "room type                             0\n",
       "lat                                   8\n",
       "long                                  8\n",
       "neighbourhood                        16\n",
       "neighbourhood group                  29\n",
       "cancellation_policy                  76\n",
       "instant_bookable                    105\n",
       "number of reviews                   183\n",
       "Construction year                   214\n",
       "price                               247\n",
       "NAME                                250\n",
       "service fee                         273\n",
       "host_identity_verified              289\n",
       "calculated host listings count      319\n",
       "review rate number                  326\n",
       "host name                           406\n",
       "minimum nights                      409\n",
       "availability 365                    448\n",
       "reviews per month                 15879\n",
       "last review                       15893\n",
       "house_rules                       52131\n",
       "dtype: int64"
      ]
     },
     "execution_count": 22,
     "metadata": {},
     "output_type": "execute_result"
    }
   ],
   "source": [
    "#Ordenamos en forma ascendente por valores nulos:\n",
    "df2.isnull().sum().sort_values()"
   ]
  },
  {
   "cell_type": "code",
   "execution_count": 23,
   "id": "3aca4832-0c0f-47a3-a1b8-0fcc71c7e1fd",
   "metadata": {},
   "outputs": [
    {
     "name": "stdout",
     "output_type": "stream",
     "text": [
      "Rellenando valores nulos en la columna categórica: NAME\n",
      "Rellenando valores nulos en la columna categórica: host_identity_verified\n",
      "Rellenando valores nulos en la columna categórica: host name\n",
      "Rellenando valores nulos en la columna categórica: neighbourhood group\n",
      "Rellenando valores nulos en la columna categórica: neighbourhood\n",
      "Rellenando valores nulos en la columna numérica: lat\n",
      "Rellenando valores nulos en la columna numérica: long\n",
      "Rellenando valores nulos en la columna categórica: instant_bookable\n",
      "Rellenando valores nulos en la columna categórica: cancellation_policy\n",
      "Rellenando valores nulos en la columna categórica: room type\n",
      "Rellenando valores nulos en la columna numérica: Construction year\n",
      "Rellenando valores nulos en la columna categórica: price\n",
      "Rellenando valores nulos en la columna categórica: service fee\n",
      "Rellenando valores nulos en la columna numérica: minimum nights\n",
      "Rellenando valores nulos en la columna numérica: number of reviews\n",
      "Rellenando valores nulos en la columna categórica: last review\n",
      "Rellenando valores nulos en la columna numérica: reviews per month\n",
      "Rellenando valores nulos en la columna numérica: review rate number\n",
      "Rellenando valores nulos en la columna numérica: calculated host listings count\n",
      "Rellenando valores nulos en la columna numérica: availability 365\n",
      "Rellenando valores nulos en la columna categórica: house_rules\n"
     ]
    }
   ],
   "source": [
    "for col in df2.columns:\n",
    "    # Si la columna es de tipo object ('O'), se asume que es categórica o de texto\n",
    "    if df2[col].dtype == 'O':\n",
    "        # Imprimir el nombre de la columna categórica\n",
    "        print(\"Rellenando valores nulos en la columna categórica:\", col)\n",
    "        # Rellenar valores nulos con la moda (el valor más frecuente)\n",
    "        df2[col].fillna(value=df2[col].mode()[0], inplace=True)\n",
    "    else:\n",
    "        # Para columnas numéricas, rellenar con la mediana\n",
    "        print(\"Rellenando valores nulos en la columna numérica:\", col)\n",
    "        df2[col].fillna(value=df2[col].median(), inplace=True)"
   ]
  },
  {
   "cell_type": "markdown",
   "id": "705833f3-0603-4384-88a2-946a5466b5ef",
   "metadata": {
    "id": "_RKuT5ge5jjT"
   },
   "source": [
    "##### Comprobamos que todos los valores nulos han sido imputados"
   ]
  },
  {
   "cell_type": "code",
   "execution_count": 24,
   "id": "95ee15eb-f94d-452a-839d-59e57718e05c",
   "metadata": {},
   "outputs": [
    {
     "data": {
      "text/plain": [
       "NAME                              0\n",
       "host_identity_verified            0\n",
       "host name                         0\n",
       "neighbourhood group               0\n",
       "neighbourhood                     0\n",
       "lat                               0\n",
       "long                              0\n",
       "instant_bookable                  0\n",
       "cancellation_policy               0\n",
       "room type                         0\n",
       "Construction year                 0\n",
       "price                             0\n",
       "service fee                       0\n",
       "minimum nights                    0\n",
       "number of reviews                 0\n",
       "last review                       0\n",
       "reviews per month                 0\n",
       "review rate number                0\n",
       "calculated host listings count    0\n",
       "availability 365                  0\n",
       "house_rules                       0\n",
       "dtype: int64"
      ]
     },
     "execution_count": 24,
     "metadata": {},
     "output_type": "execute_result"
    }
   ],
   "source": [
    "df2.isnull().sum()"
   ]
  },
  {
   "cell_type": "markdown",
   "id": "dd03fdc3-3b82-4b26-a3fa-7e0d07bd1745",
   "metadata": {
    "id": "ju6sBh634_VP"
   },
   "source": [
    "### Comprueba si hay valores duplicados y elimínalos."
   ]
  },
  {
   "cell_type": "code",
   "execution_count": 25,
   "id": "9dbcfb75-517d-41a4-b548-6b9403be1063",
   "metadata": {},
   "outputs": [
    {
     "data": {
      "text/plain": [
       "3461"
      ]
     },
     "execution_count": 25,
     "metadata": {},
     "output_type": "execute_result"
    }
   ],
   "source": [
    "df2.duplicated().sum()"
   ]
  },
  {
   "cell_type": "code",
   "execution_count": 26,
   "id": "bec68402-d06e-4a31-add6-f84873d404c0",
   "metadata": {},
   "outputs": [
    {
     "data": {
      "text/plain": [
       "0         False\n",
       "1         False\n",
       "2         False\n",
       "3         False\n",
       "4         False\n",
       "          ...  \n",
       "102594     True\n",
       "102595     True\n",
       "102596     True\n",
       "102597     True\n",
       "102598     True\n",
       "Length: 102599, dtype: bool"
      ]
     },
     "execution_count": 26,
     "metadata": {},
     "output_type": "execute_result"
    }
   ],
   "source": [
    "df.duplicated()"
   ]
  },
  {
   "cell_type": "code",
   "execution_count": 27,
   "id": "7166e495-f423-404f-8333-88c449815983",
   "metadata": {},
   "outputs": [],
   "source": [
    "#Hacemos una copia del df2 antes de eliminar los duplicados y le llamamos : df_sin_duplicados\n",
    "df_sin_duplicados = df2.copy()"
   ]
  },
  {
   "cell_type": "code",
   "execution_count": 28,
   "id": "af45bd94-881f-4f9a-a301-5809ef840981",
   "metadata": {},
   "outputs": [],
   "source": [
    "#Eliminamos los duplicados\n",
    "\n",
    "df_sin_duplicados.drop_duplicates(inplace=True)"
   ]
  },
  {
   "cell_type": "markdown",
   "id": "53200265-324c-4279-a6a4-03d9e7e9911c",
   "metadata": {
    "id": "uQgl-m0b6MVd"
   },
   "source": [
    "### Muestra el número total de registros antes y después de eliminar los duplicados."
   ]
  },
  {
   "cell_type": "code",
   "execution_count": 29,
   "id": "b0b2e139-9986-4078-9039-09c000a655a7",
   "metadata": {},
   "outputs": [
    {
     "data": {
      "text/plain": [
       "(102599, 21)"
      ]
     },
     "execution_count": 29,
     "metadata": {},
     "output_type": "execute_result"
    }
   ],
   "source": [
    "# Registros antes de elimninar duplicados\n",
    "df2.shape"
   ]
  },
  {
   "cell_type": "code",
   "execution_count": 30,
   "id": "73977e45-dbb1-48d0-8800-e76a80d22b15",
   "metadata": {},
   "outputs": [
    {
     "data": {
      "text/plain": [
       "(99138, 21)"
      ]
     },
     "execution_count": 30,
     "metadata": {},
     "output_type": "execute_result"
    }
   ],
   "source": [
    "#Registros después de eliminar duplicados\n",
    "df_sin_duplicados.shape"
   ]
  },
  {
   "cell_type": "markdown",
   "id": "5fee2aa2-5d07-4849-b611-64eb35a989e4",
   "metadata": {
    "id": "dRHezb1a-lEd"
   },
   "source": [
    "##### Antes de eliminar duplicados teníamos 102599 registros, restamos los 3461 registros duplicados, esta diferencia corresponde a 99138 registros obtenidos después de eliminar los duplicados."
   ]
  },
  {
   "cell_type": "markdown",
   "id": "jI9H0IAEK86B",
   "metadata": {
    "id": "jI9H0IAEK86B"
   },
   "source": [
    "## Tarea 3: Transformación de datos (cualquier herramienta)\n",
    "\n",
    "\n",
    "\n",
    "\n",
    "\n",
    "- Cambia el nombre de la columna `availability 365` a `days_booked`.\n",
    "- Convierte todos los nombres de columna a minúsculas y sustituye los espacios en los nombres de columna por un guión bajo \"_\".\n",
    "- Elimina el signo de dólares y la coma de las columnas `price` y `service_fee`. Si es necesario, convierte estas dos columnas al tipo de datos adecuado.\n",
    "\n",
    "\n",
    "\n",
    "Si utilizas Python para este ejercicio, incluye el código que hayas utilizado en las celdas siguientes. Si utilizas cualquier otra herramienta, incluye capturas de pantalla de tu trabajo."
   ]
  },
  {
   "cell_type": "markdown",
   "id": "35ff4eb0-9d16-409a-a32c-ecd752846e52",
   "metadata": {
    "id": "W-yQKQEMAR3H"
   },
   "source": [
    "### Cambia el nombre de la columna availability 365 a days_booked."
   ]
  },
  {
   "cell_type": "code",
   "execution_count": 31,
   "id": "6f1777a2-7789-4e54-9b91-29e2375c5f32",
   "metadata": {},
   "outputs": [
    {
     "data": {
      "text/plain": [
       "Index(['NAME', 'host_identity_verified', 'host name', 'neighbourhood group',\n",
       "       'neighbourhood', 'lat', 'long', 'instant_bookable',\n",
       "       'cancellation_policy', 'room type', 'Construction year', 'price',\n",
       "       'service fee', 'minimum nights', 'number of reviews', 'last review',\n",
       "       'reviews per month', 'review rate number',\n",
       "       'calculated host listings count', 'availability 365', 'house_rules'],\n",
       "      dtype='object')"
      ]
     },
     "execution_count": 31,
     "metadata": {},
     "output_type": "execute_result"
    }
   ],
   "source": [
    "df_sin_duplicados.columns"
   ]
  },
  {
   "cell_type": "code",
   "execution_count": 32,
   "id": "ffd6a2fa-7c6c-4508-8a0d-b60f84ea5e23",
   "metadata": {},
   "outputs": [],
   "source": [
    "df_sin_duplicados = df_sin_duplicados.rename(columns={'availability 365': 'days_booked'})"
   ]
  },
  {
   "cell_type": "code",
   "execution_count": null,
   "id": "i-ZIhiS5ssbl",
   "metadata": {
    "id": "i-ZIhiS5ssbl"
   },
   "outputs": [],
   "source": [
    "#df_sin_duplicados.rename(columns={'availability 365': 'days_booked'}, inplace=True)"
   ]
  },
  {
   "cell_type": "code",
   "execution_count": 33,
   "id": "efb4113a-167b-465d-8278-a348eaedb26c",
   "metadata": {},
   "outputs": [
    {
     "data": {
      "text/plain": [
       "Index(['NAME', 'host_identity_verified', 'host name', 'neighbourhood group',\n",
       "       'neighbourhood', 'lat', 'long', 'instant_bookable',\n",
       "       'cancellation_policy', 'room type', 'Construction year', 'price',\n",
       "       'service fee', 'minimum nights', 'number of reviews', 'last review',\n",
       "       'reviews per month', 'review rate number',\n",
       "       'calculated host listings count', 'days_booked', 'house_rules'],\n",
       "      dtype='object')"
      ]
     },
     "execution_count": 33,
     "metadata": {},
     "output_type": "execute_result"
    }
   ],
   "source": [
    "#Comprobamos que tenemos la columna \"days_booked\"\n",
    "df_sin_duplicados.columns"
   ]
  },
  {
   "cell_type": "markdown",
   "id": "841e4d63-86a8-4fdb-8d5e-4b639ef3f80a",
   "metadata": {
    "id": "O5VFQAakAZy2"
   },
   "source": [
    "### Convierte todos los nombres de columna a minúsculas y sustituye los espacios en los nombres de columna por un guión bajo \"_\". "
   ]
  },
  {
   "cell_type": "code",
   "execution_count": 34,
   "id": "d297a12a-3478-4085-a6a0-a5ead9784153",
   "metadata": {},
   "outputs": [
    {
     "data": {
      "text/plain": [
       "Index(['name', 'host_identity_verified', 'host_name', 'neighbourhood_group',\n",
       "       'neighbourhood', 'lat', 'long', 'instant_bookable',\n",
       "       'cancellation_policy', 'room_type', 'construction_year', 'price',\n",
       "       'service_fee', 'minimum_nights', 'number_of_reviews', 'last_review',\n",
       "       'reviews_per_month', 'review_rate_number',\n",
       "       'calculated_host_listings_count', 'days_booked', 'house_rules'],\n",
       "      dtype='object')"
      ]
     },
     "execution_count": 34,
     "metadata": {},
     "output_type": "execute_result"
    }
   ],
   "source": [
    "df_sin_duplicados.columns = [col.lower().replace(\" \", \"_\") for col in df_sin_duplicados.columns]\n",
    "df_sin_duplicados.columns\n"
   ]
  },
  {
   "cell_type": "markdown",
   "id": "09a77596-f842-48b4-94a2-aa8eae527187",
   "metadata": {
    "id": "EheQljgYAzX-"
   },
   "source": [
    "### Elimina el signo de dólares y la coma de las columnas price y service_fee. Si es necesario, convierte estas dos columnas al tipo de datos adecuado."
   ]
  },
  {
   "cell_type": "markdown",
   "id": "bfd8e887-2b86-468e-96f0-084b0ce81bd4",
   "metadata": {
    "id": "3oYYwIBZBLVu"
   },
   "source": [
    "#### Columna Price"
   ]
  },
  {
   "cell_type": "code",
   "execution_count": 35,
   "id": "53a40f11-0ce2-4edb-847c-78431e577a4d",
   "metadata": {},
   "outputs": [
    {
     "data": {
      "text/plain": [
       "'$1,001 '"
      ]
     },
     "execution_count": 35,
     "metadata": {},
     "output_type": "execute_result"
    }
   ],
   "source": [
    "#Analizamos el proceso en la columna price\n",
    "price_val = df_sin_duplicados.loc[1606, 'price']\n",
    "price_val"
   ]
  },
  {
   "cell_type": "code",
   "execution_count": 36,
   "id": "5405402b-70ae-4644-88c6-937b83068ca2",
   "metadata": {},
   "outputs": [
    {
     "data": {
      "text/plain": [
       "'1,001 '"
      ]
     },
     "execution_count": 36,
     "metadata": {},
     "output_type": "execute_result"
    }
   ],
   "source": [
    "price_val_noDollar = price_val.replace(\"$\", \"\")\n",
    "price_val_noDollar"
   ]
  },
  {
   "cell_type": "code",
   "execution_count": 37,
   "id": "c6ef350b-f9c2-417f-9a54-1eb56725d59f",
   "metadata": {},
   "outputs": [
    {
     "data": {
      "text/plain": [
       "'1001 '"
      ]
     },
     "execution_count": 37,
     "metadata": {},
     "output_type": "execute_result"
    }
   ],
   "source": [
    "price_val_noDollar_noSpace = price_val_noDollar.replace(\",\", \"\")\n",
    "price_val_noDollar_noSpace"
   ]
  },
  {
   "cell_type": "markdown",
   "id": "ffef007c-2eb2-4b11-ade9-d5f72b5270df",
   "metadata": {
    "id": "_0_zcDfnpog_"
   },
   "source": [
    "##### Una vez analizado lo anterior creamos una funcion para eliminar $ y \",\""
   ]
  },
  {
   "cell_type": "code",
   "execution_count": 38,
   "id": "3287f3cd-3632-4641-975e-6f4ccb624a1d",
   "metadata": {},
   "outputs": [],
   "source": [
    "def remove_dollar_sign(value):\n",
    "    if pd.isna(value):\n",
    "        return np.NaN\n",
    "    else:\n",
    "        return float(value.replace(\"$\", \"\").replace(\",\", \"\"))"
   ]
  },
  {
   "cell_type": "code",
   "execution_count": 39,
   "id": "aac5b045-65df-4733-b480-06f07f5b7965",
   "metadata": {},
   "outputs": [
    {
     "data": {
      "text/plain": [
       "0          966.0\n",
       "1          142.0\n",
       "2          620.0\n",
       "3          368.0\n",
       "4          204.0\n",
       "           ...  \n",
       "102053     696.0\n",
       "102054     909.0\n",
       "102055     387.0\n",
       "102056     848.0\n",
       "102057    1128.0\n",
       "Name: price, Length: 99138, dtype: float64"
      ]
     },
     "execution_count": 39,
     "metadata": {},
     "output_type": "execute_result"
    }
   ],
   "source": [
    "# Aplicamos la función a la columna 'price' utilizando apply\n",
    "df_sin_duplicados['price'] = df_sin_duplicados['price'].apply(lambda x: remove_dollar_sign(x))\n",
    "df_sin_duplicados['price']\n"
   ]
  },
  {
   "cell_type": "markdown",
   "id": "5e6e4602-09f5-4e85-a464-ad7bb4f4bdda",
   "metadata": {
    "id": "JEebyZ3ZCH4N"
   },
   "source": [
    "#### Columna service fee"
   ]
  },
  {
   "cell_type": "code",
   "execution_count": 40,
   "id": "1582eee0-7ecc-4cdd-9da3-32865d6e1897",
   "metadata": {},
   "outputs": [
    {
     "data": {
      "text/plain": [
       "0         193.0\n",
       "1          28.0\n",
       "2         124.0\n",
       "3          74.0\n",
       "4          41.0\n",
       "          ...  \n",
       "102053     41.0\n",
       "102054     41.0\n",
       "102055     41.0\n",
       "102056     41.0\n",
       "102057     41.0\n",
       "Name: service_fee, Length: 99138, dtype: float64"
      ]
     },
     "execution_count": 40,
     "metadata": {},
     "output_type": "execute_result"
    }
   ],
   "source": [
    "# Aplicamos la función a la columna 'service_fee' utilizando apply\n",
    "df_sin_duplicados['service_fee'] = df_sin_duplicados['service_fee'].apply(lambda x: remove_dollar_sign(x))\n",
    "df_sin_duplicados['service_fee']\n"
   ]
  },
  {
   "cell_type": "markdown",
   "id": "a1fdcf1d-8fd3-42bd-a12a-c40660886745",
   "metadata": {
    "id": "8a1AtMnjChXB"
   },
   "source": [
    "##### Hacemos una copia del DataFrame: df_sin_duplicados y lo denominamos df_clean para realizar el Análisis exploratorio de datos."
   ]
  },
  {
   "cell_type": "code",
   "execution_count": 41,
   "id": "03020185-a786-4edc-824c-3717e876ca39",
   "metadata": {},
   "outputs": [],
   "source": [
    "\n",
    "df_clean = df_sin_duplicados.copy()"
   ]
  },
  {
   "cell_type": "code",
   "execution_count": 42,
   "id": "2cab5c94-edc4-4e46-a45e-8011b3d0861b",
   "metadata": {},
   "outputs": [
    {
     "data": {
      "text/plain": [
       "Index(['name', 'host_identity_verified', 'host_name', 'neighbourhood_group',\n",
       "       'neighbourhood', 'lat', 'long', 'instant_bookable',\n",
       "       'cancellation_policy', 'room_type', 'construction_year', 'price',\n",
       "       'service_fee', 'minimum_nights', 'number_of_reviews', 'last_review',\n",
       "       'reviews_per_month', 'review_rate_number',\n",
       "       'calculated_host_listings_count', 'days_booked', 'house_rules'],\n",
       "      dtype='object')"
      ]
     },
     "execution_count": 42,
     "metadata": {},
     "output_type": "execute_result"
    }
   ],
   "source": [
    "df_clean.columns"
   ]
  },
  {
   "cell_type": "markdown",
   "id": "DxyVsRzyK86C",
   "metadata": {
    "id": "DxyVsRzyK86C"
   },
   "source": [
    "## Tarea 4: Análisis exploratorio de datos (cualquier herramienta)\n",
    "\n",
    "\n",
    "\n",
    "- Enumera los tipos de habitaciones disponibles en el <i>dataset</i>.\n",
    "- ¿Qué tipo de habitación tiene la política de cancelación más estricta?\n",
    "- Enumera el precio medio por barrio y señala cuál es el conjunto de barrios más caro para alquilar.\n",
    "\n",
    "\n",
    "\n",
    "Si utilizas Python para este ejercicio, incluye el código que hayas utilizado en las celdas siguientes. Si utilizas cualquier otra herramienta, incluye capturas de pantalla de tu trabajo."
   ]
  },
  {
   "cell_type": "markdown",
   "id": "f065575e-cb61-44db-9fe0-3eaeab545c3c",
   "metadata": {
    "id": "zw2ZZ8rEqJT_"
   },
   "source": [
    "### Enumera los tipos de habitaciones disponibles en el dataset."
   ]
  },
  {
   "cell_type": "code",
   "execution_count": 43,
   "id": "ab3bacb9-a320-4b4f-8262-9900e864809d",
   "metadata": {},
   "outputs": [
    {
     "data": {
      "text/plain": [
       "Entire home/apt    51987\n",
       "Private room       44887\n",
       "Shared room         2149\n",
       "Hotel room           115\n",
       "Name: room_type, dtype: int64"
      ]
     },
     "execution_count": 43,
     "metadata": {},
     "output_type": "execute_result"
    }
   ],
   "source": [
    "df_clean['room_type'].value_counts()"
   ]
  },
  {
   "cell_type": "markdown",
   "id": "168b168f-676d-4615-8eab-47a4fdaff5aa",
   "metadata": {
    "id": "wioh0F8ztRN8"
   },
   "source": [
    "### ¿Qué tipo de habitación se adhiere a una política de cancelación más estricta?"
   ]
  },
  {
   "cell_type": "code",
   "execution_count": 44,
   "id": "be33213b-ee4e-4d8d-baf6-f2933e8d3b5c",
   "metadata": {},
   "outputs": [
    {
     "data": {
      "text/plain": [
       "moderate    33264\n",
       "flexible    32948\n",
       "strict      32926\n",
       "Name: cancellation_policy, dtype: int64"
      ]
     },
     "execution_count": 44,
     "metadata": {},
     "output_type": "execute_result"
    }
   ],
   "source": [
    "df_clean['cancellation_policy'].value_counts()"
   ]
  },
  {
   "cell_type": "code",
   "execution_count": 45,
   "id": "aafc0eee-bba1-4574-a7f3-f7bcb59f1cd2",
   "metadata": {},
   "outputs": [
    {
     "data": {
      "text/html": [
       "<div>\n",
       "<style scoped>\n",
       "    .dataframe tbody tr th:only-of-type {\n",
       "        vertical-align: middle;\n",
       "    }\n",
       "\n",
       "    .dataframe tbody tr th {\n",
       "        vertical-align: top;\n",
       "    }\n",
       "\n",
       "    .dataframe thead th {\n",
       "        text-align: right;\n",
       "    }\n",
       "</style>\n",
       "<table border=\"1\" class=\"dataframe\">\n",
       "  <thead>\n",
       "    <tr style=\"text-align: right;\">\n",
       "      <th></th>\n",
       "      <th>name</th>\n",
       "      <th>host_identity_verified</th>\n",
       "      <th>host_name</th>\n",
       "      <th>neighbourhood_group</th>\n",
       "      <th>neighbourhood</th>\n",
       "      <th>lat</th>\n",
       "      <th>long</th>\n",
       "      <th>instant_bookable</th>\n",
       "      <th>cancellation_policy</th>\n",
       "      <th>room_type</th>\n",
       "      <th>...</th>\n",
       "      <th>price</th>\n",
       "      <th>service_fee</th>\n",
       "      <th>minimum_nights</th>\n",
       "      <th>number_of_reviews</th>\n",
       "      <th>last_review</th>\n",
       "      <th>reviews_per_month</th>\n",
       "      <th>review_rate_number</th>\n",
       "      <th>calculated_host_listings_count</th>\n",
       "      <th>days_booked</th>\n",
       "      <th>house_rules</th>\n",
       "    </tr>\n",
       "  </thead>\n",
       "  <tbody>\n",
       "    <tr>\n",
       "      <th>0</th>\n",
       "      <td>Clean &amp; quiet apt home by the park</td>\n",
       "      <td>unconfirmed</td>\n",
       "      <td>Madaline</td>\n",
       "      <td>Brooklyn</td>\n",
       "      <td>Kensington</td>\n",
       "      <td>40.64749</td>\n",
       "      <td>-73.97237</td>\n",
       "      <td>False</td>\n",
       "      <td>strict</td>\n",
       "      <td>Private room</td>\n",
       "      <td>...</td>\n",
       "      <td>966.0</td>\n",
       "      <td>193.0</td>\n",
       "      <td>10.0</td>\n",
       "      <td>9.0</td>\n",
       "      <td>10/19/2021</td>\n",
       "      <td>0.21</td>\n",
       "      <td>4.0</td>\n",
       "      <td>6.0</td>\n",
       "      <td>286.0</td>\n",
       "      <td>Clean up and treat the home the way you'd like...</td>\n",
       "    </tr>\n",
       "    <tr>\n",
       "      <th>8</th>\n",
       "      <td>Large Furnished Room Near B'way</td>\n",
       "      <td>verified</td>\n",
       "      <td>Evelyn</td>\n",
       "      <td>Manhattan</td>\n",
       "      <td>Hell's Kitchen</td>\n",
       "      <td>40.76489</td>\n",
       "      <td>-73.98493</td>\n",
       "      <td>True</td>\n",
       "      <td>strict</td>\n",
       "      <td>Private room</td>\n",
       "      <td>...</td>\n",
       "      <td>1018.0</td>\n",
       "      <td>204.0</td>\n",
       "      <td>2.0</td>\n",
       "      <td>430.0</td>\n",
       "      <td>6/24/2019</td>\n",
       "      <td>3.47</td>\n",
       "      <td>3.0</td>\n",
       "      <td>1.0</td>\n",
       "      <td>180.0</td>\n",
       "      <td>- Please clean up after yourself when using th...</td>\n",
       "    </tr>\n",
       "    <tr>\n",
       "      <th>9</th>\n",
       "      <td>Cozy Clean Guest Room - Family Apt</td>\n",
       "      <td>unconfirmed</td>\n",
       "      <td>Carl</td>\n",
       "      <td>Manhattan</td>\n",
       "      <td>Upper West Side</td>\n",
       "      <td>40.80178</td>\n",
       "      <td>-73.96723</td>\n",
       "      <td>False</td>\n",
       "      <td>strict</td>\n",
       "      <td>Private room</td>\n",
       "      <td>...</td>\n",
       "      <td>291.0</td>\n",
       "      <td>58.0</td>\n",
       "      <td>2.0</td>\n",
       "      <td>118.0</td>\n",
       "      <td>7/21/2017</td>\n",
       "      <td>0.99</td>\n",
       "      <td>5.0</td>\n",
       "      <td>1.0</td>\n",
       "      <td>375.0</td>\n",
       "      <td>NO SMOKING OR PETS ANYWHERE ON THE PROPERTY 1....</td>\n",
       "    </tr>\n",
       "    <tr>\n",
       "      <th>12</th>\n",
       "      <td>Central Manhattan/near Broadway</td>\n",
       "      <td>verified</td>\n",
       "      <td>Michael</td>\n",
       "      <td>Manhattan</td>\n",
       "      <td>Hell's Kitchen</td>\n",
       "      <td>40.76076</td>\n",
       "      <td>-73.98867</td>\n",
       "      <td>False</td>\n",
       "      <td>strict</td>\n",
       "      <td>Private room</td>\n",
       "      <td>...</td>\n",
       "      <td>714.0</td>\n",
       "      <td>143.0</td>\n",
       "      <td>2.0</td>\n",
       "      <td>188.0</td>\n",
       "      <td>6/23/2019</td>\n",
       "      <td>1.50</td>\n",
       "      <td>4.0</td>\n",
       "      <td>1.0</td>\n",
       "      <td>258.0</td>\n",
       "      <td>- One of the bedroom closets is not accessible...</td>\n",
       "    </tr>\n",
       "    <tr>\n",
       "      <th>24</th>\n",
       "      <td>CBG Helps Haiti Rm #2</td>\n",
       "      <td>unconfirmed</td>\n",
       "      <td>Charlotte</td>\n",
       "      <td>Brooklyn</td>\n",
       "      <td>Park Slope</td>\n",
       "      <td>40.68001</td>\n",
       "      <td>-73.97865</td>\n",
       "      <td>False</td>\n",
       "      <td>strict</td>\n",
       "      <td>Private room</td>\n",
       "      <td>...</td>\n",
       "      <td>816.0</td>\n",
       "      <td>163.0</td>\n",
       "      <td>2.0</td>\n",
       "      <td>71.0</td>\n",
       "      <td>7/2/2019</td>\n",
       "      <td>0.61</td>\n",
       "      <td>4.0</td>\n",
       "      <td>6.0</td>\n",
       "      <td>344.0</td>\n",
       "      <td>We take great care of our home and expect you ...</td>\n",
       "    </tr>\n",
       "    <tr>\n",
       "      <th>...</th>\n",
       "      <td>...</td>\n",
       "      <td>...</td>\n",
       "      <td>...</td>\n",
       "      <td>...</td>\n",
       "      <td>...</td>\n",
       "      <td>...</td>\n",
       "      <td>...</td>\n",
       "      <td>...</td>\n",
       "      <td>...</td>\n",
       "      <td>...</td>\n",
       "      <td>...</td>\n",
       "      <td>...</td>\n",
       "      <td>...</td>\n",
       "      <td>...</td>\n",
       "      <td>...</td>\n",
       "      <td>...</td>\n",
       "      <td>...</td>\n",
       "      <td>...</td>\n",
       "      <td>...</td>\n",
       "      <td>...</td>\n",
       "      <td>...</td>\n",
       "    </tr>\n",
       "    <tr>\n",
       "      <th>102037</th>\n",
       "      <td>Bx Apartment</td>\n",
       "      <td>unconfirmed</td>\n",
       "      <td>Vii</td>\n",
       "      <td>Bronx</td>\n",
       "      <td>Olinville</td>\n",
       "      <td>40.88438</td>\n",
       "      <td>-73.86397</td>\n",
       "      <td>True</td>\n",
       "      <td>strict</td>\n",
       "      <td>Private room</td>\n",
       "      <td>...</td>\n",
       "      <td>531.0</td>\n",
       "      <td>41.0</td>\n",
       "      <td>1.0</td>\n",
       "      <td>0.0</td>\n",
       "      <td>6/23/2019</td>\n",
       "      <td>0.74</td>\n",
       "      <td>3.0</td>\n",
       "      <td>1.0</td>\n",
       "      <td>0.0</td>\n",
       "      <td>#NAME?</td>\n",
       "    </tr>\n",
       "    <tr>\n",
       "      <th>102040</th>\n",
       "      <td>Room in Queens, NY, near LGA.</td>\n",
       "      <td>verified</td>\n",
       "      <td>Sonia</td>\n",
       "      <td>Queens</td>\n",
       "      <td>East Elmhurst</td>\n",
       "      <td>40.76245</td>\n",
       "      <td>-73.87938</td>\n",
       "      <td>True</td>\n",
       "      <td>strict</td>\n",
       "      <td>Private room</td>\n",
       "      <td>...</td>\n",
       "      <td>982.0</td>\n",
       "      <td>196.0</td>\n",
       "      <td>1.0</td>\n",
       "      <td>239.0</td>\n",
       "      <td>6/29/2019</td>\n",
       "      <td>8.58</td>\n",
       "      <td>2.0</td>\n",
       "      <td>2.0</td>\n",
       "      <td>361.0</td>\n",
       "      <td>1. Please clean-up after yourself in the kitch...</td>\n",
       "    </tr>\n",
       "    <tr>\n",
       "      <th>102042</th>\n",
       "      <td>Central Park Views - Private Room &amp; Bathroom</td>\n",
       "      <td>verified</td>\n",
       "      <td>Michael</td>\n",
       "      <td>Manhattan</td>\n",
       "      <td>Upper West Side</td>\n",
       "      <td>40.79712</td>\n",
       "      <td>-73.96117</td>\n",
       "      <td>False</td>\n",
       "      <td>strict</td>\n",
       "      <td>Private room</td>\n",
       "      <td>...</td>\n",
       "      <td>706.0</td>\n",
       "      <td>141.0</td>\n",
       "      <td>1.0</td>\n",
       "      <td>4.0</td>\n",
       "      <td>8/15/2017</td>\n",
       "      <td>0.14</td>\n",
       "      <td>4.0</td>\n",
       "      <td>1.0</td>\n",
       "      <td>0.0</td>\n",
       "      <td>My roommates and I take a lot of pride in keep...</td>\n",
       "    </tr>\n",
       "    <tr>\n",
       "      <th>102049</th>\n",
       "      <td>MASTER Cozy Bedroom Queen size 2 blocks Timesq...</td>\n",
       "      <td>verified</td>\n",
       "      <td>Michael</td>\n",
       "      <td>Manhattan</td>\n",
       "      <td>Hell's Kitchen</td>\n",
       "      <td>40.76125</td>\n",
       "      <td>-73.98945</td>\n",
       "      <td>True</td>\n",
       "      <td>strict</td>\n",
       "      <td>Entire home/apt</td>\n",
       "      <td>...</td>\n",
       "      <td>206.0</td>\n",
       "      <td>41.0</td>\n",
       "      <td>1.0</td>\n",
       "      <td>81.0</td>\n",
       "      <td>3/5/2019</td>\n",
       "      <td>2.96</td>\n",
       "      <td>2.0</td>\n",
       "      <td>2.0</td>\n",
       "      <td>0.0</td>\n",
       "      <td>- I work at home and prefer to rent to folks w...</td>\n",
       "    </tr>\n",
       "    <tr>\n",
       "      <th>102056</th>\n",
       "      <td>Room &amp; private bathroom in historic Harlem</td>\n",
       "      <td>unconfirmed</td>\n",
       "      <td>Shireen</td>\n",
       "      <td>Manhattan</td>\n",
       "      <td>Harlem</td>\n",
       "      <td>40.81248</td>\n",
       "      <td>-73.94317</td>\n",
       "      <td>True</td>\n",
       "      <td>strict</td>\n",
       "      <td>Private room</td>\n",
       "      <td>...</td>\n",
       "      <td>848.0</td>\n",
       "      <td>41.0</td>\n",
       "      <td>2.0</td>\n",
       "      <td>0.0</td>\n",
       "      <td>6/23/2019</td>\n",
       "      <td>0.74</td>\n",
       "      <td>1.0</td>\n",
       "      <td>1.0</td>\n",
       "      <td>0.0</td>\n",
       "      <td>Each of us is working and/or going to school a...</td>\n",
       "    </tr>\n",
       "  </tbody>\n",
       "</table>\n",
       "<p>32926 rows × 21 columns</p>\n",
       "</div>"
      ],
      "text/plain": [
       "                                                     name  \\\n",
       "0                      Clean & quiet apt home by the park   \n",
       "8                         Large Furnished Room Near B'way   \n",
       "9                      Cozy Clean Guest Room - Family Apt   \n",
       "12                        Central Manhattan/near Broadway   \n",
       "24                                  CBG Helps Haiti Rm #2   \n",
       "...                                                   ...   \n",
       "102037                                       Bx Apartment   \n",
       "102040                      Room in Queens, NY, near LGA.   \n",
       "102042       Central Park Views - Private Room & Bathroom   \n",
       "102049  MASTER Cozy Bedroom Queen size 2 blocks Timesq...   \n",
       "102056         Room & private bathroom in historic Harlem   \n",
       "\n",
       "       host_identity_verified  host_name neighbourhood_group    neighbourhood  \\\n",
       "0                 unconfirmed   Madaline            Brooklyn       Kensington   \n",
       "8                    verified     Evelyn           Manhattan   Hell's Kitchen   \n",
       "9                 unconfirmed       Carl           Manhattan  Upper West Side   \n",
       "12                   verified    Michael           Manhattan   Hell's Kitchen   \n",
       "24                unconfirmed  Charlotte            Brooklyn       Park Slope   \n",
       "...                       ...        ...                 ...              ...   \n",
       "102037            unconfirmed        Vii               Bronx        Olinville   \n",
       "102040               verified      Sonia              Queens    East Elmhurst   \n",
       "102042               verified    Michael           Manhattan  Upper West Side   \n",
       "102049               verified    Michael           Manhattan   Hell's Kitchen   \n",
       "102056            unconfirmed    Shireen           Manhattan           Harlem   \n",
       "\n",
       "             lat      long  instant_bookable cancellation_policy  \\\n",
       "0       40.64749 -73.97237             False              strict   \n",
       "8       40.76489 -73.98493              True              strict   \n",
       "9       40.80178 -73.96723             False              strict   \n",
       "12      40.76076 -73.98867             False              strict   \n",
       "24      40.68001 -73.97865             False              strict   \n",
       "...          ...       ...               ...                 ...   \n",
       "102037  40.88438 -73.86397              True              strict   \n",
       "102040  40.76245 -73.87938              True              strict   \n",
       "102042  40.79712 -73.96117             False              strict   \n",
       "102049  40.76125 -73.98945              True              strict   \n",
       "102056  40.81248 -73.94317              True              strict   \n",
       "\n",
       "              room_type  ...   price  service_fee  minimum_nights  \\\n",
       "0          Private room  ...   966.0        193.0            10.0   \n",
       "8          Private room  ...  1018.0        204.0             2.0   \n",
       "9          Private room  ...   291.0         58.0             2.0   \n",
       "12         Private room  ...   714.0        143.0             2.0   \n",
       "24         Private room  ...   816.0        163.0             2.0   \n",
       "...                 ...  ...     ...          ...             ...   \n",
       "102037     Private room  ...   531.0         41.0             1.0   \n",
       "102040     Private room  ...   982.0        196.0             1.0   \n",
       "102042     Private room  ...   706.0        141.0             1.0   \n",
       "102049  Entire home/apt  ...   206.0         41.0             1.0   \n",
       "102056     Private room  ...   848.0         41.0             2.0   \n",
       "\n",
       "        number_of_reviews  last_review reviews_per_month  review_rate_number  \\\n",
       "0                     9.0   10/19/2021              0.21                 4.0   \n",
       "8                   430.0    6/24/2019              3.47                 3.0   \n",
       "9                   118.0    7/21/2017              0.99                 5.0   \n",
       "12                  188.0    6/23/2019              1.50                 4.0   \n",
       "24                   71.0     7/2/2019              0.61                 4.0   \n",
       "...                   ...          ...               ...                 ...   \n",
       "102037                0.0    6/23/2019              0.74                 3.0   \n",
       "102040              239.0    6/29/2019              8.58                 2.0   \n",
       "102042                4.0    8/15/2017              0.14                 4.0   \n",
       "102049               81.0     3/5/2019              2.96                 2.0   \n",
       "102056                0.0    6/23/2019              0.74                 1.0   \n",
       "\n",
       "        calculated_host_listings_count  days_booked  \\\n",
       "0                                  6.0        286.0   \n",
       "8                                  1.0        180.0   \n",
       "9                                  1.0        375.0   \n",
       "12                                 1.0        258.0   \n",
       "24                                 6.0        344.0   \n",
       "...                                ...          ...   \n",
       "102037                             1.0          0.0   \n",
       "102040                             2.0        361.0   \n",
       "102042                             1.0          0.0   \n",
       "102049                             2.0          0.0   \n",
       "102056                             1.0          0.0   \n",
       "\n",
       "                                              house_rules  \n",
       "0       Clean up and treat the home the way you'd like...  \n",
       "8       - Please clean up after yourself when using th...  \n",
       "9       NO SMOKING OR PETS ANYWHERE ON THE PROPERTY 1....  \n",
       "12      - One of the bedroom closets is not accessible...  \n",
       "24      We take great care of our home and expect you ...  \n",
       "...                                                   ...  \n",
       "102037                                             #NAME?  \n",
       "102040  1. Please clean-up after yourself in the kitch...  \n",
       "102042  My roommates and I take a lot of pride in keep...  \n",
       "102049  - I work at home and prefer to rent to folks w...  \n",
       "102056  Each of us is working and/or going to school a...  \n",
       "\n",
       "[32926 rows x 21 columns]"
      ]
     },
     "execution_count": 45,
     "metadata": {},
     "output_type": "execute_result"
    }
   ],
   "source": [
    "df_clean[df_clean['cancellation_policy']=='strict']"
   ]
  },
  {
   "cell_type": "markdown",
   "id": "70862c43-c9f5-44a9-b56a-bf18523c55c2",
   "metadata": {
    "id": "77-mn4cXuQpW"
   },
   "source": [
    "### Enumera el precio \"medio\" por barrio y señala cuál es el conjunto de barrios más caro para alquilar."
   ]
  },
  {
   "cell_type": "code",
   "execution_count": 46,
   "id": "a876577d-3461-4b23-ad6e-1df4e86a2d59",
   "metadata": {},
   "outputs": [
    {
     "data": {
      "text/plain": [
       "neighbourhood_group\n",
       "Bronx            625.271511\n",
       "Brooklyn         625.471627\n",
       "Manhattan        621.666140\n",
       "Queens           628.668822\n",
       "Staten Island    625.060870\n",
       "brookln          580.000000\n",
       "manhatan         460.000000\n",
       "Name: price, dtype: float64"
      ]
     },
     "execution_count": 46,
     "metadata": {},
     "output_type": "execute_result"
    }
   ],
   "source": [
    "#Enumeramos el precio medio por grupo de barrios, usaremos la mediah mean:\n",
    "grupo_precio_medio_barrio=df_clean['price'].groupby(df_clean['neighbourhood_group']).mean()\n",
    "grupo_precio_medio_barrio"
   ]
  },
  {
   "cell_type": "code",
   "execution_count": 47,
   "id": "b91aef89-9a25-45ce-921e-eb3e24d6ddd0",
   "metadata": {},
   "outputs": [
    {
     "data": {
      "text/plain": [
       "neighbourhood_group\n",
       "Queens           628.668822\n",
       "Brooklyn         625.471627\n",
       "Bronx            625.271511\n",
       "Staten Island    625.060870\n",
       "Manhattan        621.666140\n",
       "brookln          580.000000\n",
       "manhatan         460.000000\n",
       "Name: price, dtype: float64"
      ]
     },
     "execution_count": 47,
     "metadata": {},
     "output_type": "execute_result"
    }
   ],
   "source": [
    "#Ordenamos el DataFrame en orden descendente y se obtiene desde el grupo de barrios más caros para alquilar\n",
    "grupo_precio_medio_barrio=df_clean['price'].groupby(df_clean['neighbourhood_group']).mean().sort_values(ascending=False)\n",
    "grupo_precio_medio_barrio"
   ]
  },
  {
   "cell_type": "markdown",
   "id": "0e4d53c8-6b69-45d1-852f-af2d67dd0081",
   "metadata": {
    "id": "0mGabAaM27Md"
   },
   "source": [
    "##### Según la información anterior obtenida, el grupo de barrios más caro para alquilar es Queens."
   ]
  },
  {
   "cell_type": "markdown",
   "id": "2746cb04-8944-4818-86b5-3120aa9564fd",
   "metadata": {
    "id": "6Av8Wbsh_cV-"
   },
   "source": [
    "##### Por otro lado no tenemos suficiente contexto de información, para asumir que  brookln y manhatan después de realizar algunos procedimientos podrían cambiar sus nombres a : Brooklyn y Manhattan respectivamente; así que a lo largo del ejercicio los hemos considerado con sus nombres originales, siendo diferentes neighbourhood_grup."
   ]
  },
  {
   "cell_type": "markdown",
   "id": "MqAfrs2_K86E",
   "metadata": {
    "id": "MqAfrs2_K86E"
   },
   "source": [
    "## Tarea 5a: Visualización de datos (Cualquier herramienta)\n",
    "\n",
    "* Enumerar los distintos tipos de habitaciones disponibles en Airnb\n",
    "* Qué tipo de habitación se adhiere a una política de cancelación más estricta.\n",
    "* Enumere los precios por grupo de barrios y mencione también cuál es el grupo de barrios más caro para los alquileres.\n",
    "* Enumere los 10 barrios más caros por orden creciente de precio con la ayuda de un gráfico de barras horizontales. ¿Cuál es el barrio más barato?\n",
    "* Enumere los barrios que ofrecen alquileres a corto plazo de menos de 10 días. Ilustrar con un gráfico de barras\n",
    "* Enumere los precios con respecto al tipo de habitación utilizando un gráfico de barras y exponga también sus inferencias.\n",
    "* Cree un gráfico circular que muestre la distribución de los días reservados para cada grupo de barrios.\n",
    "\n",
    "Si utiliza Python para este ejercicio, por favor incluya el código en las celdas de abajo. Si utiliza cualquier otra herramienta, por favor incluya pantallazos de su trabajo."
   ]
  },
  {
   "cell_type": "code",
   "execution_count": 48,
   "id": "F1yOLcQj4tGE",
   "metadata": {
    "id": "F1yOLcQj4tGE"
   },
   "outputs": [],
   "source": [
    "import pandas as pd\n",
    "import numpy as np\n",
    "import seaborn as sns\n",
    "import matplotlib.pyplot as plt"
   ]
  },
  {
   "cell_type": "markdown",
   "id": "c4109a36-fb02-4939-9c13-53c2eef643c9",
   "metadata": {
    "id": "hhRhNjST_4SG"
   },
   "source": [
    "### Enumerar los distintos tipos de habitaciones disponibles en Airnb"
   ]
  },
  {
   "cell_type": "code",
   "execution_count": 49,
   "id": "bfa24eff-6213-4d7f-a32b-f182d917a609",
   "metadata": {},
   "outputs": [
    {
     "data": {
      "text/plain": [
       "Entire home/apt    51987\n",
       "Private room       44887\n",
       "Shared room         2149\n",
       "Hotel room           115\n",
       "Name: room_type, dtype: int64"
      ]
     },
     "execution_count": 49,
     "metadata": {},
     "output_type": "execute_result"
    }
   ],
   "source": [
    "df_clean['room_type'].value_counts()"
   ]
  },
  {
   "cell_type": "code",
   "execution_count": 50,
   "id": "da0c538e-7e74-4851-a980-8ffd831ffc5c",
   "metadata": {},
   "outputs": [
    {
     "data": {
      "text/plain": [
       "Entire home/apt    51987\n",
       "Private room       44887\n",
       "Shared room         2149\n",
       "Hotel room           115\n",
       "Name: room_type, dtype: int64"
      ]
     },
     "execution_count": 50,
     "metadata": {},
     "output_type": "execute_result"
    }
   ],
   "source": [
    "tipos_habitaciones=df_clean['room_type'].value_counts()\n",
    "tipos_habitaciones"
   ]
  },
  {
   "cell_type": "code",
   "execution_count": 51,
   "id": "dfc9f466-1cb9-4314-8cd6-e423f6ecd573",
   "metadata": {},
   "outputs": [
    {
     "data": {
      "image/png": "[encoded data removed]",
      "text/plain": [
       "<Figure size 432x288 with 1 Axes>"
      ]
     },
     "metadata": {
      "needs_background": "light"
     },
     "output_type": "display_data"
    }
   ],
   "source": [
    "#Gráfico de barras)\n",
    "# Creamos el gráfico de barras con colores personalizados\n",
    "colores = ['skyblue', 'lightgreen', 'lightcoral', 'gold']\n",
    "tipos_habitaciones.plot(kind=\"bar\", color=colores)\n",
    "#Personalizar el grafico\n",
    "plt.xlabel(\"Tipos de habitaciones\")\n",
    "plt.ylabel(\"Número de habitaciones\")\n",
    "plt.title(\"Tipos de habitaciones disponibles en Airnb\")\n",
    "\n",
    "#Mostrar el gráfico\n",
    "plt.show()"
   ]
  },
  {
   "cell_type": "markdown",
   "id": "7920bff4-4823-4718-93ae-58be6027dee0",
   "metadata": {
    "id": "R328dmGLAlxT"
   },
   "source": [
    "### Qué tipo de habitación se adhiere a una política de cancelación más estricta."
   ]
  },
  {
   "cell_type": "code",
   "execution_count": 52,
   "id": "24e9d38a-5b54-4cbf-a425-a0e70402f63c",
   "metadata": {},
   "outputs": [
    {
     "data": {
      "text/plain": [
       "Entire home/apt    17238\n",
       "Private room       14936\n",
       "Shared room          718\n",
       "Hotel room            34\n",
       "Name: room_type, dtype: int64"
      ]
     },
     "execution_count": 52,
     "metadata": {},
     "output_type": "execute_result"
    }
   ],
   "source": [
    "politica_estricta=df_clean[df_clean['cancellation_policy']=='strict']\n",
    "politica_estricta[\"room_type\"].value_counts()"
   ]
  },
  {
   "cell_type": "code",
   "execution_count": 53,
   "id": "947c9bc4-546c-4eb7-8106-7c247147cac4",
   "metadata": {},
   "outputs": [
    {
     "data": {
      "text/plain": [
       "Entire home/apt    17238\n",
       "Private room       14936\n",
       "Shared room          718\n",
       "Hotel room            34\n",
       "Name: room_type, dtype: int64"
      ]
     },
     "execution_count": 53,
     "metadata": {},
     "output_type": "execute_result"
    }
   ],
   "source": [
    "habitaciones_politica_estricta = politica_estricta[\"room_type\"].value_counts()\n",
    "habitaciones_politica_estricta"
   ]
  },
  {
   "cell_type": "code",
   "execution_count": 54,
   "id": "16363e36-380c-4fd7-b56c-6e880f63ddb4",
   "metadata": {},
   "outputs": [
    {
     "data": {
      "image/png": "[encoded data removed]",
      "text/plain": [
       "<Figure size 432x288 with 1 Axes>"
      ]
     },
     "metadata": {
      "needs_background": "light"
     },
     "output_type": "display_data"
    }
   ],
   "source": [
    "#Gráfico de barras\n",
    "# Creamos el gráfico de barras con colores personalizados\n",
    "colores = ['skyblue', 'lightgreen', 'lightcoral', 'gold']\n",
    "habitaciones_politica_estricta.plot(kind=\"bar\", color=colores)\n",
    "#Personalizar el grafico\n",
    "plt.xlabel(\"Tipos de habitaciones\")\n",
    "plt.ylabel(\"Número de habitaciones\")\n",
    "plt.title(\"Tipos de habitaciones según política de cancelación más estricta en Airnb\")\n",
    "\n",
    "#Mostrar el gráfico\n",
    "plt.show()"
   ]
  },
  {
   "cell_type": "markdown",
   "id": "b1273540-a0c4-417c-8195-3ed62a2473fe",
   "metadata": {
    "id": "6ibTXE656VPO"
   },
   "source": [
    "##### El tipo de habitación se adhiere a una política de cancelación más estricta es Entire home/apt"
   ]
  },
  {
   "cell_type": "markdown",
   "id": "6a86a4d1-5834-4e91-a6e0-9e13652c5228",
   "metadata": {
    "id": "ifkuRmnQA7Bb"
   },
   "source": [
    "### Enumere los precios por grupo de barrios y mencione también cuál es el grupo de barrios más caro para los alquileres."
   ]
  },
  {
   "cell_type": "markdown",
   "id": "556e8297-e7a7-4300-ae7f-622780d24a1f",
   "metadata": {
    "id": "YViPO3hfSlc8"
   },
   "source": [
    "##### En este caso usamos mean(), para obtener los precios promedio por grupo de barrios y nos proporcione la lista de los grupos de barrios más caros en términos de precio promedio. No aplicamos sum(), porque estaríamos obteniendo la suma total de los precios por grupo de barrios."
   ]
  },
  {
   "cell_type": "code",
   "execution_count": 55,
   "id": "97dc6c76-f6d4-4e67-890e-d502c5fc428d",
   "metadata": {},
   "outputs": [
    {
     "data": {
      "text/plain": [
       "neighbourhood_group\n",
       "Queens           628.668822\n",
       "Brooklyn         625.471627\n",
       "Bronx            625.271511\n",
       "Staten Island    625.060870\n",
       "Manhattan        621.666140\n",
       "brookln          580.000000\n",
       "manhatan         460.000000\n",
       "Name: price, dtype: float64"
      ]
     },
     "execution_count": 55,
     "metadata": {},
     "output_type": "execute_result"
    }
   ],
   "source": [
    "grupo_precio_barrio_desc=df_clean['price'].groupby(df_clean['neighbourhood_group']).mean().sort_values(ascending=False)\n",
    "grupo_precio_barrio_desc"
   ]
  },
  {
   "cell_type": "code",
   "execution_count": 56,
   "id": "c0f41c56-f98c-460b-a8db-51c42a6417d1",
   "metadata": {},
   "outputs": [
    {
     "data": {
      "image/png": "[encoded data removed]",
      "text/plain": [
       "<Figure size 432x288 with 1 Axes>"
      ]
     },
     "metadata": {
      "needs_background": "light"
     },
     "output_type": "display_data"
    }
   ],
   "source": [
    "# Calcular el grupo de barrios más caro\n",
    "grupo_precio_barrio_desc = df_clean['price'].groupby(df_clean['neighbourhood_group']).mean().sort_values(ascending=False)\n",
    "\n",
    "# Creamos el gráfico de barras\n",
    "plt.bar(grupo_precio_barrio_desc.index, grupo_precio_barrio_desc, color='skyblue')\n",
    "\n",
    "# Resaltamos el grupo de barrios más caro con el color rojo\n",
    "barrios_mas_caros = grupo_precio_barrio_desc.idxmax()\n",
    "indice_mas_caro = grupo_precio_barrio_desc.index.get_loc(barrios_mas_caros)\n",
    "plt.bar(barrios_mas_caros, grupo_precio_barrio_desc[barrios_mas_caros], color='red', label='Grupo barrio más caro')\n",
    "\n",
    "# Personalizamos el gráfico\n",
    "plt.xlabel(\"Grupo de barrios\")\n",
    "plt.ylabel(\"Precios de alquiler\")\n",
    "plt.title(\"Grupo de barrios más caro para alquileres\")\n",
    "plt.legend()\n",
    "\n",
    "# Rotamos las  etiquetas del eje x para mayor legibilidad\n",
    "plt.xticks(rotation=45, ha='right')\n",
    "\n",
    "# Mostramos el gráfico\n",
    "plt.show()"
   ]
  },
  {
   "cell_type": "markdown",
   "id": "f0603bf2-6c4f-44c5-a637-beb5e170bc02",
   "metadata": {
    "id": "sm54gjVw6qH2"
   },
   "source": [
    "##### El grupo de barrios más caro para los alquileres según precio medio es Queens"
   ]
  },
  {
   "cell_type": "markdown",
   "id": "f9f44808-184f-4ca1-b945-111717f19702",
   "metadata": {
    "id": "mZ7L3RH0mSdm"
   },
   "source": [
    "### Enumere los 10 barrios más caros por orden creciente de precio con la ayuda de un gráfico de barras horizontales. ¿Cuál es el barrio más barato?"
   ]
  },
  {
   "cell_type": "markdown",
   "id": "9bf6e046-2e34-4593-9d7a-e618a3780b35",
   "metadata": {
    "id": "qZZ1qO8gI8F3"
   },
   "source": [
    "##### Calculamos el precio promedio mean() por barrio, ya que estamos interesados en el precio promedio y no en la suma total, (Mientras que sum() calcula la suma total de los precios por barrios, pero no nos proporciona la lista de los barrios más caros en términos de precio promedio)."
   ]
  },
  {
   "cell_type": "code",
   "execution_count": 57,
   "id": "5c169aa5-8d2b-4200-8ecd-53bb5f430317",
   "metadata": {},
   "outputs": [
    {
     "data": {
      "text/plain": [
       "neighbourhood\n",
       "New Dorp                      1045.333333\n",
       "Chelsea, Staten Island        1042.000000\n",
       "Fort Wadsworth                1024.000000\n",
       "Little Neck                    817.750000\n",
       "Jamaica Hills                  812.904762\n",
       "                                 ...     \n",
       "Rossville                      327.500000\n",
       "Breezy Point                   309.888889\n",
       "Spuyten Duyvil                 307.000000\n",
       "Bay Terrace, Staten Island     306.000000\n",
       "Lighthouse Hill                107.666667\n",
       "Name: price, Length: 224, dtype: float64"
      ]
     },
     "execution_count": 57,
     "metadata": {},
     "output_type": "execute_result"
    }
   ],
   "source": [
    "#Calculamos los diez barrios más caros en orden creciente\n",
    "barrios_caros_ascendente = df_clean.groupby('neighbourhood')['price'].mean().sort_values(ascending=False)\n",
    "barrios_caros_ascendente"
   ]
  },
  {
   "cell_type": "code",
   "execution_count": 58,
   "id": "e121acf7-dec4-4333-90f3-2dacdc04ca3f",
   "metadata": {},
   "outputs": [
    {
     "data": {
      "text/plain": [
       "neighbourhood\n",
       "New Dorp                  1045.333333\n",
       "Chelsea, Staten Island    1042.000000\n",
       "Fort Wadsworth            1024.000000\n",
       "Little Neck                817.750000\n",
       "Jamaica Hills              812.904762\n",
       "Shore Acres                805.142857\n",
       "Arden Heights              804.888889\n",
       "Midland Beach              796.176471\n",
       "Mill Basin                 775.142857\n",
       "Riverdale                  768.736842\n",
       "Name: price, dtype: float64"
      ]
     },
     "execution_count": 58,
     "metadata": {},
     "output_type": "execute_result"
    }
   ],
   "source": [
    "# Aplicamos head(10) para que nos muestren los 10 barrios más caros\n",
    "TopBarrios_caros_ascendente = df_clean.groupby('neighbourhood')['price'].mean().sort_values(ascending=False).head(10)\n",
    "TopBarrios_caros_ascendente"
   ]
  },
  {
   "cell_type": "code",
   "execution_count": 59,
   "id": "36459045-1b32-46f5-ad31-a257ff8e926b",
   "metadata": {},
   "outputs": [
    {
     "data": {
      "image/png": "[encoded data removed]",
      "text/plain": [
       "<Figure size 432x288 with 1 Axes>"
      ]
     },
     "metadata": {
      "needs_background": "light"
     },
     "output_type": "display_data"
    }
   ],
   "source": [
    "# Calculamos el barrio más barato\n",
    "barrio_mas_barato = TopBarrios_caros_ascendente.idxmin()\n",
    "indice_mas_barato = TopBarrios_caros_ascendente.index.get_loc(barrio_mas_barato)\n",
    "\n",
    "# Creamos el gráfico de barras horizontales\n",
    "plt.barh(TopBarrios_caros_ascendente.index, TopBarrios_caros_ascendente, color='skyblue')\n",
    "\n",
    "# Resaltamos el barrio más barato con el color rojo\n",
    "plt.barh(barrio_mas_barato, TopBarrios_caros_ascendente[barrio_mas_barato], color='red', label='Más barato')\n",
    "\n",
    "# Personalizamos el gráfico\n",
    "plt.xlabel(\"Barrios\")\n",
    "plt.ylabel(\"Precio medio\")\n",
    "plt.title(\"Top de los diez barrios más caros según el precio ascendente\")\n",
    "plt.legend()\n",
    "\n",
    "# Rotamos etiquetas del eje x para mayor legibilidad\n",
    "plt.xticks(rotation=45, ha='right')\n",
    "\n",
    "# Mostramos el gráfico\n",
    "plt.show()"
   ]
  },
  {
   "cell_type": "markdown",
   "id": "3f1b0ac3-dc0c-42ad-b398-3bdb0e229385",
   "metadata": {},
   "source": [
    "##### El barrio más barato del top de los 10 barrios más caros es Riverdale."
   ]
  },
  {
   "cell_type": "markdown",
   "id": "2cd8450b-b5fc-466a-b6a7-f0f103273235",
   "metadata": {
    "id": "cfipKMz_ViA1"
   },
   "source": [
    "### Enumere los barrios que ofrecen alquileres a corto plazo de menos de 10 días. Ilustrar con un gráfico de barras"
   ]
  },
  {
   "cell_type": "code",
   "execution_count": 60,
   "id": "d4072851-51f6-45b0-bbeb-e32f2b187a20",
   "metadata": {},
   "outputs": [
    {
     "data": {
      "text/plain": [
       " 1.0      24597\n",
       " 2.0      22744\n",
       " 3.0      15982\n",
       " 30.0     11345\n",
       " 4.0       6379\n",
       "          ...  \n",
       "-3.0          1\n",
       " 273.0        1\n",
       " 149.0        1\n",
       " 175.0        1\n",
       " 825.0        1\n",
       "Name: minimum_nights, Length: 153, dtype: int64"
      ]
     },
     "execution_count": 60,
     "metadata": {},
     "output_type": "execute_result"
    }
   ],
   "source": [
    "df_clean['minimum_nights'].value_counts()"
   ]
  },
  {
   "cell_type": "code",
   "execution_count": 61,
   "id": "c60c7db4-9e87-4cd4-9672-261db538f648",
   "metadata": {},
   "outputs": [
    {
     "data": {
      "text/html": [
       "<div>\n",
       "<style scoped>\n",
       "    .dataframe tbody tr th:only-of-type {\n",
       "        vertical-align: middle;\n",
       "    }\n",
       "\n",
       "    .dataframe tbody tr th {\n",
       "        vertical-align: top;\n",
       "    }\n",
       "\n",
       "    .dataframe thead th {\n",
       "        text-align: right;\n",
       "    }\n",
       "</style>\n",
       "<table border=\"1\" class=\"dataframe\">\n",
       "  <thead>\n",
       "    <tr style=\"text-align: right;\">\n",
       "      <th></th>\n",
       "      <th>name</th>\n",
       "      <th>host_identity_verified</th>\n",
       "      <th>host_name</th>\n",
       "      <th>neighbourhood_group</th>\n",
       "      <th>neighbourhood</th>\n",
       "      <th>lat</th>\n",
       "      <th>long</th>\n",
       "      <th>instant_bookable</th>\n",
       "      <th>cancellation_policy</th>\n",
       "      <th>room_type</th>\n",
       "      <th>...</th>\n",
       "      <th>price</th>\n",
       "      <th>service_fee</th>\n",
       "      <th>minimum_nights</th>\n",
       "      <th>number_of_reviews</th>\n",
       "      <th>last_review</th>\n",
       "      <th>reviews_per_month</th>\n",
       "      <th>review_rate_number</th>\n",
       "      <th>calculated_host_listings_count</th>\n",
       "      <th>days_booked</th>\n",
       "      <th>house_rules</th>\n",
       "    </tr>\n",
       "  </thead>\n",
       "  <tbody>\n",
       "    <tr>\n",
       "      <th>2</th>\n",
       "      <td>THE VILLAGE OF HARLEM....NEW YORK !</td>\n",
       "      <td>unconfirmed</td>\n",
       "      <td>Elise</td>\n",
       "      <td>Manhattan</td>\n",
       "      <td>Harlem</td>\n",
       "      <td>40.80902</td>\n",
       "      <td>-73.94190</td>\n",
       "      <td>True</td>\n",
       "      <td>flexible</td>\n",
       "      <td>Private room</td>\n",
       "      <td>...</td>\n",
       "      <td>620.0</td>\n",
       "      <td>124.0</td>\n",
       "      <td>3.0</td>\n",
       "      <td>0.0</td>\n",
       "      <td>6/23/2019</td>\n",
       "      <td>0.74</td>\n",
       "      <td>5.0</td>\n",
       "      <td>1.0</td>\n",
       "      <td>352.0</td>\n",
       "      <td>I encourage you to use my kitchen, cooking and...</td>\n",
       "    </tr>\n",
       "    <tr>\n",
       "      <th>5</th>\n",
       "      <td>Large Cozy 1 BR Apartment In Midtown East</td>\n",
       "      <td>verified</td>\n",
       "      <td>Michelle</td>\n",
       "      <td>Manhattan</td>\n",
       "      <td>Murray Hill</td>\n",
       "      <td>40.74767</td>\n",
       "      <td>-73.97500</td>\n",
       "      <td>True</td>\n",
       "      <td>flexible</td>\n",
       "      <td>Entire home/apt</td>\n",
       "      <td>...</td>\n",
       "      <td>577.0</td>\n",
       "      <td>115.0</td>\n",
       "      <td>3.0</td>\n",
       "      <td>74.0</td>\n",
       "      <td>6/22/2019</td>\n",
       "      <td>0.59</td>\n",
       "      <td>3.0</td>\n",
       "      <td>1.0</td>\n",
       "      <td>374.0</td>\n",
       "      <td>No smoking, please, and no drugs.</td>\n",
       "    </tr>\n",
       "    <tr>\n",
       "      <th>8</th>\n",
       "      <td>Large Furnished Room Near B'way</td>\n",
       "      <td>verified</td>\n",
       "      <td>Evelyn</td>\n",
       "      <td>Manhattan</td>\n",
       "      <td>Hell's Kitchen</td>\n",
       "      <td>40.76489</td>\n",
       "      <td>-73.98493</td>\n",
       "      <td>True</td>\n",
       "      <td>strict</td>\n",
       "      <td>Private room</td>\n",
       "      <td>...</td>\n",
       "      <td>1018.0</td>\n",
       "      <td>204.0</td>\n",
       "      <td>2.0</td>\n",
       "      <td>430.0</td>\n",
       "      <td>6/24/2019</td>\n",
       "      <td>3.47</td>\n",
       "      <td>3.0</td>\n",
       "      <td>1.0</td>\n",
       "      <td>180.0</td>\n",
       "      <td>- Please clean up after yourself when using th...</td>\n",
       "    </tr>\n",
       "    <tr>\n",
       "      <th>9</th>\n",
       "      <td>Cozy Clean Guest Room - Family Apt</td>\n",
       "      <td>unconfirmed</td>\n",
       "      <td>Carl</td>\n",
       "      <td>Manhattan</td>\n",
       "      <td>Upper West Side</td>\n",
       "      <td>40.80178</td>\n",
       "      <td>-73.96723</td>\n",
       "      <td>False</td>\n",
       "      <td>strict</td>\n",
       "      <td>Private room</td>\n",
       "      <td>...</td>\n",
       "      <td>291.0</td>\n",
       "      <td>58.0</td>\n",
       "      <td>2.0</td>\n",
       "      <td>118.0</td>\n",
       "      <td>7/21/2017</td>\n",
       "      <td>0.99</td>\n",
       "      <td>5.0</td>\n",
       "      <td>1.0</td>\n",
       "      <td>375.0</td>\n",
       "      <td>NO SMOKING OR PETS ANYWHERE ON THE PROPERTY 1....</td>\n",
       "    </tr>\n",
       "    <tr>\n",
       "      <th>10</th>\n",
       "      <td>Cute &amp; Cozy Lower East Side 1 bdrm</td>\n",
       "      <td>verified</td>\n",
       "      <td>Miranda</td>\n",
       "      <td>Manhattan</td>\n",
       "      <td>Chinatown</td>\n",
       "      <td>40.71344</td>\n",
       "      <td>-73.99037</td>\n",
       "      <td>False</td>\n",
       "      <td>flexible</td>\n",
       "      <td>Entire home/apt</td>\n",
       "      <td>...</td>\n",
       "      <td>319.0</td>\n",
       "      <td>64.0</td>\n",
       "      <td>1.0</td>\n",
       "      <td>160.0</td>\n",
       "      <td>6/9/2019</td>\n",
       "      <td>1.33</td>\n",
       "      <td>3.0</td>\n",
       "      <td>4.0</td>\n",
       "      <td>1.0</td>\n",
       "      <td>#NAME?</td>\n",
       "    </tr>\n",
       "    <tr>\n",
       "      <th>...</th>\n",
       "      <td>...</td>\n",
       "      <td>...</td>\n",
       "      <td>...</td>\n",
       "      <td>...</td>\n",
       "      <td>...</td>\n",
       "      <td>...</td>\n",
       "      <td>...</td>\n",
       "      <td>...</td>\n",
       "      <td>...</td>\n",
       "      <td>...</td>\n",
       "      <td>...</td>\n",
       "      <td>...</td>\n",
       "      <td>...</td>\n",
       "      <td>...</td>\n",
       "      <td>...</td>\n",
       "      <td>...</td>\n",
       "      <td>...</td>\n",
       "      <td>...</td>\n",
       "      <td>...</td>\n",
       "      <td>...</td>\n",
       "      <td>...</td>\n",
       "    </tr>\n",
       "    <tr>\n",
       "      <th>102053</th>\n",
       "      <td>Cozy bright room near Prospect Park</td>\n",
       "      <td>unconfirmed</td>\n",
       "      <td>Mariam</td>\n",
       "      <td>Brooklyn</td>\n",
       "      <td>Flatbush</td>\n",
       "      <td>40.64945</td>\n",
       "      <td>-73.96108</td>\n",
       "      <td>True</td>\n",
       "      <td>moderate</td>\n",
       "      <td>Private room</td>\n",
       "      <td>...</td>\n",
       "      <td>696.0</td>\n",
       "      <td>41.0</td>\n",
       "      <td>7.0</td>\n",
       "      <td>12.0</td>\n",
       "      <td>3/27/2019</td>\n",
       "      <td>0.44</td>\n",
       "      <td>5.0</td>\n",
       "      <td>1.0</td>\n",
       "      <td>0.0</td>\n",
       "      <td>Shoes off Clean After yourself Turn Lights and...</td>\n",
       "    </tr>\n",
       "    <tr>\n",
       "      <th>102054</th>\n",
       "      <td>Private Bedroom with Amazing Rooftop View</td>\n",
       "      <td>verified</td>\n",
       "      <td>Trey</td>\n",
       "      <td>Brooklyn</td>\n",
       "      <td>Bushwick</td>\n",
       "      <td>40.69872</td>\n",
       "      <td>-73.92718</td>\n",
       "      <td>False</td>\n",
       "      <td>flexible</td>\n",
       "      <td>Private room</td>\n",
       "      <td>...</td>\n",
       "      <td>909.0</td>\n",
       "      <td>41.0</td>\n",
       "      <td>1.0</td>\n",
       "      <td>19.0</td>\n",
       "      <td>8/31/2017</td>\n",
       "      <td>0.72</td>\n",
       "      <td>3.0</td>\n",
       "      <td>2.0</td>\n",
       "      <td>0.0</td>\n",
       "      <td>#NAME?</td>\n",
       "    </tr>\n",
       "    <tr>\n",
       "      <th>102055</th>\n",
       "      <td>Pretty Brooklyn One-Bedroom for 2 to 4 people</td>\n",
       "      <td>verified</td>\n",
       "      <td>Michael</td>\n",
       "      <td>Brooklyn</td>\n",
       "      <td>Bedford-Stuyvesant</td>\n",
       "      <td>40.67810</td>\n",
       "      <td>-73.90822</td>\n",
       "      <td>True</td>\n",
       "      <td>moderate</td>\n",
       "      <td>Entire home/apt</td>\n",
       "      <td>...</td>\n",
       "      <td>387.0</td>\n",
       "      <td>41.0</td>\n",
       "      <td>2.0</td>\n",
       "      <td>50.0</td>\n",
       "      <td>6/26/2019</td>\n",
       "      <td>3.12</td>\n",
       "      <td>4.0</td>\n",
       "      <td>2.0</td>\n",
       "      <td>235.0</td>\n",
       "      <td>* Check out: 10am * We made an effort to keep ...</td>\n",
       "    </tr>\n",
       "    <tr>\n",
       "      <th>102056</th>\n",
       "      <td>Room &amp; private bathroom in historic Harlem</td>\n",
       "      <td>unconfirmed</td>\n",
       "      <td>Shireen</td>\n",
       "      <td>Manhattan</td>\n",
       "      <td>Harlem</td>\n",
       "      <td>40.81248</td>\n",
       "      <td>-73.94317</td>\n",
       "      <td>True</td>\n",
       "      <td>strict</td>\n",
       "      <td>Private room</td>\n",
       "      <td>...</td>\n",
       "      <td>848.0</td>\n",
       "      <td>41.0</td>\n",
       "      <td>2.0</td>\n",
       "      <td>0.0</td>\n",
       "      <td>6/23/2019</td>\n",
       "      <td>0.74</td>\n",
       "      <td>1.0</td>\n",
       "      <td>1.0</td>\n",
       "      <td>0.0</td>\n",
       "      <td>Each of us is working and/or going to school a...</td>\n",
       "    </tr>\n",
       "    <tr>\n",
       "      <th>102057</th>\n",
       "      <td>Rosalee Stewart</td>\n",
       "      <td>verified</td>\n",
       "      <td>Stanley</td>\n",
       "      <td>Manhattan</td>\n",
       "      <td>Harlem</td>\n",
       "      <td>40.81315</td>\n",
       "      <td>-73.94747</td>\n",
       "      <td>False</td>\n",
       "      <td>flexible</td>\n",
       "      <td>Entire home/apt</td>\n",
       "      <td>...</td>\n",
       "      <td>1128.0</td>\n",
       "      <td>41.0</td>\n",
       "      <td>4.0</td>\n",
       "      <td>22.0</td>\n",
       "      <td>6/15/2019</td>\n",
       "      <td>0.85</td>\n",
       "      <td>4.0</td>\n",
       "      <td>1.0</td>\n",
       "      <td>238.0</td>\n",
       "      <td>Please remember that this is a residential bui...</td>\n",
       "    </tr>\n",
       "  </tbody>\n",
       "</table>\n",
       "<p>81297 rows × 21 columns</p>\n",
       "</div>"
      ],
      "text/plain": [
       "                                                 name host_identity_verified  \\\n",
       "2                 THE VILLAGE OF HARLEM....NEW YORK !            unconfirmed   \n",
       "5           Large Cozy 1 BR Apartment In Midtown East               verified   \n",
       "8                     Large Furnished Room Near B'way               verified   \n",
       "9                  Cozy Clean Guest Room - Family Apt            unconfirmed   \n",
       "10                 Cute & Cozy Lower East Side 1 bdrm               verified   \n",
       "...                                               ...                    ...   \n",
       "102053            Cozy bright room near Prospect Park            unconfirmed   \n",
       "102054      Private Bedroom with Amazing Rooftop View               verified   \n",
       "102055  Pretty Brooklyn One-Bedroom for 2 to 4 people               verified   \n",
       "102056     Room & private bathroom in historic Harlem            unconfirmed   \n",
       "102057                                Rosalee Stewart               verified   \n",
       "\n",
       "       host_name neighbourhood_group       neighbourhood       lat      long  \\\n",
       "2          Elise           Manhattan              Harlem  40.80902 -73.94190   \n",
       "5       Michelle           Manhattan         Murray Hill  40.74767 -73.97500   \n",
       "8         Evelyn           Manhattan      Hell's Kitchen  40.76489 -73.98493   \n",
       "9           Carl           Manhattan     Upper West Side  40.80178 -73.96723   \n",
       "10       Miranda           Manhattan           Chinatown  40.71344 -73.99037   \n",
       "...          ...                 ...                 ...       ...       ...   \n",
       "102053    Mariam            Brooklyn            Flatbush  40.64945 -73.96108   \n",
       "102054      Trey            Brooklyn            Bushwick  40.69872 -73.92718   \n",
       "102055   Michael            Brooklyn  Bedford-Stuyvesant  40.67810 -73.90822   \n",
       "102056   Shireen           Manhattan              Harlem  40.81248 -73.94317   \n",
       "102057   Stanley           Manhattan              Harlem  40.81315 -73.94747   \n",
       "\n",
       "        instant_bookable cancellation_policy        room_type  ...   price  \\\n",
       "2                   True            flexible     Private room  ...   620.0   \n",
       "5                   True            flexible  Entire home/apt  ...   577.0   \n",
       "8                   True              strict     Private room  ...  1018.0   \n",
       "9                  False              strict     Private room  ...   291.0   \n",
       "10                 False            flexible  Entire home/apt  ...   319.0   \n",
       "...                  ...                 ...              ...  ...     ...   \n",
       "102053              True            moderate     Private room  ...   696.0   \n",
       "102054             False            flexible     Private room  ...   909.0   \n",
       "102055              True            moderate  Entire home/apt  ...   387.0   \n",
       "102056              True              strict     Private room  ...   848.0   \n",
       "102057             False            flexible  Entire home/apt  ...  1128.0   \n",
       "\n",
       "        service_fee  minimum_nights  number_of_reviews  last_review  \\\n",
       "2             124.0             3.0                0.0    6/23/2019   \n",
       "5             115.0             3.0               74.0    6/22/2019   \n",
       "8             204.0             2.0              430.0    6/24/2019   \n",
       "9              58.0             2.0              118.0    7/21/2017   \n",
       "10             64.0             1.0              160.0     6/9/2019   \n",
       "...             ...             ...                ...          ...   \n",
       "102053         41.0             7.0               12.0    3/27/2019   \n",
       "102054         41.0             1.0               19.0    8/31/2017   \n",
       "102055         41.0             2.0               50.0    6/26/2019   \n",
       "102056         41.0             2.0                0.0    6/23/2019   \n",
       "102057         41.0             4.0               22.0    6/15/2019   \n",
       "\n",
       "       reviews_per_month  review_rate_number  calculated_host_listings_count  \\\n",
       "2                   0.74                 5.0                             1.0   \n",
       "5                   0.59                 3.0                             1.0   \n",
       "8                   3.47                 3.0                             1.0   \n",
       "9                   0.99                 5.0                             1.0   \n",
       "10                  1.33                 3.0                             4.0   \n",
       "...                  ...                 ...                             ...   \n",
       "102053              0.44                 5.0                             1.0   \n",
       "102054              0.72                 3.0                             2.0   \n",
       "102055              3.12                 4.0                             2.0   \n",
       "102056              0.74                 1.0                             1.0   \n",
       "102057              0.85                 4.0                             1.0   \n",
       "\n",
       "        days_booked                                        house_rules  \n",
       "2             352.0  I encourage you to use my kitchen, cooking and...  \n",
       "5             374.0                  No smoking, please, and no drugs.  \n",
       "8             180.0  - Please clean up after yourself when using th...  \n",
       "9             375.0  NO SMOKING OR PETS ANYWHERE ON THE PROPERTY 1....  \n",
       "10              1.0                                             #NAME?  \n",
       "...             ...                                                ...  \n",
       "102053          0.0  Shoes off Clean After yourself Turn Lights and...  \n",
       "102054          0.0                                             #NAME?  \n",
       "102055        235.0  * Check out: 10am * We made an effort to keep ...  \n",
       "102056          0.0  Each of us is working and/or going to school a...  \n",
       "102057        238.0  Please remember that this is a residential bui...  \n",
       "\n",
       "[81297 rows x 21 columns]"
      ]
     },
     "execution_count": 61,
     "metadata": {},
     "output_type": "execute_result"
    }
   ],
   "source": [
    "df_alquiler_cp = df_clean[df_clean['minimum_nights'] < 10]\n",
    "df_alquiler_cp"
   ]
  },
  {
   "cell_type": "code",
   "execution_count": 62,
   "id": "3ae626ac-7794-42e7-bf79-06b20bcecc87",
   "metadata": {},
   "outputs": [
    {
     "data": {
      "text/plain": [
       "Brooklyn         34342\n",
       "Manhattan        32787\n",
       "Queens           10970\n",
       "Bronx             2367\n",
       "Staten Island      829\n",
       "brookln              1\n",
       "manhatan             1\n",
       "Name: neighbourhood_group, dtype: int64"
      ]
     },
     "execution_count": 62,
     "metadata": {},
     "output_type": "execute_result"
    }
   ],
   "source": [
    "df_alquiler_cp['neighbourhood_group'].value_counts()"
   ]
  },
  {
   "cell_type": "code",
   "execution_count": 63,
   "id": "fc53150a-0786-49f7-bf54-9dcd551cdd7a",
   "metadata": {},
   "outputs": [],
   "source": [
    "GBarrios_alquiler_cp = df_alquiler_cp['neighbourhood_group'].value_counts()"
   ]
  },
  {
   "cell_type": "code",
   "execution_count": 65,
   "id": "dddb6045-8756-4d72-b5f9-2c56bd21a95a",
   "metadata": {},
   "outputs": [
    {
     "data": {
      "image/png": "[encoded data removed]",
      "text/plain": [
       "<Figure size 432x288 with 1 Axes>"
      ]
     },
     "metadata": {
      "needs_background": "light"
     },
     "output_type": "display_data"
    }
   ],
   "source": [
    "#Gráfico de barras\n",
    "# Creamos el gráfico de barras con colores personalizados\n",
    "colores = ['skyblue', 'lightgreen', 'lightcoral', 'gold', 'fuchsia']\n",
    "GBarrios_alquiler_cp.plot(kind=\"bar\", color=colores)\n",
    "#Personalizar el grafico\n",
    "plt.xlabel(\"Grupo de barrios\")\n",
    "plt.ylabel(\"Alquileres a c/p\")\n",
    "plt.title(\"Barrios con alquileres a corto plazo (<10 días)\")\n",
    "\n",
    "#Mostrar el gráfico\n",
    "plt.show()"
   ]
  },
  {
   "cell_type": "markdown",
   "id": "abed0bde-8937-47bd-89c2-70a708e76ee7",
   "metadata": {
    "id": "5vL1c9WsdKWe"
   },
   "source": [
    "### Enumere los precios con respecto al tipo de habitación utilizando un gráfico de barras y exponga también sus inferencias.\n"
   ]
  },
  {
   "cell_type": "code",
   "execution_count": 152,
   "id": "67fe991b-88ea-435f-b44f-7c2d1ec04c92",
   "metadata": {},
   "outputs": [
    {
     "data": {
      "text/plain": [
       "room_type\n",
       "Hotel room         666.391304\n",
       "Shared room        630.912517\n",
       "Entire home/apt    624.227711\n",
       "Private room       623.842516\n",
       "Name: price, dtype: float64"
      ]
     },
     "execution_count": 152,
     "metadata": {},
     "output_type": "execute_result"
    }
   ],
   "source": [
    "precio_tipo_habitacion=df_clean['price'].groupby(df_clean['room_type']).mean().sort_values(ascending=False)\n",
    "precio_tipo_habitacion"
   ]
  },
  {
   "cell_type": "code",
   "execution_count": 159,
   "id": "5c613b97-3374-4541-ac6b-ad811cc9ac3b",
   "metadata": {},
   "outputs": [
    {
     "data": {
      "image/png": "[encoded data removed]",
      "text/plain": [
       "<Figure size 432x288 with 1 Axes>"
      ]
     },
     "metadata": {
      "needs_background": "light"
     },
     "output_type": "display_data"
    }
   ],
   "source": [
    "# Calcular la habitación  más barata\n",
    "habitacion_mas_barata = precio_tipo_habitacion.idxmin()\n",
    "indice_mas_barato = precio_tipo_habitacion.index.get_loc(habitacion_mas_barata)\n",
    "\n",
    "# Crear el gráfico de barras horizontales\n",
    "plt.bar(precio_tipo_habitacion.index, precio_tipo_habitacion, color='skyblue')\n",
    "\n",
    "# Resaltar la habitación más barata con el color rojo\n",
    "plt.bar(habitacion_mas_barata, precio_tipo_habitacion[habitacion_mas_barata], color='red', label='Más barata')\n",
    "\n",
    "# Personalizar el gráfico\n",
    "plt.xlabel(\"Habitaciones\")\n",
    "plt.ylabel(\"Precio medio\")\n",
    "plt.title(\"Precios con respecto al tipo de habitación\")\n",
    "plt.legend()\n",
    "\n",
    "# Rotar etiquetas del eje x para mayor legibilidad\n",
    "plt.xticks(rotation=45, ha='right')\n",
    "\n",
    "# Mostrar el gráfico\n",
    "plt.show()"
   ]
  },
  {
   "cell_type": "markdown",
   "id": "4ec2d6ae-e73f-4ca7-a9db-b3a39fbf9bdd",
   "metadata": {
    "id": "4AU45m9gzSat",
    "tags": []
   },
   "source": [
    "##### El gráfico de barras no nos aporta una información clara, así que en este caso una gráfico de caja \"boxplot\" sería una buena opción para que nos muestre la distribución de los precios por habitación."
   ]
  },
  {
   "cell_type": "code",
   "execution_count": 157,
   "id": "def88627-50de-4524-a24b-e603b822f0f0",
   "metadata": {},
   "outputs": [
    {
     "data": {
      "image/png": "[encoded data removed]",
      "text/plain": [
       "<Figure size 432x288 with 1 Axes>"
      ]
     },
     "metadata": {
      "needs_background": "light"
     },
     "output_type": "display_data"
    }
   ],
   "source": [
    "# Crear el gráfico de caja\n",
    "sns.boxplot(x='room_type', y='price', data=df_clean)\n",
    "\n",
    "# Personalizar el gráfico\n",
    "plt.xlabel('Tipo de habitación')\n",
    "plt.ylabel('Precio medio')\n",
    "plt.title('Distribución de precios por tipo de habitación')\n",
    "\n",
    "# Mostrar el gráfico\n",
    "plt.show()"
   ]
  },
  {
   "cell_type": "markdown",
   "id": "470ef2f1-6e15-46d1-9a51-1891cf65da43",
   "metadata": {
    "id": "ksyshRyb3X1d"
   },
   "source": [
    "##### Según los gráficos anteriores boxplot el comportamiento de la ditribución de los tipos de habitación:Private room, Entire home/apt, Shared room son similares.\n",
    " Mientras que en lo que respecta a Hotel room se observa que la mediana esta un tanto más abajo del centro de la caja \"intervalo intercuartilico\", por tanto estamos ante una distribución Distribución sesgada: moda <mediana <media\n",
    "\n",
    "Muestra asimetria positiva en la distribución. La media se sitúa  a la derecha de la mediana.\n",
    "En el caso de el tipo de habitación Hotel room los precios son más elevados."
   ]
  },
  {
   "cell_type": "code",
   "execution_count": null,
   "id": "ozEIpHII6H9P",
   "metadata": {
    "id": "ozEIpHII6H9P"
   },
   "outputs": [],
   "source": [
    "# Otra forma de verlo es graficando un kdeplot: esta técnica estima la distribución de probabilidad de una variable contínua,\n",
    "#En nuestro caso el precio."
   ]
  },
  {
   "cell_type": "code",
   "execution_count": 97,
   "id": "3f1eef16-2b8d-4649-8357-d5b35882ccb8",
   "metadata": {},
   "outputs": [
    {
     "data": {
      "text/plain": [
       "<AxesSubplot:xlabel='price', ylabel='Density'>"
      ]
     },
     "execution_count": 97,
     "metadata": {},
     "output_type": "execute_result"
    },
    {
     "data": {
      "image/png": "[encoded data removed]",
      "text/plain": [
       "<Figure size 432x288 with 1 Axes>"
      ]
     },
     "metadata": {
      "needs_background": "light"
     },
     "output_type": "display_data"
    }
   ],
   "source": [
    "sns.kdeplot(data=df_clean, x='price', hue='room_type')"
   ]
  },
  {
   "cell_type": "markdown",
   "id": "5e04acfb-e7b0-4384-bbe9-ad7c9c85995b",
   "metadata": {
    "id": "wV0XM5btdj7h"
   },
   "source": [
    "### Cree un gráfico circular que muestre la distribución de los días reservados para cada grupo de barrios"
   ]
  },
  {
   "cell_type": "code",
   "execution_count": 160,
   "id": "3ebfe2ed-216b-4ee6-bc59-09bbe2c58471",
   "metadata": {},
   "outputs": [
    {
     "data": {
      "text/plain": [
       "neighbourhood_group\n",
       "Bronx             468067.0\n",
       "Brooklyn         5279393.0\n",
       "Manhattan        6049246.0\n",
       "Queens           2084887.0\n",
       "Staten Island     180310.0\n",
       "brookln               47.0\n",
       "manhatan             325.0\n",
       "Name: days_booked, dtype: float64"
      ]
     },
     "execution_count": 160,
     "metadata": {},
     "output_type": "execute_result"
    }
   ],
   "source": [
    "dias_reservados_GrupoBarrios=df_clean['days_booked'].groupby(df_clean['neighbourhood_group']).sum()\n",
    "dias_reservados_GrupoBarrios"
   ]
  },
  {
   "cell_type": "code",
   "execution_count": 99,
   "id": "22d17267-3cde-4cef-a6e7-b6caf2029c8d",
   "metadata": {},
   "outputs": [
    {
     "data": {
      "image/png": "[encoded data removed]",
      "text/plain": [
       "<Figure size 576x576 with 1 Axes>"
      ]
     },
     "metadata": {},
     "output_type": "display_data"
    }
   ],
   "source": [
    "# Crea un gráfico circular\n",
    "plt.figure(figsize=(8, 8))\n",
    "plt.pie(dias_reservados_GrupoBarrios, labels=dias_reservados_GrupoBarrios.index, autopct='%1.1f%%', startangle=180, colors=plt.cm.Paired.colors)\n",
    "plt.title('Distribución de los días reservados por grupo de barrios')\n",
    "plt.show()"
   ]
  },
  {
   "cell_type": "markdown",
   "id": "51caacb2-e9a4-42ce-acda-d83b78a40d80",
   "metadata": {
    "id": "3r77Z6Bm9671"
   },
   "source": [
    "##### En el anterior gráfico circular se solapan brookln (47.0) y manhatan (325.0) porque ambos tipos de barrios son considerados con un 0.0%. Podríamos descartarlos para obtener un gráfico con menos categorías, más limpio y claro."
   ]
  },
  {
   "cell_type": "markdown",
   "id": "686IEH_tK86G",
   "metadata": {
    "id": "686IEH_tK86G"
   },
   "source": [
    "# Tarea 5b: Visualización de datos (Cualquier herramienta)\n",
    "\n",
    "* ¿El precio del servicio y el precio de la habitación tienen un impacto mutuo? Ilustre esta relación con un gráfico de dispersión e indique sus inferencias\n",
    "* Utilizando un gráfico lineal muestre en qué año tuvo lugar la máxima construcción de habitaciones.\n",
    "\n",
    "Si utiliza Python para este ejercicio, incluya el código en las celdas siguientes. Si utiliza cualquier otra herramienta, incluya capturas de pantalla de su trabajo."
   ]
  },
  {
   "cell_type": "markdown",
   "id": "21d6f5c5-c4a7-4aa3-8e44-cdcb5310e782",
   "metadata": {},
   "source": [
    "### ¿El precio del servicio y el precio de la habitación tienen un impacto mutuo? Ilustre esta relación con un gráfico de dispersión e indique sus inferencias"
   ]
  },
  {
   "cell_type": "markdown",
   "id": "UzXWSReGKTEN",
   "metadata": {
    "id": "UzXWSReGKTEN"
   },
   "source": [
    "El precio del servicio y el precio de la habitación tienen un impacto mutuo? Ilustre esta relación con un gráfico de dispersión e indique sus inferencias"
   ]
  },
  {
   "cell_type": "code",
   "execution_count": 169,
   "id": "0ba86a0d-f707-44ed-9702-77f30014df54",
   "metadata": {},
   "outputs": [
    {
     "data": {
      "image/png": "[encoded data removed]",
      "text/plain": [
       "<Figure size 720x432 with 1 Axes>"
      ]
     },
     "metadata": {
      "needs_background": "light"
     },
     "output_type": "display_data"
    }
   ],
   "source": [
    "# Crea el gráfico de dispersión\n",
    "plt.figure(figsize=(10, 6))\n",
    "sns.scatterplot(data=df_clean, x=\"service_fee\", y=\"price\")\n",
    "\n",
    "# Añade etiquetas y título\n",
    "plt.xlabel(\"Precio del Servicio\")\n",
    "plt.ylabel(\"Precio de la Habitación\")\n",
    "plt.title(\"Relación entre el Precio del Servicio y el Precio de la Habitación\")\n",
    "\n",
    "# Muestra el gráfico\n",
    "plt.show()"
   ]
  },
  {
   "cell_type": "markdown",
   "id": "2452a0f5-2075-47fb-b8d4-a2f2fd21e9b0",
   "metadata": {},
   "source": [
    "##### Mostramos el gráfico de dispersión con la leyenda de cada tipo de habitación:"
   ]
  },
  {
   "cell_type": "code",
   "execution_count": 170,
   "id": "25a18808-0efa-4631-862c-b41e4ad563ff",
   "metadata": {},
   "outputs": [
    {
     "data": {
      "image/png": "[encoded data removed]",
      "text/plain": [
       "<Figure size 720x432 with 1 Axes>"
      ]
     },
     "metadata": {
      "needs_background": "light"
     },
     "output_type": "display_data"
    }
   ],
   "source": [
    "# Crear el grafico de dispersión\n",
    "plt.figure(figsize=(10, 6))\n",
    "sns.scatterplot(data = df_clean, x =\"service_fee\", y = \"price\", hue=\"room_type\", s=30)\n",
    "# Personalizar el gráfico\n",
    "plt.xlabel(\"Precio del servicio\") \n",
    "plt.ylabel(\"Precio de la habitación\")\n",
    "plt.title(\"Relación entre el precio del servicio y el precio de la habitación\", color=\"red\")\n",
    "#Mostrar el grafico\n",
    "plt.show()"
   ]
  },
  {
   "cell_type": "markdown",
   "id": "daa41fce-d3c5-41eb-8775-3ab387c15eac",
   "metadata": {},
   "source": [
    "##### Calculamos la correlación entre el \"service_fee\" y el \"price\""
   ]
  },
  {
   "cell_type": "code",
   "execution_count": 171,
   "id": "b031039d-2416-4fc0-93b6-1e90fcf09592",
   "metadata": {},
   "outputs": [
    {
     "name": "stdout",
     "output_type": "stream",
     "text": [
      "Coeficiente de correlación:  0.9939390863925031\n"
     ]
    }
   ],
   "source": [
    "correlation = df_clean[\"service_fee\"].corr(df_clean[\"price\"])\n",
    "print(\"Coeficiente de correlación: \", correlation)"
   ]
  },
  {
   "cell_type": "markdown",
   "id": "74cb1fb7-4214-405e-bcb4-5664d17ff76e",
   "metadata": {},
   "source": [
    "##### La correlación mide de la fuerza de la relación entre dos variables, mientras que la causalidad mide el grado en que una variable influye en otra"
   ]
  },
  {
   "cell_type": "markdown",
   "id": "71891c44-a7ad-4385-b655-d4a41561fc27",
   "metadata": {
    "id": "kEVoPd7USfXk"
   },
   "source": [
    "##### El coeficientee de correlación obtenido es de: 0.9939390863925031, es un  valor cercano a 1, indica una correlación positiva fuerte, se refleja en los puntos en el gráfico tienden a formar una línea ascendente, indica que a medida que el precio del servicio aumenta, también lo hace el precio de la habitación, y viceversa.\n",
    "Esta inferencia es tentativa, dado que la correlación no implica causalidad.La correlación mide de la fuerza de la relación entre dos variables, mientras que la causalidad mide el grado en que una variable influye en otra, se tendrían que considerar otros factores que influyan en precios como la temporada del año, hubicación, etc."
   ]
  },
  {
   "cell_type": "markdown",
   "id": "047f6316-357a-42e5-a8f9-fe934e3facd2",
   "metadata": {
    "id": "6-yHM8szFv-9"
   },
   "source": [
    "### Utilizando un gráfico lineal muestre en qué año tuvo lugar la máxima construcción de habitaciones."
   ]
  },
  {
   "cell_type": "code",
   "execution_count": null,
   "id": "0a4dcb93-fe8d-4d66-b46f-9637a0d37728",
   "metadata": {},
   "outputs": [],
   "source": [
    "##### Cambiamso el tipo de datos de \"construction_year\" float a str."
   ]
  },
  {
   "cell_type": "code",
   "execution_count": 188,
   "id": "3384f8d7-8a59-4fdf-a2fb-e85550a8f4e2",
   "metadata": {},
   "outputs": [
    {
     "data": {
      "text/plain": [
       "0         2020\n",
       "1         2007\n",
       "2         2005\n",
       "3         2005\n",
       "4         2009\n",
       "          ... \n",
       "102053    2012\n",
       "102054    2012\n",
       "102055    2012\n",
       "102056    2012\n",
       "102057    2011\n",
       "Name: construction_year, Length: 99138, dtype: object"
      ]
     },
     "execution_count": 188,
     "metadata": {},
     "output_type": "execute_result"
    }
   ],
   "source": [
    "df_clean[\"construction_year\"] = df_clean[\"construction_year\"].astype(int).astype(str)\n",
    "df_clean[\"construction_year\"]"
   ]
  },
  {
   "cell_type": "code",
   "execution_count": 189,
   "id": "18966cd6-7f7f-4cc0-8b5f-87b59b22bd1b",
   "metadata": {},
   "outputs": [],
   "source": [
    "anios_construccion = df_clean[\"construction_year\"]"
   ]
  },
  {
   "cell_type": "code",
   "execution_count": 190,
   "id": "bba87420-584e-407f-93d4-3bbffd7dd5e1",
   "metadata": {},
   "outputs": [
    {
     "data": {
      "text/plain": [
       "2003    4966\n",
       "2004    4865\n",
       "2005    4949\n",
       "2006    5029\n",
       "2007    4940\n",
       "2008    5046\n",
       "2009    4999\n",
       "2010    4966\n",
       "2011    4887\n",
       "2012    5159\n",
       "2013    4855\n",
       "2014    5063\n",
       "2015    4928\n",
       "2016    4858\n",
       "2017    4911\n",
       "2018    4883\n",
       "2019    5004\n",
       "2020    5005\n",
       "2021    4866\n",
       "2022    4959\n",
       "Name: construction_year, dtype: int64"
      ]
     },
     "execution_count": 190,
     "metadata": {},
     "output_type": "execute_result"
    }
   ],
   "source": [
    "# Agrupamos  por año y cuentamos el número de construcciones\n",
    "conteo_construcciones = anios_construccion.value_counts().sort_index()\n",
    "conteo_construcciones"
   ]
  },
  {
   "cell_type": "code",
   "execution_count": 191,
   "id": "ca76ddac-615f-41ff-9f2e-42fd985a1da4",
   "metadata": {},
   "outputs": [
    {
     "data": {
      "text/plain": [
       "'2012'"
      ]
     },
     "execution_count": 191,
     "metadata": {},
     "output_type": "execute_result"
    }
   ],
   "source": [
    "# Año con el máximo número de construcciones\n",
    "maximo_anio_construccion = conteo_construcciones.idxmax()\n",
    "maximo_anio_construccion"
   ]
  },
  {
   "cell_type": "code",
   "execution_count": 196,
   "id": "7f6b9109-3684-4696-806d-db53f0295ff1",
   "metadata": {},
   "outputs": [
    {
     "data": {
      "image/png": "[encoded data removed]",
      "text/plain": [
       "<Figure size 720x432 with 1 Axes>"
      ]
     },
     "metadata": {
      "needs_background": "light"
     },
     "output_type": "display_data"
    }
   ],
   "source": [
    "\n",
    "# Creamos el gráfico de líneas\n",
    "plt.figure(figsize=(10, 6))\n",
    "plt.plot(conteo_construcciones.index, conteo_construcciones.values, marker='o', linestyle='-')\n",
    "\n",
    "# Resaltamos el año con el máximo número de construcciones\n",
    "plt.annotate(f'Máxima construcción {maximo_anio_construccion}',\n",
    "             xy=(maximo_anio_construccion, conteo_construcciones[maximo_anio_construccion]),\n",
    "            \n",
    "             arrowprops=dict(facecolor='red', shrink=0.05))\n",
    "\n",
    "# Etiquetas y título\n",
    "plt.xlabel(\"Año de Construcción\")\n",
    "plt.ylabel(\"Número de Construcciones\")\n",
    "plt.title(\"Número de  Construcciones de habitaciones por Año\")\n",
    "\n",
    "# Muestra el gráfico\n",
    "plt.grid(True)\n",
    "plt.xticks(rotation=45, ha='right')\n",
    "plt.show()\n"
   ]
  },
  {
   "cell_type": "markdown",
   "id": "ef97989a-5d66-4ea4-853d-af93965cdd8c",
   "metadata": {},
   "source": [
    "##### El año 2012 tuvo logar el máximo número de construccionesn de habitaciones"
   ]
  },
  {
   "cell_type": "markdown",
   "id": "2Yc5AWtsK86H",
   "metadata": {
    "id": "2Yc5AWtsK86H"
   },
   "source": [
    "## Tarea 5c: Visualización de datos (Cualquier herramienta)\n",
    "\n",
    "* Con la ayuda de gráficos de caja ilustra lo siguiente\n",
    " * Efecto del número de tasa de revisión en el precio\n",
    " * Efecto de la identidad del host verificada en el precio\n",
    "\n",
    "Si utiliza Python para este ejercicio, por favor incluya el código en las celdas de abajo. Si utiliza cualquier otra herramienta, por favor incluya capturas de pantalla de su trabajo."
   ]
  },
  {
   "cell_type": "markdown",
   "id": "e40c0ad5-ef54-4be4-96df-8a776ba44d85",
   "metadata": {
    "id": "u7w_1H1sK86H"
   },
   "source": [
    "### Efecto del número de tasa de revisión en el precio"
   ]
  },
  {
   "cell_type": "code",
   "execution_count": 198,
   "id": "658914e8-ddbc-4825-aa60-90efd4635664",
   "metadata": {},
   "outputs": [
    {
     "data": {
      "image/png": "[encoded data removed]",
      "text/plain": [
       "<Figure size 432x288 with 1 Axes>"
      ]
     },
     "metadata": {
      "needs_background": "light"
     },
     "output_type": "display_data"
    }
   ],
   "source": [
    "sns.boxplot(x='review_rate_number', y='price', data=df_clean);"
   ]
  },
  {
   "cell_type": "markdown",
   "id": "260d2713-8e3e-41d0-96f5-83da77cb6376",
   "metadata": {},
   "source": [
    "### Efecto de la identidad del host verificada en el precio"
   ]
  },
  {
   "cell_type": "code",
   "execution_count": 201,
   "id": "79ae0ab4-21a7-4c56-890b-6b19bca89b95",
   "metadata": {},
   "outputs": [
    {
     "data": {
      "text/plain": [
       "Index(['name', 'host_identity_verified', 'host_name', 'neighbourhood_group',\n",
       "       'neighbourhood', 'lat', 'long', 'instant_bookable',\n",
       "       'cancellation_policy', 'room_type', 'construction_year', 'price',\n",
       "       'service_fee', 'minimum_nights', 'number_of_reviews', 'last_review',\n",
       "       'reviews_per_month', 'review_rate_number',\n",
       "       'calculated_host_listings_count', 'days_booked', 'house_rules'],\n",
       "      dtype='object')"
      ]
     },
     "execution_count": 201,
     "metadata": {},
     "output_type": "execute_result"
    }
   ],
   "source": [
    "df_clean.columns"
   ]
  },
  {
   "cell_type": "code",
   "execution_count": 202,
   "id": "b8a81a9f-d2ab-4326-9e00-5067c4d9ec70",
   "metadata": {},
   "outputs": [
    {
     "data": {
      "text/plain": [
       "host_identity_verified\n",
       "unconfirmed               49762\n",
       "verified                  49376\n",
       "dtype: int64"
      ]
     },
     "execution_count": 202,
     "metadata": {},
     "output_type": "execute_result"
    }
   ],
   "source": [
    "df_clean[['host_identity_verified']].value_counts()"
   ]
  },
  {
   "cell_type": "markdown",
   "id": "76b94ad1-5247-4625-b224-9be71170a4c8",
   "metadata": {},
   "source": [
    "##### Filtramos los datos para otener \"verified\""
   ]
  },
  {
   "cell_type": "code",
   "execution_count": 205,
   "id": "526a615f-8bfa-44a9-af02-6a951868de2d",
   "metadata": {},
   "outputs": [
    {
     "data": {
      "text/html": [
       "<div>\n",
       "<style scoped>\n",
       "    .dataframe tbody tr th:only-of-type {\n",
       "        vertical-align: middle;\n",
       "    }\n",
       "\n",
       "    .dataframe tbody tr th {\n",
       "        vertical-align: top;\n",
       "    }\n",
       "\n",
       "    .dataframe thead th {\n",
       "        text-align: right;\n",
       "    }\n",
       "</style>\n",
       "<table border=\"1\" class=\"dataframe\">\n",
       "  <thead>\n",
       "    <tr style=\"text-align: right;\">\n",
       "      <th></th>\n",
       "      <th>name</th>\n",
       "      <th>host_identity_verified</th>\n",
       "      <th>host_name</th>\n",
       "      <th>neighbourhood_group</th>\n",
       "      <th>neighbourhood</th>\n",
       "      <th>lat</th>\n",
       "      <th>long</th>\n",
       "      <th>instant_bookable</th>\n",
       "      <th>cancellation_policy</th>\n",
       "      <th>room_type</th>\n",
       "      <th>...</th>\n",
       "      <th>price</th>\n",
       "      <th>service_fee</th>\n",
       "      <th>minimum_nights</th>\n",
       "      <th>number_of_reviews</th>\n",
       "      <th>last_review</th>\n",
       "      <th>reviews_per_month</th>\n",
       "      <th>review_rate_number</th>\n",
       "      <th>calculated_host_listings_count</th>\n",
       "      <th>days_booked</th>\n",
       "      <th>house_rules</th>\n",
       "    </tr>\n",
       "  </thead>\n",
       "  <tbody>\n",
       "    <tr>\n",
       "      <th>1</th>\n",
       "      <td>Skylit Midtown Castle</td>\n",
       "      <td>verified</td>\n",
       "      <td>Jenna</td>\n",
       "      <td>Manhattan</td>\n",
       "      <td>Midtown</td>\n",
       "      <td>40.75362</td>\n",
       "      <td>-73.98377</td>\n",
       "      <td>False</td>\n",
       "      <td>moderate</td>\n",
       "      <td>Entire home/apt</td>\n",
       "      <td>...</td>\n",
       "      <td>142.0</td>\n",
       "      <td>28.0</td>\n",
       "      <td>30.0</td>\n",
       "      <td>45.0</td>\n",
       "      <td>5/21/2022</td>\n",
       "      <td>0.38</td>\n",
       "      <td>4.0</td>\n",
       "      <td>2.0</td>\n",
       "      <td>228.0</td>\n",
       "      <td>Pet friendly but please confirm with me if the...</td>\n",
       "    </tr>\n",
       "    <tr>\n",
       "      <th>4</th>\n",
       "      <td>Entire Apt: Spacious Studio/Loft by central park</td>\n",
       "      <td>verified</td>\n",
       "      <td>Lyndon</td>\n",
       "      <td>Manhattan</td>\n",
       "      <td>East Harlem</td>\n",
       "      <td>40.79851</td>\n",
       "      <td>-73.94399</td>\n",
       "      <td>False</td>\n",
       "      <td>moderate</td>\n",
       "      <td>Entire home/apt</td>\n",
       "      <td>...</td>\n",
       "      <td>204.0</td>\n",
       "      <td>41.0</td>\n",
       "      <td>10.0</td>\n",
       "      <td>9.0</td>\n",
       "      <td>11/19/2018</td>\n",
       "      <td>0.10</td>\n",
       "      <td>3.0</td>\n",
       "      <td>1.0</td>\n",
       "      <td>289.0</td>\n",
       "      <td>Please no smoking in the house, porch or on th...</td>\n",
       "    </tr>\n",
       "    <tr>\n",
       "      <th>5</th>\n",
       "      <td>Large Cozy 1 BR Apartment In Midtown East</td>\n",
       "      <td>verified</td>\n",
       "      <td>Michelle</td>\n",
       "      <td>Manhattan</td>\n",
       "      <td>Murray Hill</td>\n",
       "      <td>40.74767</td>\n",
       "      <td>-73.97500</td>\n",
       "      <td>True</td>\n",
       "      <td>flexible</td>\n",
       "      <td>Entire home/apt</td>\n",
       "      <td>...</td>\n",
       "      <td>577.0</td>\n",
       "      <td>115.0</td>\n",
       "      <td>3.0</td>\n",
       "      <td>74.0</td>\n",
       "      <td>6/22/2019</td>\n",
       "      <td>0.59</td>\n",
       "      <td>3.0</td>\n",
       "      <td>1.0</td>\n",
       "      <td>374.0</td>\n",
       "      <td>No smoking, please, and no drugs.</td>\n",
       "    </tr>\n",
       "    <tr>\n",
       "      <th>8</th>\n",
       "      <td>Large Furnished Room Near B'way</td>\n",
       "      <td>verified</td>\n",
       "      <td>Evelyn</td>\n",
       "      <td>Manhattan</td>\n",
       "      <td>Hell's Kitchen</td>\n",
       "      <td>40.76489</td>\n",
       "      <td>-73.98493</td>\n",
       "      <td>True</td>\n",
       "      <td>strict</td>\n",
       "      <td>Private room</td>\n",
       "      <td>...</td>\n",
       "      <td>1018.0</td>\n",
       "      <td>204.0</td>\n",
       "      <td>2.0</td>\n",
       "      <td>430.0</td>\n",
       "      <td>6/24/2019</td>\n",
       "      <td>3.47</td>\n",
       "      <td>3.0</td>\n",
       "      <td>1.0</td>\n",
       "      <td>180.0</td>\n",
       "      <td>- Please clean up after yourself when using th...</td>\n",
       "    </tr>\n",
       "    <tr>\n",
       "      <th>10</th>\n",
       "      <td>Cute &amp; Cozy Lower East Side 1 bdrm</td>\n",
       "      <td>verified</td>\n",
       "      <td>Miranda</td>\n",
       "      <td>Manhattan</td>\n",
       "      <td>Chinatown</td>\n",
       "      <td>40.71344</td>\n",
       "      <td>-73.99037</td>\n",
       "      <td>False</td>\n",
       "      <td>flexible</td>\n",
       "      <td>Entire home/apt</td>\n",
       "      <td>...</td>\n",
       "      <td>319.0</td>\n",
       "      <td>64.0</td>\n",
       "      <td>1.0</td>\n",
       "      <td>160.0</td>\n",
       "      <td>6/9/2019</td>\n",
       "      <td>1.33</td>\n",
       "      <td>3.0</td>\n",
       "      <td>4.0</td>\n",
       "      <td>1.0</td>\n",
       "      <td>#NAME?</td>\n",
       "    </tr>\n",
       "  </tbody>\n",
       "</table>\n",
       "<p>5 rows × 21 columns</p>\n",
       "</div>"
      ],
      "text/plain": [
       "                                                name host_identity_verified  \\\n",
       "1                              Skylit Midtown Castle               verified   \n",
       "4   Entire Apt: Spacious Studio/Loft by central park               verified   \n",
       "5          Large Cozy 1 BR Apartment In Midtown East               verified   \n",
       "8                    Large Furnished Room Near B'way               verified   \n",
       "10                Cute & Cozy Lower East Side 1 bdrm               verified   \n",
       "\n",
       "   host_name neighbourhood_group   neighbourhood       lat      long  \\\n",
       "1      Jenna           Manhattan         Midtown  40.75362 -73.98377   \n",
       "4     Lyndon           Manhattan     East Harlem  40.79851 -73.94399   \n",
       "5   Michelle           Manhattan     Murray Hill  40.74767 -73.97500   \n",
       "8     Evelyn           Manhattan  Hell's Kitchen  40.76489 -73.98493   \n",
       "10   Miranda           Manhattan       Chinatown  40.71344 -73.99037   \n",
       "\n",
       "    instant_bookable cancellation_policy        room_type  ...   price  \\\n",
       "1              False            moderate  Entire home/apt  ...   142.0   \n",
       "4              False            moderate  Entire home/apt  ...   204.0   \n",
       "5               True            flexible  Entire home/apt  ...   577.0   \n",
       "8               True              strict     Private room  ...  1018.0   \n",
       "10             False            flexible  Entire home/apt  ...   319.0   \n",
       "\n",
       "    service_fee  minimum_nights  number_of_reviews  last_review  \\\n",
       "1          28.0            30.0               45.0    5/21/2022   \n",
       "4          41.0            10.0                9.0   11/19/2018   \n",
       "5         115.0             3.0               74.0    6/22/2019   \n",
       "8         204.0             2.0              430.0    6/24/2019   \n",
       "10         64.0             1.0              160.0     6/9/2019   \n",
       "\n",
       "   reviews_per_month  review_rate_number  calculated_host_listings_count  \\\n",
       "1               0.38                 4.0                             2.0   \n",
       "4               0.10                 3.0                             1.0   \n",
       "5               0.59                 3.0                             1.0   \n",
       "8               3.47                 3.0                             1.0   \n",
       "10              1.33                 3.0                             4.0   \n",
       "\n",
       "    days_booked                                        house_rules  \n",
       "1         228.0  Pet friendly but please confirm with me if the...  \n",
       "4         289.0  Please no smoking in the house, porch or on th...  \n",
       "5         374.0                  No smoking, please, and no drugs.  \n",
       "8         180.0  - Please clean up after yourself when using th...  \n",
       "10          1.0                                             #NAME?  \n",
       "\n",
       "[5 rows x 21 columns]"
      ]
     },
     "execution_count": 205,
     "metadata": {},
     "output_type": "execute_result"
    }
   ],
   "source": [
    "verified = df_clean[df_clean['host_identity_verified'] == 'verified']\n",
    "verified.head()"
   ]
  },
  {
   "cell_type": "markdown",
   "id": "d7a024b0-c716-4f8b-8c57-eb1fd1b2f763",
   "metadata": {},
   "source": [
    "##### Filtramos los datos para otener \"unconfirmed\""
   ]
  },
  {
   "cell_type": "code",
   "execution_count": 207,
   "id": "7405b18f-4d17-4aaa-b804-4e08f67adac0",
   "metadata": {},
   "outputs": [
    {
     "data": {
      "text/html": [
       "<div>\n",
       "<style scoped>\n",
       "    .dataframe tbody tr th:only-of-type {\n",
       "        vertical-align: middle;\n",
       "    }\n",
       "\n",
       "    .dataframe tbody tr th {\n",
       "        vertical-align: top;\n",
       "    }\n",
       "\n",
       "    .dataframe thead th {\n",
       "        text-align: right;\n",
       "    }\n",
       "</style>\n",
       "<table border=\"1\" class=\"dataframe\">\n",
       "  <thead>\n",
       "    <tr style=\"text-align: right;\">\n",
       "      <th></th>\n",
       "      <th>name</th>\n",
       "      <th>host_identity_verified</th>\n",
       "      <th>host_name</th>\n",
       "      <th>neighbourhood_group</th>\n",
       "      <th>neighbourhood</th>\n",
       "      <th>lat</th>\n",
       "      <th>long</th>\n",
       "      <th>instant_bookable</th>\n",
       "      <th>cancellation_policy</th>\n",
       "      <th>room_type</th>\n",
       "      <th>...</th>\n",
       "      <th>price</th>\n",
       "      <th>service_fee</th>\n",
       "      <th>minimum_nights</th>\n",
       "      <th>number_of_reviews</th>\n",
       "      <th>last_review</th>\n",
       "      <th>reviews_per_month</th>\n",
       "      <th>review_rate_number</th>\n",
       "      <th>calculated_host_listings_count</th>\n",
       "      <th>days_booked</th>\n",
       "      <th>house_rules</th>\n",
       "    </tr>\n",
       "  </thead>\n",
       "  <tbody>\n",
       "    <tr>\n",
       "      <th>0</th>\n",
       "      <td>Clean &amp; quiet apt home by the park</td>\n",
       "      <td>unconfirmed</td>\n",
       "      <td>Madaline</td>\n",
       "      <td>Brooklyn</td>\n",
       "      <td>Kensington</td>\n",
       "      <td>40.64749</td>\n",
       "      <td>-73.97237</td>\n",
       "      <td>False</td>\n",
       "      <td>strict</td>\n",
       "      <td>Private room</td>\n",
       "      <td>...</td>\n",
       "      <td>966.0</td>\n",
       "      <td>193.0</td>\n",
       "      <td>10.0</td>\n",
       "      <td>9.0</td>\n",
       "      <td>10/19/2021</td>\n",
       "      <td>0.21</td>\n",
       "      <td>4.0</td>\n",
       "      <td>6.0</td>\n",
       "      <td>286.0</td>\n",
       "      <td>Clean up and treat the home the way you'd like...</td>\n",
       "    </tr>\n",
       "    <tr>\n",
       "      <th>2</th>\n",
       "      <td>THE VILLAGE OF HARLEM....NEW YORK !</td>\n",
       "      <td>unconfirmed</td>\n",
       "      <td>Elise</td>\n",
       "      <td>Manhattan</td>\n",
       "      <td>Harlem</td>\n",
       "      <td>40.80902</td>\n",
       "      <td>-73.94190</td>\n",
       "      <td>True</td>\n",
       "      <td>flexible</td>\n",
       "      <td>Private room</td>\n",
       "      <td>...</td>\n",
       "      <td>620.0</td>\n",
       "      <td>124.0</td>\n",
       "      <td>3.0</td>\n",
       "      <td>0.0</td>\n",
       "      <td>6/23/2019</td>\n",
       "      <td>0.74</td>\n",
       "      <td>5.0</td>\n",
       "      <td>1.0</td>\n",
       "      <td>352.0</td>\n",
       "      <td>I encourage you to use my kitchen, cooking and...</td>\n",
       "    </tr>\n",
       "    <tr>\n",
       "      <th>3</th>\n",
       "      <td>Home away from home</td>\n",
       "      <td>unconfirmed</td>\n",
       "      <td>Garry</td>\n",
       "      <td>Brooklyn</td>\n",
       "      <td>Clinton Hill</td>\n",
       "      <td>40.68514</td>\n",
       "      <td>-73.95976</td>\n",
       "      <td>True</td>\n",
       "      <td>moderate</td>\n",
       "      <td>Entire home/apt</td>\n",
       "      <td>...</td>\n",
       "      <td>368.0</td>\n",
       "      <td>74.0</td>\n",
       "      <td>30.0</td>\n",
       "      <td>270.0</td>\n",
       "      <td>7/5/2019</td>\n",
       "      <td>4.64</td>\n",
       "      <td>4.0</td>\n",
       "      <td>1.0</td>\n",
       "      <td>322.0</td>\n",
       "      <td>#NAME?</td>\n",
       "    </tr>\n",
       "    <tr>\n",
       "      <th>6</th>\n",
       "      <td>BlissArtsSpace!</td>\n",
       "      <td>unconfirmed</td>\n",
       "      <td>Alberta</td>\n",
       "      <td>Brooklyn</td>\n",
       "      <td>Bedford-Stuyvesant</td>\n",
       "      <td>40.68688</td>\n",
       "      <td>-73.95596</td>\n",
       "      <td>False</td>\n",
       "      <td>moderate</td>\n",
       "      <td>Private room</td>\n",
       "      <td>...</td>\n",
       "      <td>71.0</td>\n",
       "      <td>14.0</td>\n",
       "      <td>45.0</td>\n",
       "      <td>49.0</td>\n",
       "      <td>10/5/2017</td>\n",
       "      <td>0.40</td>\n",
       "      <td>5.0</td>\n",
       "      <td>1.0</td>\n",
       "      <td>224.0</td>\n",
       "      <td>Please no shoes in the house so bring slippers...</td>\n",
       "    </tr>\n",
       "    <tr>\n",
       "      <th>7</th>\n",
       "      <td>BlissArtsSpace!</td>\n",
       "      <td>unconfirmed</td>\n",
       "      <td>Emma</td>\n",
       "      <td>Brooklyn</td>\n",
       "      <td>Bedford-Stuyvesant</td>\n",
       "      <td>40.68688</td>\n",
       "      <td>-73.95596</td>\n",
       "      <td>False</td>\n",
       "      <td>moderate</td>\n",
       "      <td>Private room</td>\n",
       "      <td>...</td>\n",
       "      <td>1060.0</td>\n",
       "      <td>212.0</td>\n",
       "      <td>45.0</td>\n",
       "      <td>49.0</td>\n",
       "      <td>10/5/2017</td>\n",
       "      <td>0.40</td>\n",
       "      <td>5.0</td>\n",
       "      <td>1.0</td>\n",
       "      <td>219.0</td>\n",
       "      <td>House Guidelines for our BnB We are delighted ...</td>\n",
       "    </tr>\n",
       "  </tbody>\n",
       "</table>\n",
       "<p>5 rows × 21 columns</p>\n",
       "</div>"
      ],
      "text/plain": [
       "                                  name host_identity_verified host_name  \\\n",
       "0   Clean & quiet apt home by the park            unconfirmed  Madaline   \n",
       "2  THE VILLAGE OF HARLEM....NEW YORK !            unconfirmed     Elise   \n",
       "3                  Home away from home            unconfirmed     Garry   \n",
       "6                      BlissArtsSpace!            unconfirmed   Alberta   \n",
       "7                      BlissArtsSpace!            unconfirmed      Emma   \n",
       "\n",
       "  neighbourhood_group       neighbourhood       lat      long  \\\n",
       "0            Brooklyn          Kensington  40.64749 -73.97237   \n",
       "2           Manhattan              Harlem  40.80902 -73.94190   \n",
       "3            Brooklyn        Clinton Hill  40.68514 -73.95976   \n",
       "6            Brooklyn  Bedford-Stuyvesant  40.68688 -73.95596   \n",
       "7            Brooklyn  Bedford-Stuyvesant  40.68688 -73.95596   \n",
       "\n",
       "   instant_bookable cancellation_policy        room_type  ...   price  \\\n",
       "0             False              strict     Private room  ...   966.0   \n",
       "2              True            flexible     Private room  ...   620.0   \n",
       "3              True            moderate  Entire home/apt  ...   368.0   \n",
       "6             False            moderate     Private room  ...    71.0   \n",
       "7             False            moderate     Private room  ...  1060.0   \n",
       "\n",
       "   service_fee  minimum_nights  number_of_reviews  last_review  \\\n",
       "0        193.0            10.0                9.0   10/19/2021   \n",
       "2        124.0             3.0                0.0    6/23/2019   \n",
       "3         74.0            30.0              270.0     7/5/2019   \n",
       "6         14.0            45.0               49.0    10/5/2017   \n",
       "7        212.0            45.0               49.0    10/5/2017   \n",
       "\n",
       "  reviews_per_month  review_rate_number  calculated_host_listings_count  \\\n",
       "0              0.21                 4.0                             6.0   \n",
       "2              0.74                 5.0                             1.0   \n",
       "3              4.64                 4.0                             1.0   \n",
       "6              0.40                 5.0                             1.0   \n",
       "7              0.40                 5.0                             1.0   \n",
       "\n",
       "   days_booked                                        house_rules  \n",
       "0        286.0  Clean up and treat the home the way you'd like...  \n",
       "2        352.0  I encourage you to use my kitchen, cooking and...  \n",
       "3        322.0                                             #NAME?  \n",
       "6        224.0  Please no shoes in the house so bring slippers...  \n",
       "7        219.0  House Guidelines for our BnB We are delighted ...  \n",
       "\n",
       "[5 rows x 21 columns]"
      ]
     },
     "execution_count": 207,
     "metadata": {},
     "output_type": "execute_result"
    }
   ],
   "source": [
    "unconfirmed = df_clean[df_clean['host_identity_verified'] == 'unconfirmed']\n",
    "unconfirmed.head()"
   ]
  },
  {
   "cell_type": "code",
   "execution_count": 208,
   "id": "UM7P_KhFK86I",
   "metadata": {
    "id": "UM7P_KhFK86I"
   },
   "outputs": [
    {
     "data": {
      "image/png": "[encoded data removed]",
      "text/plain": [
       "<Figure size 432x288 with 1 Axes>"
      ]
     },
     "metadata": {
      "needs_background": "light"
     },
     "output_type": "display_data"
    }
   ],
   "source": [
    "sns.boxplot(x='host_identity_verified', y='price', data=df_clean);"
   ]
  },
  {
   "cell_type": "code",
   "execution_count": null,
   "id": "ad9ee98d-971e-4d75-a325-beb51bcb646e",
   "metadata": {},
   "outputs": [],
   "source": []
  },
  {
   "cell_type": "code",
   "execution_count": null,
   "id": "ee2e0b8f-faa8-41ef-ae62-c5dd95a625d7",
   "metadata": {},
   "outputs": [],
   "source": []
  }
 ],
 "metadata": {
  "colab": {
   "provenance": []
  },
  "kernelspec": {
   "display_name": "Python 3 (ipykernel)",
   "language": "python",
   "name": "python3"
  },
  "language_info": {
   "codemirror_mode": {
    "name": "ipython",
    "version": 3
   },
   "file_extension": ".py",
   "mimetype": "text/x-python",
   "name": "python",
   "nbconvert_exporter": "python",
   "pygments_lexer": "ipython3",
   "version": "3.9.7"
  },
  "nteract": {
   "version": "0.28.0"
  },
  "toc": {
   "base_numbering": 1,
   "nav_menu": {},
   "number_sections": false,
   "sideBar": true,
   "skip_h1_title": true,
   "title_cell": "Table of Contents",
   "title_sidebar": "Contents",
   "toc_cell": false,
   "toc_position": {},
   "toc_section_display": true,
   "toc_window_display": true
  },
  "vscode": {
   "interpreter": {
    "hash": "31f2aee4e71d21fbe5cf8b01ff0e069b9275f58929596ceb00d14d90e3e16cd6"
   }
  }
 },
 "nbformat": 4,
 "nbformat_minor": 5
}
